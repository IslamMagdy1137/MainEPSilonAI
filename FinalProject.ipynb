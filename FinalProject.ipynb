{
 "cells": [
  {
   "cell_type": "markdown",
   "metadata": {},
   "source": [
    "# Epsilon Graduation Project"
   ]
  },
  {
   "cell_type": "markdown",
   "metadata": {},
   "source": [
    "## Used Cars Price Prediction"
   ]
  },
  {
   "cell_type": "code",
   "execution_count": 1,
   "metadata": {},
   "outputs": [],
   "source": [
    "# after reading and understanding the data and each column meaning\n",
    "# started with the data preprocessing \n",
    "\n",
    "# then the uni variant data analysis\n",
    "# top region got have resale cars\n",
    "# most car brand exist in the market for resale\n",
    "# most brand year cars are in the market\n",
    "# average odometer cars resale in every region\n",
    "# cars conditions in the market\n",
    "# Most common fuel type \n",
    "# price distribution \n",
    "# top manufacturer car exist\n",
    "# cars cylinders make difference in petrol usage\n",
    "# top posting days \n",
    "# long and lat diffiens the location\n",
    "# top country \n",
    "# top state\n",
    "\n",
    "# then the bi variant analysis\n",
    "# brand cars and thier cylinders\n",
    "# brand cars and their colors \n",
    "# most expensive brand cars\n",
    "# top cars made muc odometer before resale\n",
    "# brand cars and thier conditions\n",
    "\n",
    "# using machine learning algorithms like linear regression, SVM and RandomForestRegressor to predict cars price\n",
    "# we use the three algorithms and tune thier hyper parameter to reach the maximum accuracy and choose the best algorithm to use it\n",
    "# use ensemble method with the three algorithms which will tell use the best algorithm and the best accuracy\n",
    "# using "
   ]
  },
  {
   "cell_type": "code",
   "execution_count": 2,
   "metadata": {
    "execution": {
     "iopub.execute_input": "2022-09-11T11:40:06.845645Z",
     "iopub.status.busy": "2022-09-11T11:40:06.844503Z",
     "iopub.status.idle": "2022-09-11T11:40:07.595187Z",
     "shell.execute_reply": "2022-09-11T11:40:07.593767Z",
     "shell.execute_reply.started": "2022-09-11T11:40:06.845569Z"
    }
   },
   "outputs": [],
   "source": [
    "import pandas as pd \n",
    "import numpy as np\n",
    "import seaborn as sns\n",
    "import matplotlib.pyplot as plt \n",
    "from sklearn.impute import SimpleImputer,KNNImputer\n",
    "from datasist.structdata import detect_outliers\n",
    "from sklearn.model_selection import train_test_split\n",
    "import category_encoders as ce\n",
    "from sklearn.metrics import mean_squared_error\n",
    "from sklearn.preprocessing import PowerTransformer"
   ]
  },
  {
   "cell_type": "code",
   "execution_count": 3,
   "metadata": {
    "execution": {
     "iopub.execute_input": "2022-09-11T11:40:07.603539Z",
     "iopub.status.busy": "2022-09-11T11:40:07.602665Z",
     "iopub.status.idle": "2022-09-11T11:40:07.653865Z",
     "shell.execute_reply": "2022-09-11T11:40:07.652608Z",
     "shell.execute_reply.started": "2022-09-11T11:40:07.6035Z"
    }
   },
   "outputs": [
    {
     "data": {
      "text/html": [
       "<div>\n",
       "<style scoped>\n",
       "    .dataframe tbody tr th:only-of-type {\n",
       "        vertical-align: middle;\n",
       "    }\n",
       "\n",
       "    .dataframe tbody tr th {\n",
       "        vertical-align: top;\n",
       "    }\n",
       "\n",
       "    .dataframe thead th {\n",
       "        text-align: right;\n",
       "    }\n",
       "</style>\n",
       "<table border=\"1\" class=\"dataframe\">\n",
       "  <thead>\n",
       "    <tr style=\"text-align: right;\">\n",
       "      <th></th>\n",
       "      <th>Unnamed: 0</th>\n",
       "      <th>Name</th>\n",
       "      <th>Location</th>\n",
       "      <th>Year</th>\n",
       "      <th>Kilometers_Driven</th>\n",
       "      <th>Fuel_Type</th>\n",
       "      <th>Transmission</th>\n",
       "      <th>Owner_Type</th>\n",
       "      <th>Mileage</th>\n",
       "      <th>Engine</th>\n",
       "      <th>Power</th>\n",
       "      <th>Seats</th>\n",
       "      <th>New_Price</th>\n",
       "      <th>Price</th>\n",
       "    </tr>\n",
       "  </thead>\n",
       "  <tbody>\n",
       "    <tr>\n",
       "      <th>0</th>\n",
       "      <td>0</td>\n",
       "      <td>Maruti Wagon R LXI CNG</td>\n",
       "      <td>Mumbai</td>\n",
       "      <td>2010</td>\n",
       "      <td>72000</td>\n",
       "      <td>CNG</td>\n",
       "      <td>Manual</td>\n",
       "      <td>First</td>\n",
       "      <td>26.6 km/kg</td>\n",
       "      <td>998 CC</td>\n",
       "      <td>58.16 bhp</td>\n",
       "      <td>5.0</td>\n",
       "      <td>NaN</td>\n",
       "      <td>1.75</td>\n",
       "    </tr>\n",
       "    <tr>\n",
       "      <th>1</th>\n",
       "      <td>1</td>\n",
       "      <td>Hyundai Creta 1.6 CRDi SX Option</td>\n",
       "      <td>Pune</td>\n",
       "      <td>2015</td>\n",
       "      <td>41000</td>\n",
       "      <td>Diesel</td>\n",
       "      <td>Manual</td>\n",
       "      <td>First</td>\n",
       "      <td>19.67 kmpl</td>\n",
       "      <td>1582 CC</td>\n",
       "      <td>126.2 bhp</td>\n",
       "      <td>5.0</td>\n",
       "      <td>NaN</td>\n",
       "      <td>12.50</td>\n",
       "    </tr>\n",
       "    <tr>\n",
       "      <th>2</th>\n",
       "      <td>2</td>\n",
       "      <td>Honda Jazz V</td>\n",
       "      <td>Chennai</td>\n",
       "      <td>2011</td>\n",
       "      <td>46000</td>\n",
       "      <td>Petrol</td>\n",
       "      <td>Manual</td>\n",
       "      <td>First</td>\n",
       "      <td>18.2 kmpl</td>\n",
       "      <td>1199 CC</td>\n",
       "      <td>88.7 bhp</td>\n",
       "      <td>5.0</td>\n",
       "      <td>8.61 Lakh</td>\n",
       "      <td>4.50</td>\n",
       "    </tr>\n",
       "    <tr>\n",
       "      <th>3</th>\n",
       "      <td>3</td>\n",
       "      <td>Maruti Ertiga VDI</td>\n",
       "      <td>Chennai</td>\n",
       "      <td>2012</td>\n",
       "      <td>87000</td>\n",
       "      <td>Diesel</td>\n",
       "      <td>Manual</td>\n",
       "      <td>First</td>\n",
       "      <td>20.77 kmpl</td>\n",
       "      <td>1248 CC</td>\n",
       "      <td>88.76 bhp</td>\n",
       "      <td>7.0</td>\n",
       "      <td>NaN</td>\n",
       "      <td>6.00</td>\n",
       "    </tr>\n",
       "    <tr>\n",
       "      <th>4</th>\n",
       "      <td>4</td>\n",
       "      <td>Audi A4 New 2.0 TDI Multitronic</td>\n",
       "      <td>Coimbatore</td>\n",
       "      <td>2013</td>\n",
       "      <td>40670</td>\n",
       "      <td>Diesel</td>\n",
       "      <td>Automatic</td>\n",
       "      <td>Second</td>\n",
       "      <td>15.2 kmpl</td>\n",
       "      <td>1968 CC</td>\n",
       "      <td>140.8 bhp</td>\n",
       "      <td>5.0</td>\n",
       "      <td>NaN</td>\n",
       "      <td>17.74</td>\n",
       "    </tr>\n",
       "    <tr>\n",
       "      <th>...</th>\n",
       "      <td>...</td>\n",
       "      <td>...</td>\n",
       "      <td>...</td>\n",
       "      <td>...</td>\n",
       "      <td>...</td>\n",
       "      <td>...</td>\n",
       "      <td>...</td>\n",
       "      <td>...</td>\n",
       "      <td>...</td>\n",
       "      <td>...</td>\n",
       "      <td>...</td>\n",
       "      <td>...</td>\n",
       "      <td>...</td>\n",
       "      <td>...</td>\n",
       "    </tr>\n",
       "    <tr>\n",
       "      <th>6014</th>\n",
       "      <td>6014</td>\n",
       "      <td>Maruti Swift VDI</td>\n",
       "      <td>Delhi</td>\n",
       "      <td>2014</td>\n",
       "      <td>27365</td>\n",
       "      <td>Diesel</td>\n",
       "      <td>Manual</td>\n",
       "      <td>First</td>\n",
       "      <td>28.4 kmpl</td>\n",
       "      <td>1248 CC</td>\n",
       "      <td>74 bhp</td>\n",
       "      <td>5.0</td>\n",
       "      <td>7.88 Lakh</td>\n",
       "      <td>4.75</td>\n",
       "    </tr>\n",
       "    <tr>\n",
       "      <th>6015</th>\n",
       "      <td>6015</td>\n",
       "      <td>Hyundai Xcent 1.1 CRDi S</td>\n",
       "      <td>Jaipur</td>\n",
       "      <td>2015</td>\n",
       "      <td>100000</td>\n",
       "      <td>Diesel</td>\n",
       "      <td>Manual</td>\n",
       "      <td>First</td>\n",
       "      <td>24.4 kmpl</td>\n",
       "      <td>1120 CC</td>\n",
       "      <td>71 bhp</td>\n",
       "      <td>5.0</td>\n",
       "      <td>NaN</td>\n",
       "      <td>4.00</td>\n",
       "    </tr>\n",
       "    <tr>\n",
       "      <th>6016</th>\n",
       "      <td>6016</td>\n",
       "      <td>Mahindra Xylo D4 BSIV</td>\n",
       "      <td>Jaipur</td>\n",
       "      <td>2012</td>\n",
       "      <td>55000</td>\n",
       "      <td>Diesel</td>\n",
       "      <td>Manual</td>\n",
       "      <td>Second</td>\n",
       "      <td>14.0 kmpl</td>\n",
       "      <td>2498 CC</td>\n",
       "      <td>112 bhp</td>\n",
       "      <td>8.0</td>\n",
       "      <td>NaN</td>\n",
       "      <td>2.90</td>\n",
       "    </tr>\n",
       "    <tr>\n",
       "      <th>6017</th>\n",
       "      <td>6017</td>\n",
       "      <td>Maruti Wagon R VXI</td>\n",
       "      <td>Kolkata</td>\n",
       "      <td>2013</td>\n",
       "      <td>46000</td>\n",
       "      <td>Petrol</td>\n",
       "      <td>Manual</td>\n",
       "      <td>First</td>\n",
       "      <td>18.9 kmpl</td>\n",
       "      <td>998 CC</td>\n",
       "      <td>67.1 bhp</td>\n",
       "      <td>5.0</td>\n",
       "      <td>NaN</td>\n",
       "      <td>2.65</td>\n",
       "    </tr>\n",
       "    <tr>\n",
       "      <th>6018</th>\n",
       "      <td>6018</td>\n",
       "      <td>Chevrolet Beat Diesel</td>\n",
       "      <td>Hyderabad</td>\n",
       "      <td>2011</td>\n",
       "      <td>47000</td>\n",
       "      <td>Diesel</td>\n",
       "      <td>Manual</td>\n",
       "      <td>First</td>\n",
       "      <td>25.44 kmpl</td>\n",
       "      <td>936 CC</td>\n",
       "      <td>57.6 bhp</td>\n",
       "      <td>5.0</td>\n",
       "      <td>NaN</td>\n",
       "      <td>2.50</td>\n",
       "    </tr>\n",
       "  </tbody>\n",
       "</table>\n",
       "<p>6019 rows × 14 columns</p>\n",
       "</div>"
      ],
      "text/plain": [
       "      Unnamed: 0                              Name    Location  Year  \\\n",
       "0              0            Maruti Wagon R LXI CNG      Mumbai  2010   \n",
       "1              1  Hyundai Creta 1.6 CRDi SX Option        Pune  2015   \n",
       "2              2                      Honda Jazz V     Chennai  2011   \n",
       "3              3                 Maruti Ertiga VDI     Chennai  2012   \n",
       "4              4   Audi A4 New 2.0 TDI Multitronic  Coimbatore  2013   \n",
       "...          ...                               ...         ...   ...   \n",
       "6014        6014                  Maruti Swift VDI       Delhi  2014   \n",
       "6015        6015          Hyundai Xcent 1.1 CRDi S      Jaipur  2015   \n",
       "6016        6016             Mahindra Xylo D4 BSIV      Jaipur  2012   \n",
       "6017        6017                Maruti Wagon R VXI     Kolkata  2013   \n",
       "6018        6018             Chevrolet Beat Diesel   Hyderabad  2011   \n",
       "\n",
       "      Kilometers_Driven Fuel_Type Transmission Owner_Type     Mileage  \\\n",
       "0                 72000       CNG       Manual      First  26.6 km/kg   \n",
       "1                 41000    Diesel       Manual      First  19.67 kmpl   \n",
       "2                 46000    Petrol       Manual      First   18.2 kmpl   \n",
       "3                 87000    Diesel       Manual      First  20.77 kmpl   \n",
       "4                 40670    Diesel    Automatic     Second   15.2 kmpl   \n",
       "...                 ...       ...          ...        ...         ...   \n",
       "6014              27365    Diesel       Manual      First   28.4 kmpl   \n",
       "6015             100000    Diesel       Manual      First   24.4 kmpl   \n",
       "6016              55000    Diesel       Manual     Second   14.0 kmpl   \n",
       "6017              46000    Petrol       Manual      First   18.9 kmpl   \n",
       "6018              47000    Diesel       Manual      First  25.44 kmpl   \n",
       "\n",
       "       Engine      Power  Seats  New_Price  Price  \n",
       "0      998 CC  58.16 bhp    5.0        NaN   1.75  \n",
       "1     1582 CC  126.2 bhp    5.0        NaN  12.50  \n",
       "2     1199 CC   88.7 bhp    5.0  8.61 Lakh   4.50  \n",
       "3     1248 CC  88.76 bhp    7.0        NaN   6.00  \n",
       "4     1968 CC  140.8 bhp    5.0        NaN  17.74  \n",
       "...       ...        ...    ...        ...    ...  \n",
       "6014  1248 CC     74 bhp    5.0  7.88 Lakh   4.75  \n",
       "6015  1120 CC     71 bhp    5.0        NaN   4.00  \n",
       "6016  2498 CC    112 bhp    8.0        NaN   2.90  \n",
       "6017   998 CC   67.1 bhp    5.0        NaN   2.65  \n",
       "6018   936 CC   57.6 bhp    5.0        NaN   2.50  \n",
       "\n",
       "[6019 rows x 14 columns]"
      ]
     },
     "execution_count": 3,
     "metadata": {},
     "output_type": "execute_result"
    }
   ],
   "source": [
    "df = pd.read_csv(r\"D:\\DataSets\\New folder/train-data.csv\")\n",
    "df"
   ]
  },
  {
   "cell_type": "markdown",
   "metadata": {},
   "source": [
    "# 1. Data cleaning \n"
   ]
  },
  {
   "cell_type": "markdown",
   "metadata": {},
   "source": [
    "### 1.1 Investegation "
   ]
  },
  {
   "cell_type": "code",
   "execution_count": 4,
   "metadata": {
    "execution": {
     "iopub.execute_input": "2022-09-11T11:40:07.655982Z",
     "iopub.status.busy": "2022-09-11T11:40:07.655582Z",
     "iopub.status.idle": "2022-09-11T11:40:07.677178Z",
     "shell.execute_reply": "2022-09-11T11:40:07.675674Z",
     "shell.execute_reply.started": "2022-09-11T11:40:07.655947Z"
    },
    "scrolled": true
   },
   "outputs": [
    {
     "name": "stdout",
     "output_type": "stream",
     "text": [
      "<class 'pandas.core.frame.DataFrame'>\n",
      "RangeIndex: 6019 entries, 0 to 6018\n",
      "Data columns (total 14 columns):\n",
      " #   Column             Non-Null Count  Dtype  \n",
      "---  ------             --------------  -----  \n",
      " 0   Unnamed: 0         6019 non-null   int64  \n",
      " 1   Name               6019 non-null   object \n",
      " 2   Location           6019 non-null   object \n",
      " 3   Year               6019 non-null   int64  \n",
      " 4   Kilometers_Driven  6019 non-null   int64  \n",
      " 5   Fuel_Type          6019 non-null   object \n",
      " 6   Transmission       6019 non-null   object \n",
      " 7   Owner_Type         6019 non-null   object \n",
      " 8   Mileage            6017 non-null   object \n",
      " 9   Engine             5983 non-null   object \n",
      " 10  Power              5983 non-null   object \n",
      " 11  Seats              5977 non-null   float64\n",
      " 12  New_Price          824 non-null    object \n",
      " 13  Price              6019 non-null   float64\n",
      "dtypes: float64(2), int64(3), object(9)\n",
      "memory usage: 658.5+ KB\n"
     ]
    }
   ],
   "source": [
    "df.info()"
   ]
  },
  {
   "cell_type": "code",
   "execution_count": 5,
   "metadata": {
    "execution": {
     "iopub.execute_input": "2022-09-11T11:40:07.680913Z",
     "iopub.status.busy": "2022-09-11T11:40:07.680233Z",
     "iopub.status.idle": "2022-09-11T11:40:07.713704Z",
     "shell.execute_reply": "2022-09-11T11:40:07.712398Z",
     "shell.execute_reply.started": "2022-09-11T11:40:07.680876Z"
    }
   },
   "outputs": [
    {
     "data": {
      "text/html": [
       "<div>\n",
       "<style scoped>\n",
       "    .dataframe tbody tr th:only-of-type {\n",
       "        vertical-align: middle;\n",
       "    }\n",
       "\n",
       "    .dataframe tbody tr th {\n",
       "        vertical-align: top;\n",
       "    }\n",
       "\n",
       "    .dataframe thead th {\n",
       "        text-align: right;\n",
       "    }\n",
       "</style>\n",
       "<table border=\"1\" class=\"dataframe\">\n",
       "  <thead>\n",
       "    <tr style=\"text-align: right;\">\n",
       "      <th></th>\n",
       "      <th>Unnamed: 0</th>\n",
       "      <th>Year</th>\n",
       "      <th>Kilometers_Driven</th>\n",
       "      <th>Seats</th>\n",
       "      <th>Price</th>\n",
       "    </tr>\n",
       "  </thead>\n",
       "  <tbody>\n",
       "    <tr>\n",
       "      <th>count</th>\n",
       "      <td>6019.000000</td>\n",
       "      <td>6019.000000</td>\n",
       "      <td>6.019000e+03</td>\n",
       "      <td>5977.000000</td>\n",
       "      <td>6019.000000</td>\n",
       "    </tr>\n",
       "    <tr>\n",
       "      <th>mean</th>\n",
       "      <td>3009.000000</td>\n",
       "      <td>2013.358199</td>\n",
       "      <td>5.873838e+04</td>\n",
       "      <td>5.278735</td>\n",
       "      <td>9.479468</td>\n",
       "    </tr>\n",
       "    <tr>\n",
       "      <th>std</th>\n",
       "      <td>1737.679967</td>\n",
       "      <td>3.269742</td>\n",
       "      <td>9.126884e+04</td>\n",
       "      <td>0.808840</td>\n",
       "      <td>11.187917</td>\n",
       "    </tr>\n",
       "    <tr>\n",
       "      <th>min</th>\n",
       "      <td>0.000000</td>\n",
       "      <td>1998.000000</td>\n",
       "      <td>1.710000e+02</td>\n",
       "      <td>0.000000</td>\n",
       "      <td>0.440000</td>\n",
       "    </tr>\n",
       "    <tr>\n",
       "      <th>25%</th>\n",
       "      <td>1504.500000</td>\n",
       "      <td>2011.000000</td>\n",
       "      <td>3.400000e+04</td>\n",
       "      <td>5.000000</td>\n",
       "      <td>3.500000</td>\n",
       "    </tr>\n",
       "    <tr>\n",
       "      <th>50%</th>\n",
       "      <td>3009.000000</td>\n",
       "      <td>2014.000000</td>\n",
       "      <td>5.300000e+04</td>\n",
       "      <td>5.000000</td>\n",
       "      <td>5.640000</td>\n",
       "    </tr>\n",
       "    <tr>\n",
       "      <th>75%</th>\n",
       "      <td>4513.500000</td>\n",
       "      <td>2016.000000</td>\n",
       "      <td>7.300000e+04</td>\n",
       "      <td>5.000000</td>\n",
       "      <td>9.950000</td>\n",
       "    </tr>\n",
       "    <tr>\n",
       "      <th>max</th>\n",
       "      <td>6018.000000</td>\n",
       "      <td>2019.000000</td>\n",
       "      <td>6.500000e+06</td>\n",
       "      <td>10.000000</td>\n",
       "      <td>160.000000</td>\n",
       "    </tr>\n",
       "  </tbody>\n",
       "</table>\n",
       "</div>"
      ],
      "text/plain": [
       "        Unnamed: 0         Year  Kilometers_Driven        Seats        Price\n",
       "count  6019.000000  6019.000000       6.019000e+03  5977.000000  6019.000000\n",
       "mean   3009.000000  2013.358199       5.873838e+04     5.278735     9.479468\n",
       "std    1737.679967     3.269742       9.126884e+04     0.808840    11.187917\n",
       "min       0.000000  1998.000000       1.710000e+02     0.000000     0.440000\n",
       "25%    1504.500000  2011.000000       3.400000e+04     5.000000     3.500000\n",
       "50%    3009.000000  2014.000000       5.300000e+04     5.000000     5.640000\n",
       "75%    4513.500000  2016.000000       7.300000e+04     5.000000     9.950000\n",
       "max    6018.000000  2019.000000       6.500000e+06    10.000000   160.000000"
      ]
     },
     "execution_count": 5,
     "metadata": {},
     "output_type": "execute_result"
    }
   ],
   "source": [
    "df.describe()"
   ]
  },
  {
   "cell_type": "code",
   "execution_count": 6,
   "metadata": {
    "execution": {
     "iopub.execute_input": "2022-09-11T11:40:07.716361Z",
     "iopub.status.busy": "2022-09-11T11:40:07.71557Z",
     "iopub.status.idle": "2022-09-11T11:40:07.733844Z",
     "shell.execute_reply": "2022-09-11T11:40:07.732729Z",
     "shell.execute_reply.started": "2022-09-11T11:40:07.716308Z"
    }
   },
   "outputs": [
    {
     "data": {
      "text/plain": [
       "0"
      ]
     },
     "execution_count": 6,
     "metadata": {},
     "output_type": "execute_result"
    }
   ],
   "source": [
    "df.duplicated().sum()"
   ]
  },
  {
   "cell_type": "markdown",
   "metadata": {},
   "source": [
    "###  1.2 Working with data issues "
   ]
  },
  {
   "cell_type": "markdown",
   "metadata": {},
   "source": [
    "### Dropping duplicated and unused columns "
   ]
  },
  {
   "cell_type": "code",
   "execution_count": 7,
   "metadata": {
    "execution": {
     "iopub.execute_input": "2022-09-11T11:40:07.736103Z",
     "iopub.status.busy": "2022-09-11T11:40:07.735487Z",
     "iopub.status.idle": "2022-09-11T11:40:07.752844Z",
     "shell.execute_reply": "2022-09-11T11:40:07.751862Z",
     "shell.execute_reply.started": "2022-09-11T11:40:07.736064Z"
    }
   },
   "outputs": [],
   "source": [
    "df.drop_duplicates(inplace=True)"
   ]
  },
  {
   "cell_type": "code",
   "execution_count": 8,
   "metadata": {
    "execution": {
     "iopub.execute_input": "2022-09-11T11:40:07.754901Z",
     "iopub.status.busy": "2022-09-11T11:40:07.754357Z",
     "iopub.status.idle": "2022-09-11T11:40:07.762222Z",
     "shell.execute_reply": "2022-09-11T11:40:07.761265Z",
     "shell.execute_reply.started": "2022-09-11T11:40:07.754868Z"
    }
   },
   "outputs": [],
   "source": [
    "df.drop([\"New_Price\",\"Unnamed: 0\"], axis=1, inplace=True)"
   ]
  },
  {
   "cell_type": "markdown",
   "metadata": {},
   "source": [
    "### Imputing Null values "
   ]
  },
  {
   "cell_type": "code",
   "execution_count": 9,
   "metadata": {},
   "outputs": [],
   "source": [
    "from sklearn.impute import SimpleImputer"
   ]
  },
  {
   "cell_type": "code",
   "execution_count": 10,
   "metadata": {
    "execution": {
     "iopub.execute_input": "2022-09-11T11:40:07.764684Z",
     "iopub.status.busy": "2022-09-11T11:40:07.763979Z",
     "iopub.status.idle": "2022-09-11T11:40:07.80285Z",
     "shell.execute_reply": "2022-09-11T11:40:07.801362Z",
     "shell.execute_reply.started": "2022-09-11T11:40:07.764648Z"
    }
   },
   "outputs": [],
   "source": [
    "null_col = ['Mileage', 'Engine' , 'Power','Seats']\n",
    "imputer = SimpleImputer(strategy='most_frequent')\n",
    "df[null_col] = imputer.fit_transform(df[null_col])"
   ]
  },
  {
   "cell_type": "code",
   "execution_count": 11,
   "metadata": {
    "execution": {
     "iopub.execute_input": "2022-09-11T11:40:07.804835Z",
     "iopub.status.busy": "2022-09-11T11:40:07.804483Z",
     "iopub.status.idle": "2022-09-11T11:40:07.825797Z",
     "shell.execute_reply": "2022-09-11T11:40:07.824872Z",
     "shell.execute_reply.started": "2022-09-11T11:40:07.804803Z"
    }
   },
   "outputs": [],
   "source": [
    "df = df.convert_dtypes()"
   ]
  },
  {
   "cell_type": "markdown",
   "metadata": {},
   "source": [
    "### replacing zero values"
   ]
  },
  {
   "cell_type": "code",
   "execution_count": 12,
   "metadata": {
    "execution": {
     "iopub.execute_input": "2022-09-11T11:40:07.828088Z",
     "iopub.status.busy": "2022-09-11T11:40:07.826895Z",
     "iopub.status.idle": "2022-09-11T11:40:07.836945Z",
     "shell.execute_reply": "2022-09-11T11:40:07.835452Z",
     "shell.execute_reply.started": "2022-09-11T11:40:07.828049Z"
    }
   },
   "outputs": [],
   "source": [
    "df['Seats'].replace(to_replace=0 ,value= df['Seats'].mode()[0],inplace=True)"
   ]
  },
  {
   "cell_type": "code",
   "execution_count": 13,
   "metadata": {
    "execution": {
     "iopub.execute_input": "2022-09-11T11:40:07.84042Z",
     "iopub.status.busy": "2022-09-11T11:40:07.839052Z",
     "iopub.status.idle": "2022-09-11T11:40:07.878117Z",
     "shell.execute_reply": "2022-09-11T11:40:07.876546Z",
     "shell.execute_reply.started": "2022-09-11T11:40:07.840381Z"
    }
   },
   "outputs": [
    {
     "data": {
      "text/html": [
       "<div>\n",
       "<style scoped>\n",
       "    .dataframe tbody tr th:only-of-type {\n",
       "        vertical-align: middle;\n",
       "    }\n",
       "\n",
       "    .dataframe tbody tr th {\n",
       "        vertical-align: top;\n",
       "    }\n",
       "\n",
       "    .dataframe thead th {\n",
       "        text-align: right;\n",
       "    }\n",
       "</style>\n",
       "<table border=\"1\" class=\"dataframe\">\n",
       "  <thead>\n",
       "    <tr style=\"text-align: right;\">\n",
       "      <th></th>\n",
       "      <th>Name</th>\n",
       "      <th>Location</th>\n",
       "      <th>Year</th>\n",
       "      <th>Kilometers_Driven</th>\n",
       "      <th>Fuel_Type</th>\n",
       "      <th>Transmission</th>\n",
       "      <th>Owner_Type</th>\n",
       "      <th>Mileage</th>\n",
       "      <th>Engine</th>\n",
       "      <th>Power</th>\n",
       "      <th>Seats</th>\n",
       "      <th>Price</th>\n",
       "    </tr>\n",
       "  </thead>\n",
       "  <tbody>\n",
       "    <tr>\n",
       "      <th>76</th>\n",
       "      <td>Ford Fiesta 1.4 SXi TDCi</td>\n",
       "      <td>Jaipur</td>\n",
       "      <td>2008</td>\n",
       "      <td>111111</td>\n",
       "      <td>Diesel</td>\n",
       "      <td>Manual</td>\n",
       "      <td>First</td>\n",
       "      <td>17.8 kmpl</td>\n",
       "      <td>1399 CC</td>\n",
       "      <td>null bhp</td>\n",
       "      <td>5</td>\n",
       "      <td>2.0</td>\n",
       "    </tr>\n",
       "    <tr>\n",
       "      <th>79</th>\n",
       "      <td>Hyundai Santro Xing XL</td>\n",
       "      <td>Hyderabad</td>\n",
       "      <td>2005</td>\n",
       "      <td>87591</td>\n",
       "      <td>Petrol</td>\n",
       "      <td>Manual</td>\n",
       "      <td>First</td>\n",
       "      <td>0.0 kmpl</td>\n",
       "      <td>1086 CC</td>\n",
       "      <td>null bhp</td>\n",
       "      <td>5</td>\n",
       "      <td>1.3</td>\n",
       "    </tr>\n",
       "    <tr>\n",
       "      <th>89</th>\n",
       "      <td>Hyundai Santro Xing XO</td>\n",
       "      <td>Hyderabad</td>\n",
       "      <td>2007</td>\n",
       "      <td>73745</td>\n",
       "      <td>Petrol</td>\n",
       "      <td>Manual</td>\n",
       "      <td>First</td>\n",
       "      <td>17.0 kmpl</td>\n",
       "      <td>1086 CC</td>\n",
       "      <td>null bhp</td>\n",
       "      <td>5</td>\n",
       "      <td>2.1</td>\n",
       "    </tr>\n",
       "    <tr>\n",
       "      <th>120</th>\n",
       "      <td>Hyundai Santro Xing XL eRLX Euro III</td>\n",
       "      <td>Mumbai</td>\n",
       "      <td>2005</td>\n",
       "      <td>102000</td>\n",
       "      <td>Petrol</td>\n",
       "      <td>Manual</td>\n",
       "      <td>Second</td>\n",
       "      <td>17.0 kmpl</td>\n",
       "      <td>1086 CC</td>\n",
       "      <td>null bhp</td>\n",
       "      <td>5</td>\n",
       "      <td>0.85</td>\n",
       "    </tr>\n",
       "    <tr>\n",
       "      <th>143</th>\n",
       "      <td>Hyundai Santro Xing XO eRLX Euro II</td>\n",
       "      <td>Kochi</td>\n",
       "      <td>2008</td>\n",
       "      <td>80759</td>\n",
       "      <td>Petrol</td>\n",
       "      <td>Manual</td>\n",
       "      <td>Third</td>\n",
       "      <td>17.0 kmpl</td>\n",
       "      <td>1086 CC</td>\n",
       "      <td>null bhp</td>\n",
       "      <td>5</td>\n",
       "      <td>1.67</td>\n",
       "    </tr>\n",
       "    <tr>\n",
       "      <th>...</th>\n",
       "      <td>...</td>\n",
       "      <td>...</td>\n",
       "      <td>...</td>\n",
       "      <td>...</td>\n",
       "      <td>...</td>\n",
       "      <td>...</td>\n",
       "      <td>...</td>\n",
       "      <td>...</td>\n",
       "      <td>...</td>\n",
       "      <td>...</td>\n",
       "      <td>...</td>\n",
       "      <td>...</td>\n",
       "    </tr>\n",
       "    <tr>\n",
       "      <th>5873</th>\n",
       "      <td>Hyundai Santro Xing XO eRLX Euro II</td>\n",
       "      <td>Pune</td>\n",
       "      <td>2006</td>\n",
       "      <td>47200</td>\n",
       "      <td>Petrol</td>\n",
       "      <td>Manual</td>\n",
       "      <td>Second</td>\n",
       "      <td>17.0 kmpl</td>\n",
       "      <td>1086 CC</td>\n",
       "      <td>null bhp</td>\n",
       "      <td>5</td>\n",
       "      <td>1.2</td>\n",
       "    </tr>\n",
       "    <tr>\n",
       "      <th>5893</th>\n",
       "      <td>Maruti Estilo LXI</td>\n",
       "      <td>Chennai</td>\n",
       "      <td>2008</td>\n",
       "      <td>51000</td>\n",
       "      <td>Petrol</td>\n",
       "      <td>Manual</td>\n",
       "      <td>Second</td>\n",
       "      <td>19.5 kmpl</td>\n",
       "      <td>1061 CC</td>\n",
       "      <td>null bhp</td>\n",
       "      <td>5</td>\n",
       "      <td>1.75</td>\n",
       "    </tr>\n",
       "    <tr>\n",
       "      <th>5925</th>\n",
       "      <td>Skoda Laura Classic 1.8 TSI</td>\n",
       "      <td>Pune</td>\n",
       "      <td>2010</td>\n",
       "      <td>85000</td>\n",
       "      <td>Petrol</td>\n",
       "      <td>Manual</td>\n",
       "      <td>First</td>\n",
       "      <td>17.5 kmpl</td>\n",
       "      <td>1798 CC</td>\n",
       "      <td>null bhp</td>\n",
       "      <td>5</td>\n",
       "      <td>2.85</td>\n",
       "    </tr>\n",
       "    <tr>\n",
       "      <th>5943</th>\n",
       "      <td>Mahindra Jeep MM 540 DP</td>\n",
       "      <td>Chennai</td>\n",
       "      <td>2002</td>\n",
       "      <td>75000</td>\n",
       "      <td>Diesel</td>\n",
       "      <td>Manual</td>\n",
       "      <td>First</td>\n",
       "      <td>0.0 kmpl</td>\n",
       "      <td>2112 CC</td>\n",
       "      <td>null bhp</td>\n",
       "      <td>6</td>\n",
       "      <td>1.7</td>\n",
       "    </tr>\n",
       "    <tr>\n",
       "      <th>5985</th>\n",
       "      <td>Toyota Etios GD</td>\n",
       "      <td>Delhi</td>\n",
       "      <td>2013</td>\n",
       "      <td>70000</td>\n",
       "      <td>Diesel</td>\n",
       "      <td>Manual</td>\n",
       "      <td>First</td>\n",
       "      <td>23.59 kmpl</td>\n",
       "      <td>1364 CC</td>\n",
       "      <td>null bhp</td>\n",
       "      <td>5</td>\n",
       "      <td>3.88</td>\n",
       "    </tr>\n",
       "  </tbody>\n",
       "</table>\n",
       "<p>107 rows × 12 columns</p>\n",
       "</div>"
      ],
      "text/plain": [
       "                                      Name   Location  Year  \\\n",
       "76                Ford Fiesta 1.4 SXi TDCi     Jaipur  2008   \n",
       "79                  Hyundai Santro Xing XL  Hyderabad  2005   \n",
       "89                  Hyundai Santro Xing XO  Hyderabad  2007   \n",
       "120   Hyundai Santro Xing XL eRLX Euro III     Mumbai  2005   \n",
       "143    Hyundai Santro Xing XO eRLX Euro II      Kochi  2008   \n",
       "...                                    ...        ...   ...   \n",
       "5873   Hyundai Santro Xing XO eRLX Euro II       Pune  2006   \n",
       "5893                     Maruti Estilo LXI    Chennai  2008   \n",
       "5925           Skoda Laura Classic 1.8 TSI       Pune  2010   \n",
       "5943               Mahindra Jeep MM 540 DP    Chennai  2002   \n",
       "5985                       Toyota Etios GD      Delhi  2013   \n",
       "\n",
       "      Kilometers_Driven Fuel_Type Transmission Owner_Type     Mileage  \\\n",
       "76               111111    Diesel       Manual      First   17.8 kmpl   \n",
       "79                87591    Petrol       Manual      First    0.0 kmpl   \n",
       "89                73745    Petrol       Manual      First   17.0 kmpl   \n",
       "120              102000    Petrol       Manual     Second   17.0 kmpl   \n",
       "143               80759    Petrol       Manual      Third   17.0 kmpl   \n",
       "...                 ...       ...          ...        ...         ...   \n",
       "5873              47200    Petrol       Manual     Second   17.0 kmpl   \n",
       "5893              51000    Petrol       Manual     Second   19.5 kmpl   \n",
       "5925              85000    Petrol       Manual      First   17.5 kmpl   \n",
       "5943              75000    Diesel       Manual      First    0.0 kmpl   \n",
       "5985              70000    Diesel       Manual      First  23.59 kmpl   \n",
       "\n",
       "       Engine     Power  Seats  Price  \n",
       "76    1399 CC  null bhp      5    2.0  \n",
       "79    1086 CC  null bhp      5    1.3  \n",
       "89    1086 CC  null bhp      5    2.1  \n",
       "120   1086 CC  null bhp      5   0.85  \n",
       "143   1086 CC  null bhp      5   1.67  \n",
       "...       ...       ...    ...    ...  \n",
       "5873  1086 CC  null bhp      5    1.2  \n",
       "5893  1061 CC  null bhp      5   1.75  \n",
       "5925  1798 CC  null bhp      5   2.85  \n",
       "5943  2112 CC  null bhp      6    1.7  \n",
       "5985  1364 CC  null bhp      5   3.88  \n",
       "\n",
       "[107 rows x 12 columns]"
      ]
     },
     "execution_count": 13,
     "metadata": {},
     "output_type": "execute_result"
    }
   ],
   "source": [
    "df[df['Power'] == 'null bhp']"
   ]
  },
  {
   "cell_type": "code",
   "execution_count": 14,
   "metadata": {
    "execution": {
     "iopub.execute_input": "2022-09-11T11:40:07.880905Z",
     "iopub.status.busy": "2022-09-11T11:40:07.88013Z",
     "iopub.status.idle": "2022-09-11T11:40:07.892132Z",
     "shell.execute_reply": "2022-09-11T11:40:07.89041Z",
     "shell.execute_reply.started": "2022-09-11T11:40:07.880866Z"
    }
   },
   "outputs": [],
   "source": [
    "indx = df[df['Power'] == 'null bhp'].index"
   ]
  },
  {
   "cell_type": "code",
   "execution_count": 15,
   "metadata": {
    "execution": {
     "iopub.execute_input": "2022-09-11T11:40:07.89962Z",
     "iopub.status.busy": "2022-09-11T11:40:07.898857Z",
     "iopub.status.idle": "2022-09-11T11:40:07.910764Z",
     "shell.execute_reply": "2022-09-11T11:40:07.909196Z",
     "shell.execute_reply.started": "2022-09-11T11:40:07.899581Z"
    }
   },
   "outputs": [],
   "source": [
    "df.drop(indx,axis=0,inplace=True)"
   ]
  },
  {
   "cell_type": "code",
   "execution_count": 16,
   "metadata": {
    "execution": {
     "iopub.execute_input": "2022-09-11T11:40:07.913859Z",
     "iopub.status.busy": "2022-09-11T11:40:07.912744Z",
     "iopub.status.idle": "2022-09-11T11:40:07.920955Z",
     "shell.execute_reply": "2022-09-11T11:40:07.919383Z",
     "shell.execute_reply.started": "2022-09-11T11:40:07.913809Z"
    }
   },
   "outputs": [],
   "source": [
    "dirty_cols = ['Mileage', 'Engine', 'Power']"
   ]
  },
  {
   "cell_type": "code",
   "execution_count": 17,
   "metadata": {
    "execution": {
     "iopub.execute_input": "2022-09-11T11:40:07.924733Z",
     "iopub.status.busy": "2022-09-11T11:40:07.922521Z",
     "iopub.status.idle": "2022-09-11T11:40:07.95027Z",
     "shell.execute_reply": "2022-09-11T11:40:07.948663Z",
     "shell.execute_reply.started": "2022-09-11T11:40:07.924666Z"
    }
   },
   "outputs": [],
   "source": [
    "for col in dirty_cols:\n",
    "    df[col] = df[col].apply(lambda x : float(x.split()[0]))"
   ]
  },
  {
   "cell_type": "code",
   "execution_count": 18,
   "metadata": {
    "execution": {
     "iopub.execute_input": "2022-09-11T11:40:07.988921Z",
     "iopub.status.busy": "2022-09-11T11:40:07.988502Z",
     "iopub.status.idle": "2022-09-11T11:40:08.009075Z",
     "shell.execute_reply": "2022-09-11T11:40:08.007963Z",
     "shell.execute_reply.started": "2022-09-11T11:40:07.98889Z"
    }
   },
   "outputs": [
    {
     "name": "stdout",
     "output_type": "stream",
     "text": [
      "<class 'pandas.core.frame.DataFrame'>\n",
      "Int64Index: 5912 entries, 0 to 6018\n",
      "Data columns (total 12 columns):\n",
      " #   Column             Non-Null Count  Dtype  \n",
      "---  ------             --------------  -----  \n",
      " 0   Name               5912 non-null   string \n",
      " 1   Location           5912 non-null   string \n",
      " 2   Year               5912 non-null   Int64  \n",
      " 3   Kilometers_Driven  5912 non-null   Int64  \n",
      " 4   Fuel_Type          5912 non-null   string \n",
      " 5   Transmission       5912 non-null   string \n",
      " 6   Owner_Type         5912 non-null   string \n",
      " 7   Mileage            5912 non-null   float64\n",
      " 8   Engine             5912 non-null   float64\n",
      " 9   Power              5912 non-null   float64\n",
      " 10  Seats              5912 non-null   Int64  \n",
      " 11  Price              5912 non-null   Float64\n",
      "dtypes: Float64(1), Int64(3), float64(3), string(5)\n",
      "memory usage: 623.5 KB\n"
     ]
    }
   ],
   "source": [
    "df.info()"
   ]
  },
  {
   "cell_type": "markdown",
   "metadata": {},
   "source": [
    "# 2. Feature Engineering"
   ]
  },
  {
   "cell_type": "code",
   "execution_count": 19,
   "metadata": {
    "execution": {
     "iopub.execute_input": "2022-09-11T11:40:08.011094Z",
     "iopub.status.busy": "2022-09-11T11:40:08.010706Z",
     "iopub.status.idle": "2022-09-11T11:40:08.020429Z",
     "shell.execute_reply": "2022-09-11T11:40:08.01939Z",
     "shell.execute_reply.started": "2022-09-11T11:40:08.011057Z"
    }
   },
   "outputs": [
    {
     "data": {
      "text/plain": [
       "1830"
      ]
     },
     "execution_count": 19,
     "metadata": {},
     "output_type": "execute_result"
    }
   ],
   "source": [
    "df[\"Name\"].nunique()"
   ]
  },
  {
   "cell_type": "code",
   "execution_count": 20,
   "metadata": {
    "execution": {
     "iopub.execute_input": "2022-09-11T11:40:08.022386Z",
     "iopub.status.busy": "2022-09-11T11:40:08.022001Z",
     "iopub.status.idle": "2022-09-11T11:40:08.033982Z",
     "shell.execute_reply": "2022-09-11T11:40:08.03255Z",
     "shell.execute_reply.started": "2022-09-11T11:40:08.022341Z"
    }
   },
   "outputs": [
    {
     "name": "stdout",
     "output_type": "stream",
     "text": [
      "Percentage of uniques 31 %\n"
     ]
    }
   ],
   "source": [
    "print(\"Percentage of uniques\",round(df[\"Name\"].nunique()/df.shape[0]*100),\"%\")"
   ]
  },
  {
   "cell_type": "code",
   "execution_count": 21,
   "metadata": {
    "execution": {
     "iopub.execute_input": "2022-09-11T11:40:08.03639Z",
     "iopub.status.busy": "2022-09-11T11:40:08.036007Z",
     "iopub.status.idle": "2022-09-11T11:40:08.047827Z",
     "shell.execute_reply": "2022-09-11T11:40:08.046439Z",
     "shell.execute_reply.started": "2022-09-11T11:40:08.036344Z"
    }
   },
   "outputs": [
    {
     "data": {
      "text/plain": [
       "0                 Maruti Wagon R LXI CNG\n",
       "1       Hyundai Creta 1.6 CRDi SX Option\n",
       "2                           Honda Jazz V\n",
       "3                      Maruti Ertiga VDI\n",
       "4        Audi A4 New 2.0 TDI Multitronic\n",
       "                      ...               \n",
       "6014                    Maruti Swift VDI\n",
       "6015            Hyundai Xcent 1.1 CRDi S\n",
       "6016               Mahindra Xylo D4 BSIV\n",
       "6017                  Maruti Wagon R VXI\n",
       "6018               Chevrolet Beat Diesel\n",
       "Name: Name, Length: 5912, dtype: string"
      ]
     },
     "execution_count": 21,
     "metadata": {},
     "output_type": "execute_result"
    }
   ],
   "source": [
    "df[\"Name\"]"
   ]
  },
  {
   "cell_type": "code",
   "execution_count": 22,
   "metadata": {
    "execution": {
     "iopub.execute_input": "2022-09-11T11:40:08.049947Z",
     "iopub.status.busy": "2022-09-11T11:40:08.049417Z",
     "iopub.status.idle": "2022-09-11T11:40:08.062614Z",
     "shell.execute_reply": "2022-09-11T11:40:08.060794Z",
     "shell.execute_reply.started": "2022-09-11T11:40:08.049911Z"
    }
   },
   "outputs": [],
   "source": [
    "df[\"Brand\"] = df[\"Name\"].apply(lambda x : x.split()[0])"
   ]
  },
  {
   "cell_type": "code",
   "execution_count": 23,
   "metadata": {
    "execution": {
     "iopub.execute_input": "2022-09-11T11:40:08.065091Z",
     "iopub.status.busy": "2022-09-11T11:40:08.064278Z",
     "iopub.status.idle": "2022-09-11T11:40:08.079186Z",
     "shell.execute_reply": "2022-09-11T11:40:08.078205Z",
     "shell.execute_reply.started": "2022-09-11T11:40:08.065054Z"
    }
   },
   "outputs": [
    {
     "data": {
      "text/plain": [
       "30"
      ]
     },
     "execution_count": 23,
     "metadata": {},
     "output_type": "execute_result"
    }
   ],
   "source": [
    "df[\"Brand\"].nunique()"
   ]
  },
  {
   "cell_type": "code",
   "execution_count": 24,
   "metadata": {
    "execution": {
     "iopub.execute_input": "2022-09-11T11:40:08.08128Z",
     "iopub.status.busy": "2022-09-11T11:40:08.080662Z",
     "iopub.status.idle": "2022-09-11T11:40:08.09759Z",
     "shell.execute_reply": "2022-09-11T11:40:08.096071Z",
     "shell.execute_reply.started": "2022-09-11T11:40:08.081245Z"
    }
   },
   "outputs": [],
   "source": [
    "df[\"Name\"] = df[\"Name\"].apply(lambda x : \" \".join(x.split()[:2]))"
   ]
  },
  {
   "cell_type": "code",
   "execution_count": 25,
   "metadata": {
    "execution": {
     "iopub.execute_input": "2022-09-11T11:40:08.100649Z",
     "iopub.status.busy": "2022-09-11T11:40:08.099565Z",
     "iopub.status.idle": "2022-09-11T11:40:08.108856Z",
     "shell.execute_reply": "2022-09-11T11:40:08.107998Z",
     "shell.execute_reply.started": "2022-09-11T11:40:08.10061Z"
    }
   },
   "outputs": [
    {
     "data": {
      "text/plain": [
       "209"
      ]
     },
     "execution_count": 25,
     "metadata": {},
     "output_type": "execute_result"
    }
   ],
   "source": [
    "df[\"Name\"].nunique()"
   ]
  },
  {
   "cell_type": "code",
   "execution_count": 26,
   "metadata": {
    "execution": {
     "iopub.execute_input": "2022-09-11T11:40:08.110655Z",
     "iopub.status.busy": "2022-09-11T11:40:08.110031Z",
     "iopub.status.idle": "2022-09-11T11:40:08.13174Z",
     "shell.execute_reply": "2022-09-11T11:40:08.130262Z",
     "shell.execute_reply.started": "2022-09-11T11:40:08.110594Z"
    }
   },
   "outputs": [],
   "source": [
    "df = df.convert_dtypes()"
   ]
  },
  {
   "cell_type": "code",
   "execution_count": 27,
   "metadata": {
    "execution": {
     "iopub.execute_input": "2022-09-11T11:40:08.16456Z",
     "iopub.status.busy": "2022-09-11T11:40:08.163936Z",
     "iopub.status.idle": "2022-09-11T11:40:08.186125Z",
     "shell.execute_reply": "2022-09-11T11:40:08.185229Z",
     "shell.execute_reply.started": "2022-09-11T11:40:08.164519Z"
    }
   },
   "outputs": [
    {
     "name": "stdout",
     "output_type": "stream",
     "text": [
      "<class 'pandas.core.frame.DataFrame'>\n",
      "Int64Index: 5912 entries, 0 to 6018\n",
      "Data columns (total 13 columns):\n",
      " #   Column             Non-Null Count  Dtype  \n",
      "---  ------             --------------  -----  \n",
      " 0   Name               5912 non-null   string \n",
      " 1   Location           5912 non-null   string \n",
      " 2   Year               5912 non-null   Int64  \n",
      " 3   Kilometers_Driven  5912 non-null   Int64  \n",
      " 4   Fuel_Type          5912 non-null   string \n",
      " 5   Transmission       5912 non-null   string \n",
      " 6   Owner_Type         5912 non-null   string \n",
      " 7   Mileage            5912 non-null   Float64\n",
      " 8   Engine             5912 non-null   Int64  \n",
      " 9   Power              5912 non-null   Float64\n",
      " 10  Seats              5912 non-null   Int64  \n",
      " 11  Price              5912 non-null   Float64\n",
      " 12  Brand              5912 non-null   string \n",
      "dtypes: Float64(3), Int64(4), string(6)\n",
      "memory usage: 687.0 KB\n"
     ]
    }
   ],
   "source": [
    "df.info()"
   ]
  },
  {
   "cell_type": "code",
   "execution_count": 28,
   "metadata": {
    "execution": {
     "iopub.execute_input": "2022-09-11T11:40:08.188709Z",
     "iopub.status.busy": "2022-09-11T11:40:08.188272Z",
     "iopub.status.idle": "2022-09-11T11:40:08.257051Z",
     "shell.execute_reply": "2022-09-11T11:40:08.25565Z",
     "shell.execute_reply.started": "2022-09-11T11:40:08.188673Z"
    }
   },
   "outputs": [
    {
     "data": {
      "text/html": [
       "<div>\n",
       "<style scoped>\n",
       "    .dataframe tbody tr th:only-of-type {\n",
       "        vertical-align: middle;\n",
       "    }\n",
       "\n",
       "    .dataframe tbody tr th {\n",
       "        vertical-align: top;\n",
       "    }\n",
       "\n",
       "    .dataframe thead th {\n",
       "        text-align: right;\n",
       "    }\n",
       "</style>\n",
       "<table border=\"1\" class=\"dataframe\">\n",
       "  <thead>\n",
       "    <tr style=\"text-align: right;\">\n",
       "      <th></th>\n",
       "      <th>Year</th>\n",
       "      <th>Kilometers_Driven</th>\n",
       "      <th>Mileage</th>\n",
       "      <th>Engine</th>\n",
       "      <th>Power</th>\n",
       "      <th>Seats</th>\n",
       "      <th>Price</th>\n",
       "    </tr>\n",
       "  </thead>\n",
       "  <tbody>\n",
       "    <tr>\n",
       "      <th>count</th>\n",
       "      <td>5912.000000</td>\n",
       "      <td>5.912000e+03</td>\n",
       "      <td>5912.000000</td>\n",
       "      <td>5912.000000</td>\n",
       "      <td>5912.000000</td>\n",
       "      <td>5912.00000</td>\n",
       "      <td>5912.000000</td>\n",
       "    </tr>\n",
       "    <tr>\n",
       "      <th>mean</th>\n",
       "      <td>2013.450609</td>\n",
       "      <td>5.837766e+04</td>\n",
       "      <td>18.231778</td>\n",
       "      <td>1622.857070</td>\n",
       "      <td>113.014026</td>\n",
       "      <td>5.28180</td>\n",
       "      <td>9.584919</td>\n",
       "    </tr>\n",
       "    <tr>\n",
       "      <th>std</th>\n",
       "      <td>3.188638</td>\n",
       "      <td>9.189848e+04</td>\n",
       "      <td>4.431628</td>\n",
       "      <td>600.877459</td>\n",
       "      <td>53.797403</td>\n",
       "      <td>0.80269</td>\n",
       "      <td>11.233694</td>\n",
       "    </tr>\n",
       "    <tr>\n",
       "      <th>min</th>\n",
       "      <td>1998.000000</td>\n",
       "      <td>1.710000e+02</td>\n",
       "      <td>0.000000</td>\n",
       "      <td>72.000000</td>\n",
       "      <td>34.200000</td>\n",
       "      <td>2.00000</td>\n",
       "      <td>0.440000</td>\n",
       "    </tr>\n",
       "    <tr>\n",
       "      <th>25%</th>\n",
       "      <td>2012.000000</td>\n",
       "      <td>3.351275e+04</td>\n",
       "      <td>15.260000</td>\n",
       "      <td>1198.000000</td>\n",
       "      <td>75.000000</td>\n",
       "      <td>5.00000</td>\n",
       "      <td>3.500000</td>\n",
       "    </tr>\n",
       "    <tr>\n",
       "      <th>50%</th>\n",
       "      <td>2014.000000</td>\n",
       "      <td>5.286250e+04</td>\n",
       "      <td>18.200000</td>\n",
       "      <td>1493.000000</td>\n",
       "      <td>94.000000</td>\n",
       "      <td>5.00000</td>\n",
       "      <td>5.700000</td>\n",
       "    </tr>\n",
       "    <tr>\n",
       "      <th>75%</th>\n",
       "      <td>2016.000000</td>\n",
       "      <td>7.245375e+04</td>\n",
       "      <td>21.100000</td>\n",
       "      <td>1984.000000</td>\n",
       "      <td>138.100000</td>\n",
       "      <td>5.00000</td>\n",
       "      <td>10.012500</td>\n",
       "    </tr>\n",
       "    <tr>\n",
       "      <th>max</th>\n",
       "      <td>2019.000000</td>\n",
       "      <td>6.500000e+06</td>\n",
       "      <td>33.540000</td>\n",
       "      <td>5998.000000</td>\n",
       "      <td>560.000000</td>\n",
       "      <td>10.00000</td>\n",
       "      <td>160.000000</td>\n",
       "    </tr>\n",
       "  </tbody>\n",
       "</table>\n",
       "</div>"
      ],
      "text/plain": [
       "              Year  Kilometers_Driven      Mileage       Engine        Power  \\\n",
       "count  5912.000000       5.912000e+03  5912.000000  5912.000000  5912.000000   \n",
       "mean   2013.450609       5.837766e+04    18.231778  1622.857070   113.014026   \n",
       "std       3.188638       9.189848e+04     4.431628   600.877459    53.797403   \n",
       "min    1998.000000       1.710000e+02     0.000000    72.000000    34.200000   \n",
       "25%    2012.000000       3.351275e+04    15.260000  1198.000000    75.000000   \n",
       "50%    2014.000000       5.286250e+04    18.200000  1493.000000    94.000000   \n",
       "75%    2016.000000       7.245375e+04    21.100000  1984.000000   138.100000   \n",
       "max    2019.000000       6.500000e+06    33.540000  5998.000000   560.000000   \n",
       "\n",
       "            Seats        Price  \n",
       "count  5912.00000  5912.000000  \n",
       "mean      5.28180     9.584919  \n",
       "std       0.80269    11.233694  \n",
       "min       2.00000     0.440000  \n",
       "25%       5.00000     3.500000  \n",
       "50%       5.00000     5.700000  \n",
       "75%       5.00000    10.012500  \n",
       "max      10.00000   160.000000  "
      ]
     },
     "execution_count": 28,
     "metadata": {},
     "output_type": "execute_result"
    }
   ],
   "source": [
    "df.describe()"
   ]
  },
  {
   "cell_type": "markdown",
   "metadata": {},
   "source": [
    "________________________"
   ]
  },
  {
   "cell_type": "markdown",
   "metadata": {},
   "source": [
    "# 3. Data understanding "
   ]
  },
  {
   "cell_type": "markdown",
   "metadata": {},
   "source": [
    "### 3.1 Univariate analysis "
   ]
  },
  {
   "cell_type": "code",
   "execution_count": 29,
   "metadata": {
    "execution": {
     "iopub.execute_input": "2022-09-11T11:40:08.308229Z",
     "iopub.status.busy": "2022-09-11T11:40:08.30709Z",
     "iopub.status.idle": "2022-09-11T11:40:11.679124Z",
     "shell.execute_reply": "2022-09-11T11:40:11.677914Z",
     "shell.execute_reply.started": "2022-09-11T11:40:08.308171Z"
    }
   },
   "outputs": [
    {
     "data": {
      "image/png": "[encoded data removed]",
      "text/plain": [
       "<Figure size 432x288 with 1 Axes>"
      ]
     },
     "metadata": {
      "needs_background": "light"
     },
     "output_type": "display_data"
    }
   ],
   "source": [
    "sns.histplot(data = df , x = 'Kilometers_Driven');\n",
    "sns.set(rc={'figure.figsize': [8, 8]}, font_scale=1.2)"
   ]
  },
  {
   "cell_type": "code",
   "execution_count": 30,
   "metadata": {
    "execution": {
     "iopub.execute_input": "2022-09-11T11:40:11.681803Z",
     "iopub.status.busy": "2022-09-11T11:40:11.681281Z",
     "iopub.status.idle": "2022-09-11T11:40:12.110017Z",
     "shell.execute_reply": "2022-09-11T11:40:12.108824Z",
     "shell.execute_reply.started": "2022-09-11T11:40:11.681757Z"
    }
   },
   "outputs": [
    {
     "data": {
      "image/png": "[encoded data removed]",
      "text/plain": [
       "<Figure size 576x576 with 1 Axes>"
      ]
     },
     "metadata": {},
     "output_type": "display_data"
    }
   ],
   "source": [
    "sns.histplot(data = df , x = 'Mileage');"
   ]
  },
  {
   "cell_type": "code",
   "execution_count": 31,
   "metadata": {
    "execution": {
     "iopub.execute_input": "2022-09-11T11:40:12.112514Z",
     "iopub.status.busy": "2022-09-11T11:40:12.111787Z",
     "iopub.status.idle": "2022-09-11T11:40:12.570222Z",
     "shell.execute_reply": "2022-09-11T11:40:12.56892Z",
     "shell.execute_reply.started": "2022-09-11T11:40:12.112469Z"
    }
   },
   "outputs": [
    {
     "data": {
      "image/png": "[encoded data removed]",
      "text/plain": [
       "<Figure size 576x576 with 1 Axes>"
      ]
     },
     "metadata": {},
     "output_type": "display_data"
    }
   ],
   "source": [
    "sns.histplot(data = df , x = 'Engine');"
   ]
  },
  {
   "cell_type": "code",
   "execution_count": 32,
   "metadata": {
    "execution": {
     "iopub.execute_input": "2022-09-11T11:40:12.573178Z",
     "iopub.status.busy": "2022-09-11T11:40:12.572366Z",
     "iopub.status.idle": "2022-09-11T11:40:13.029277Z",
     "shell.execute_reply": "2022-09-11T11:40:13.027603Z",
     "shell.execute_reply.started": "2022-09-11T11:40:12.573128Z"
    }
   },
   "outputs": [
    {
     "data": {
      "image/png": "[encoded data removed]",
      "text/plain": [
       "<Figure size 576x576 with 1 Axes>"
      ]
     },
     "metadata": {},
     "output_type": "display_data"
    }
   ],
   "source": [
    "sns.histplot(data = df , x = 'Power');"
   ]
  },
  {
   "cell_type": "code",
   "execution_count": 33,
   "metadata": {
    "execution": {
     "iopub.execute_input": "2022-09-11T11:40:13.032081Z",
     "iopub.status.busy": "2022-09-11T11:40:13.031698Z",
     "iopub.status.idle": "2022-09-11T11:40:14.023998Z",
     "shell.execute_reply": "2022-09-11T11:40:14.022355Z",
     "shell.execute_reply.started": "2022-09-11T11:40:13.032049Z"
    }
   },
   "outputs": [
    {
     "data": {
      "image/png": "[encoded data removed]",
      "text/plain": [
       "<Figure size 576x576 with 1 Axes>"
      ]
     },
     "metadata": {},
     "output_type": "display_data"
    }
   ],
   "source": [
    "sns.histplot(data = df , x = 'Price');"
   ]
  },
  {
   "cell_type": "code",
   "execution_count": 34,
   "metadata": {
    "execution": {
     "iopub.execute_input": "2022-09-11T11:40:14.027457Z",
     "iopub.status.busy": "2022-09-11T11:40:14.026089Z",
     "iopub.status.idle": "2022-09-11T11:40:14.033963Z",
     "shell.execute_reply": "2022-09-11T11:40:14.031814Z",
     "shell.execute_reply.started": "2022-09-11T11:40:14.027409Z"
    }
   },
   "outputs": [],
   "source": [
    "numerical_cols = ['Kilometers_Driven' , 'Mileage' , 'Engine' , 'Power','Price']"
   ]
  },
  {
   "cell_type": "code",
   "execution_count": 35,
   "metadata": {},
   "outputs": [],
   "source": [
    "from datasist.structdata import detect_outliers "
   ]
  },
  {
   "cell_type": "code",
   "execution_count": 36,
   "metadata": {
    "execution": {
     "iopub.execute_input": "2022-09-11T11:40:26.46934Z",
     "iopub.status.busy": "2022-09-11T11:40:26.468028Z",
     "iopub.status.idle": "2022-09-11T11:40:26.535358Z",
     "shell.execute_reply": "2022-09-11T11:40:26.53404Z",
     "shell.execute_reply.started": "2022-09-11T11:40:26.469248Z"
    }
   },
   "outputs": [],
   "source": [
    "df_nums = df.copy()\n",
    "outliears = detect_outliers(df_nums[numerical_cols],0,df_nums[numerical_cols].columns)\n",
    "df_nums.drop(outliears,inplace=True)"
   ]
  },
  {
   "cell_type": "code",
   "execution_count": 37,
   "metadata": {
    "execution": {
     "iopub.execute_input": "2022-09-11T11:40:26.538397Z",
     "iopub.status.busy": "2022-09-11T11:40:26.53744Z",
     "iopub.status.idle": "2022-09-11T11:40:26.961461Z",
     "shell.execute_reply": "2022-09-11T11:40:26.959817Z",
     "shell.execute_reply.started": "2022-09-11T11:40:26.538357Z"
    }
   },
   "outputs": [
    {
     "data": {
      "image/png": "[encoded data removed]",
      "text/plain": [
       "<Figure size 576x576 with 1 Axes>"
      ]
     },
     "metadata": {},
     "output_type": "display_data"
    }
   ],
   "source": [
    "sns.histplot(data = df_nums , x = 'Kilometers_Driven');"
   ]
  },
  {
   "cell_type": "code",
   "execution_count": 38,
   "metadata": {
    "execution": {
     "iopub.execute_input": "2022-09-11T11:40:26.964013Z",
     "iopub.status.busy": "2022-09-11T11:40:26.963471Z",
     "iopub.status.idle": "2022-09-11T11:40:27.38024Z",
     "shell.execute_reply": "2022-09-11T11:40:27.378519Z",
     "shell.execute_reply.started": "2022-09-11T11:40:26.963973Z"
    }
   },
   "outputs": [
    {
     "data": {
      "image/png": "[encoded data removed]",
      "text/plain": [
       "<Figure size 576x576 with 1 Axes>"
      ]
     },
     "metadata": {},
     "output_type": "display_data"
    }
   ],
   "source": [
    "sns.histplot(data = df_nums , x = 'Mileage');"
   ]
  },
  {
   "cell_type": "code",
   "execution_count": 39,
   "metadata": {
    "execution": {
     "iopub.execute_input": "2022-09-11T11:40:27.389203Z",
     "iopub.status.busy": "2022-09-11T11:40:27.388309Z",
     "iopub.status.idle": "2022-09-11T11:40:27.835917Z",
     "shell.execute_reply": "2022-09-11T11:40:27.834303Z",
     "shell.execute_reply.started": "2022-09-11T11:40:27.389131Z"
    }
   },
   "outputs": [
    {
     "data": {
      "image/png": "[encoded data removed]",
      "text/plain": [
       "<Figure size 576x576 with 1 Axes>"
      ]
     },
     "metadata": {},
     "output_type": "display_data"
    }
   ],
   "source": [
    "sns.histplot(data = df_nums , x = 'Engine');"
   ]
  },
  {
   "cell_type": "code",
   "execution_count": 40,
   "metadata": {
    "execution": {
     "iopub.execute_input": "2022-09-11T11:40:27.839507Z",
     "iopub.status.busy": "2022-09-11T11:40:27.838141Z",
     "iopub.status.idle": "2022-09-11T11:40:28.274195Z",
     "shell.execute_reply": "2022-09-11T11:40:28.272631Z",
     "shell.execute_reply.started": "2022-09-11T11:40:27.83946Z"
    }
   },
   "outputs": [
    {
     "data": {
      "image/png": "[encoded data removed]",
      "text/plain": [
       "<Figure size 576x576 with 1 Axes>"
      ]
     },
     "metadata": {},
     "output_type": "display_data"
    }
   ],
   "source": [
    "sns.histplot(data = df_nums , x = 'Power');"
   ]
  },
  {
   "cell_type": "code",
   "execution_count": 41,
   "metadata": {
    "execution": {
     "iopub.execute_input": "2022-09-11T11:40:28.277352Z",
     "iopub.status.busy": "2022-09-11T11:40:28.276146Z",
     "iopub.status.idle": "2022-09-11T11:40:28.725385Z",
     "shell.execute_reply": "2022-09-11T11:40:28.724116Z",
     "shell.execute_reply.started": "2022-09-11T11:40:28.277272Z"
    }
   },
   "outputs": [
    {
     "data": {
      "image/png": "[encoded data removed]",
      "text/plain": [
       "<Figure size 576x576 with 1 Axes>"
      ]
     },
     "metadata": {},
     "output_type": "display_data"
    }
   ],
   "source": [
    "sns.histplot(data = df_nums , x = 'Price');"
   ]
  },
  {
   "cell_type": "markdown",
   "metadata": {
    "execution": {
     "iopub.execute_input": "2022-09-11T11:40:28.727539Z",
     "iopub.status.busy": "2022-09-11T11:40:28.727133Z",
     "iopub.status.idle": "2022-09-11T11:40:28.766025Z",
     "shell.execute_reply": "2022-09-11T11:40:28.764506Z",
     "shell.execute_reply.started": "2022-09-11T11:40:28.727497Z"
    }
   },
   "source": [
    "## 3.2 BiVariant Analysis"
   ]
  },
  {
   "cell_type": "code",
   "execution_count": 42,
   "metadata": {},
   "outputs": [
    {
     "data": {
      "text/plain": [
       "<AxesSubplot:xlabel='Brand', ylabel='Price'>"
      ]
     },
     "execution_count": 42,
     "metadata": {},
     "output_type": "execute_result"
    },
    {
     "data": {
      "image/png": "[encoded data removed]",
      "text/plain": [
       "<Figure size 576x576 with 1 Axes>"
      ]
     },
     "metadata": {},
     "output_type": "display_data"
    }
   ],
   "source": [
    "sns.boxplot(data=df, x='Brand', y='Price')"
   ]
  },
  {
   "cell_type": "code",
   "execution_count": 43,
   "metadata": {},
   "outputs": [
    {
     "data": {
      "text/plain": [
       "<AxesSubplot:xlabel='Transmission', ylabel='Price'>"
      ]
     },
     "execution_count": 43,
     "metadata": {},
     "output_type": "execute_result"
    },
    {
     "data": {
      "image/png": "[encoded data removed]",
      "text/plain": [
       "<Figure size 576x576 with 1 Axes>"
      ]
     },
     "metadata": {},
     "output_type": "display_data"
    }
   ],
   "source": [
    "sns.boxplot(data=df, x='Transmission', y='Price')"
   ]
  },
  {
   "cell_type": "code",
   "execution_count": 44,
   "metadata": {},
   "outputs": [
    {
     "data": {
      "text/plain": [
       "<AxesSubplot:xlabel='Kilometers_Driven', ylabel='Price'>"
      ]
     },
     "execution_count": 44,
     "metadata": {},
     "output_type": "execute_result"
    },
    {
     "data": {
      "image/png": "[encoded data removed]",
      "text/plain": [
       "<Figure size 576x576 with 1 Axes>"
      ]
     },
     "metadata": {},
     "output_type": "display_data"
    }
   ],
   "source": [
    "sns.scatterplot(data = df , x = \"Kilometers_Driven\" , y =\"Price\")"
   ]
  },
  {
   "cell_type": "code",
   "execution_count": 45,
   "metadata": {},
   "outputs": [
    {
     "data": {
      "text/plain": [
       "<AxesSubplot:xlabel='Year', ylabel='Price'>"
      ]
     },
     "execution_count": 45,
     "metadata": {},
     "output_type": "execute_result"
    },
    {
     "data": {
      "image/png": "[encoded data removed]",
      "text/plain": [
       "<Figure size 576x576 with 1 Axes>"
      ]
     },
     "metadata": {},
     "output_type": "display_data"
    }
   ],
   "source": [
    "sns.scatterplot(data = df , x =\"Year\" , y = 'Price' )"
   ]
  },
  {
   "cell_type": "code",
   "execution_count": 46,
   "metadata": {},
   "outputs": [
    {
     "data": {
      "text/plain": [
       "<AxesSubplot:>"
      ]
     },
     "execution_count": 46,
     "metadata": {},
     "output_type": "execute_result"
    },
    {
     "data": {
      "image/png": "[encoded data removed]",
      "text/plain": [
       "<Figure size 576x576 with 2 Axes>"
      ]
     },
     "metadata": {},
     "output_type": "display_data"
    }
   ],
   "source": [
    "sns.heatmap(df.corr(), annot=True)"
   ]
  },
  {
   "cell_type": "code",
   "execution_count": 47,
   "metadata": {},
   "outputs": [
    {
     "data": {
      "text/plain": [
       "Index(['Name', 'Location', 'Year', 'Kilometers_Driven', 'Fuel_Type',\n",
       "       'Transmission', 'Owner_Type', 'Mileage', 'Engine', 'Power', 'Seats',\n",
       "       'Price', 'Brand'],\n",
       "      dtype='object')"
      ]
     },
     "execution_count": 47,
     "metadata": {},
     "output_type": "execute_result"
    }
   ],
   "source": [
    "df.columns"
   ]
  },
  {
   "cell_type": "code",
   "execution_count": 48,
   "metadata": {},
   "outputs": [
    {
     "data": {
      "text/html": [
       "<div>\n",
       "<style scoped>\n",
       "    .dataframe tbody tr th:only-of-type {\n",
       "        vertical-align: middle;\n",
       "    }\n",
       "\n",
       "    .dataframe tbody tr th {\n",
       "        vertical-align: top;\n",
       "    }\n",
       "\n",
       "    .dataframe thead th {\n",
       "        text-align: right;\n",
       "    }\n",
       "</style>\n",
       "<table border=\"1\" class=\"dataframe\">\n",
       "  <thead>\n",
       "    <tr style=\"text-align: right;\">\n",
       "      <th></th>\n",
       "      <th>Name</th>\n",
       "      <th>Location</th>\n",
       "      <th>Year</th>\n",
       "      <th>Kilometers_Driven</th>\n",
       "      <th>Fuel_Type</th>\n",
       "      <th>Transmission</th>\n",
       "      <th>Owner_Type</th>\n",
       "      <th>Mileage</th>\n",
       "      <th>Engine</th>\n",
       "      <th>Power</th>\n",
       "      <th>Seats</th>\n",
       "      <th>Price</th>\n",
       "      <th>Brand</th>\n",
       "    </tr>\n",
       "  </thead>\n",
       "  <tbody>\n",
       "    <tr>\n",
       "      <th>0</th>\n",
       "      <td>Maruti Wagon</td>\n",
       "      <td>Mumbai</td>\n",
       "      <td>2010</td>\n",
       "      <td>72000</td>\n",
       "      <td>CNG</td>\n",
       "      <td>Manual</td>\n",
       "      <td>First</td>\n",
       "      <td>26.6</td>\n",
       "      <td>998</td>\n",
       "      <td>58.16</td>\n",
       "      <td>5</td>\n",
       "      <td>1.75</td>\n",
       "      <td>Maruti</td>\n",
       "    </tr>\n",
       "    <tr>\n",
       "      <th>1</th>\n",
       "      <td>Hyundai Creta</td>\n",
       "      <td>Pune</td>\n",
       "      <td>2015</td>\n",
       "      <td>41000</td>\n",
       "      <td>Diesel</td>\n",
       "      <td>Manual</td>\n",
       "      <td>First</td>\n",
       "      <td>19.67</td>\n",
       "      <td>1582</td>\n",
       "      <td>126.2</td>\n",
       "      <td>5</td>\n",
       "      <td>12.5</td>\n",
       "      <td>Hyundai</td>\n",
       "    </tr>\n",
       "    <tr>\n",
       "      <th>2</th>\n",
       "      <td>Honda Jazz</td>\n",
       "      <td>Chennai</td>\n",
       "      <td>2011</td>\n",
       "      <td>46000</td>\n",
       "      <td>Petrol</td>\n",
       "      <td>Manual</td>\n",
       "      <td>First</td>\n",
       "      <td>18.2</td>\n",
       "      <td>1199</td>\n",
       "      <td>88.7</td>\n",
       "      <td>5</td>\n",
       "      <td>4.5</td>\n",
       "      <td>Honda</td>\n",
       "    </tr>\n",
       "    <tr>\n",
       "      <th>3</th>\n",
       "      <td>Maruti Ertiga</td>\n",
       "      <td>Chennai</td>\n",
       "      <td>2012</td>\n",
       "      <td>87000</td>\n",
       "      <td>Diesel</td>\n",
       "      <td>Manual</td>\n",
       "      <td>First</td>\n",
       "      <td>20.77</td>\n",
       "      <td>1248</td>\n",
       "      <td>88.76</td>\n",
       "      <td>7</td>\n",
       "      <td>6.0</td>\n",
       "      <td>Maruti</td>\n",
       "    </tr>\n",
       "    <tr>\n",
       "      <th>4</th>\n",
       "      <td>Audi A4</td>\n",
       "      <td>Coimbatore</td>\n",
       "      <td>2013</td>\n",
       "      <td>40670</td>\n",
       "      <td>Diesel</td>\n",
       "      <td>Automatic</td>\n",
       "      <td>Second</td>\n",
       "      <td>15.2</td>\n",
       "      <td>1968</td>\n",
       "      <td>140.8</td>\n",
       "      <td>5</td>\n",
       "      <td>17.74</td>\n",
       "      <td>Audi</td>\n",
       "    </tr>\n",
       "    <tr>\n",
       "      <th>...</th>\n",
       "      <td>...</td>\n",
       "      <td>...</td>\n",
       "      <td>...</td>\n",
       "      <td>...</td>\n",
       "      <td>...</td>\n",
       "      <td>...</td>\n",
       "      <td>...</td>\n",
       "      <td>...</td>\n",
       "      <td>...</td>\n",
       "      <td>...</td>\n",
       "      <td>...</td>\n",
       "      <td>...</td>\n",
       "      <td>...</td>\n",
       "    </tr>\n",
       "    <tr>\n",
       "      <th>6014</th>\n",
       "      <td>Maruti Swift</td>\n",
       "      <td>Delhi</td>\n",
       "      <td>2014</td>\n",
       "      <td>27365</td>\n",
       "      <td>Diesel</td>\n",
       "      <td>Manual</td>\n",
       "      <td>First</td>\n",
       "      <td>28.4</td>\n",
       "      <td>1248</td>\n",
       "      <td>74.0</td>\n",
       "      <td>5</td>\n",
       "      <td>4.75</td>\n",
       "      <td>Maruti</td>\n",
       "    </tr>\n",
       "    <tr>\n",
       "      <th>6015</th>\n",
       "      <td>Hyundai Xcent</td>\n",
       "      <td>Jaipur</td>\n",
       "      <td>2015</td>\n",
       "      <td>100000</td>\n",
       "      <td>Diesel</td>\n",
       "      <td>Manual</td>\n",
       "      <td>First</td>\n",
       "      <td>24.4</td>\n",
       "      <td>1120</td>\n",
       "      <td>71.0</td>\n",
       "      <td>5</td>\n",
       "      <td>4.0</td>\n",
       "      <td>Hyundai</td>\n",
       "    </tr>\n",
       "    <tr>\n",
       "      <th>6016</th>\n",
       "      <td>Mahindra Xylo</td>\n",
       "      <td>Jaipur</td>\n",
       "      <td>2012</td>\n",
       "      <td>55000</td>\n",
       "      <td>Diesel</td>\n",
       "      <td>Manual</td>\n",
       "      <td>Second</td>\n",
       "      <td>14.0</td>\n",
       "      <td>2498</td>\n",
       "      <td>112.0</td>\n",
       "      <td>8</td>\n",
       "      <td>2.9</td>\n",
       "      <td>Mahindra</td>\n",
       "    </tr>\n",
       "    <tr>\n",
       "      <th>6017</th>\n",
       "      <td>Maruti Wagon</td>\n",
       "      <td>Kolkata</td>\n",
       "      <td>2013</td>\n",
       "      <td>46000</td>\n",
       "      <td>Petrol</td>\n",
       "      <td>Manual</td>\n",
       "      <td>First</td>\n",
       "      <td>18.9</td>\n",
       "      <td>998</td>\n",
       "      <td>67.1</td>\n",
       "      <td>5</td>\n",
       "      <td>2.65</td>\n",
       "      <td>Maruti</td>\n",
       "    </tr>\n",
       "    <tr>\n",
       "      <th>6018</th>\n",
       "      <td>Chevrolet Beat</td>\n",
       "      <td>Hyderabad</td>\n",
       "      <td>2011</td>\n",
       "      <td>47000</td>\n",
       "      <td>Diesel</td>\n",
       "      <td>Manual</td>\n",
       "      <td>First</td>\n",
       "      <td>25.44</td>\n",
       "      <td>936</td>\n",
       "      <td>57.6</td>\n",
       "      <td>5</td>\n",
       "      <td>2.5</td>\n",
       "      <td>Chevrolet</td>\n",
       "    </tr>\n",
       "  </tbody>\n",
       "</table>\n",
       "<p>5912 rows × 13 columns</p>\n",
       "</div>"
      ],
      "text/plain": [
       "                Name    Location  Year  Kilometers_Driven Fuel_Type  \\\n",
       "0       Maruti Wagon      Mumbai  2010              72000       CNG   \n",
       "1      Hyundai Creta        Pune  2015              41000    Diesel   \n",
       "2         Honda Jazz     Chennai  2011              46000    Petrol   \n",
       "3      Maruti Ertiga     Chennai  2012              87000    Diesel   \n",
       "4            Audi A4  Coimbatore  2013              40670    Diesel   \n",
       "...              ...         ...   ...                ...       ...   \n",
       "6014    Maruti Swift       Delhi  2014              27365    Diesel   \n",
       "6015   Hyundai Xcent      Jaipur  2015             100000    Diesel   \n",
       "6016   Mahindra Xylo      Jaipur  2012              55000    Diesel   \n",
       "6017    Maruti Wagon     Kolkata  2013              46000    Petrol   \n",
       "6018  Chevrolet Beat   Hyderabad  2011              47000    Diesel   \n",
       "\n",
       "     Transmission Owner_Type  Mileage  Engine  Power  Seats  Price      Brand  \n",
       "0          Manual      First     26.6     998  58.16      5   1.75     Maruti  \n",
       "1          Manual      First    19.67    1582  126.2      5   12.5    Hyundai  \n",
       "2          Manual      First     18.2    1199   88.7      5    4.5      Honda  \n",
       "3          Manual      First    20.77    1248  88.76      7    6.0     Maruti  \n",
       "4       Automatic     Second     15.2    1968  140.8      5  17.74       Audi  \n",
       "...           ...        ...      ...     ...    ...    ...    ...        ...  \n",
       "6014       Manual      First     28.4    1248   74.0      5   4.75     Maruti  \n",
       "6015       Manual      First     24.4    1120   71.0      5    4.0    Hyundai  \n",
       "6016       Manual     Second     14.0    2498  112.0      8    2.9   Mahindra  \n",
       "6017       Manual      First     18.9     998   67.1      5   2.65     Maruti  \n",
       "6018       Manual      First    25.44     936   57.6      5    2.5  Chevrolet  \n",
       "\n",
       "[5912 rows x 13 columns]"
      ]
     },
     "execution_count": 48,
     "metadata": {},
     "output_type": "execute_result"
    }
   ],
   "source": [
    "df"
   ]
  },
  {
   "cell_type": "markdown",
   "metadata": {},
   "source": [
    "# 4. Data pre-processing"
   ]
  },
  {
   "cell_type": "markdown",
   "metadata": {},
   "source": [
    "### 4.1 Data transformation "
   ]
  },
  {
   "cell_type": "markdown",
   "metadata": {},
   "source": [
    "#### 4.1.1 Catogerical transformation"
   ]
  },
  {
   "cell_type": "markdown",
   "metadata": {},
   "source": [
    "##### 4.1.1.1 ordinal transformation"
   ]
  },
  {
   "cell_type": "code",
   "execution_count": 49,
   "metadata": {
    "execution": {
     "iopub.execute_input": "2022-09-11T11:40:28.767769Z",
     "iopub.status.busy": "2022-09-11T11:40:28.767444Z",
     "iopub.status.idle": "2022-09-11T11:40:28.77459Z",
     "shell.execute_reply": "2022-09-11T11:40:28.772787Z",
     "shell.execute_reply.started": "2022-09-11T11:40:28.767739Z"
    }
   },
   "outputs": [],
   "source": [
    "transformation = {\n",
    "    \"First\":3,\n",
    "    \"Second\":2,\n",
    "    \"Third\":1,\n",
    "    \"Fourth & Above\":0\n",
    "}"
   ]
  },
  {
   "cell_type": "code",
   "execution_count": 50,
   "metadata": {
    "execution": {
     "iopub.execute_input": "2022-09-11T11:40:28.77689Z",
     "iopub.status.busy": "2022-09-11T11:40:28.776317Z",
     "iopub.status.idle": "2022-09-11T11:40:28.788169Z",
     "shell.execute_reply": "2022-09-11T11:40:28.786845Z",
     "shell.execute_reply.started": "2022-09-11T11:40:28.776853Z"
    }
   },
   "outputs": [],
   "source": [
    "df['Owner_Type'] = df['Owner_Type'].map(transformation)"
   ]
  },
  {
   "cell_type": "markdown",
   "metadata": {},
   "source": [
    "##### 4.1.1.2 Nominal transformation\n"
   ]
  },
  {
   "cell_type": "code",
   "execution_count": 51,
   "metadata": {
    "execution": {
     "iopub.execute_input": "2022-09-11T11:40:28.79085Z",
     "iopub.status.busy": "2022-09-11T11:40:28.790102Z",
     "iopub.status.idle": "2022-09-11T11:40:28.978778Z",
     "shell.execute_reply": "2022-09-11T11:40:28.977865Z",
     "shell.execute_reply.started": "2022-09-11T11:40:28.790811Z"
    }
   },
   "outputs": [],
   "source": [
    "Nominal_data = ['Name','Location','Fuel_Type','Transmission','Brand']\n",
    "binaryencoder = ce.BinaryEncoder(cols=Nominal_data)\n",
    "df = binaryencoder.fit_transform(df)"
   ]
  },
  {
   "cell_type": "code",
   "execution_count": 52,
   "metadata": {
    "execution": {
     "iopub.execute_input": "2022-09-11T11:40:28.980874Z",
     "iopub.status.busy": "2022-09-11T11:40:28.980281Z",
     "iopub.status.idle": "2022-09-11T11:40:28.986735Z",
     "shell.execute_reply": "2022-09-11T11:40:28.98527Z",
     "shell.execute_reply.started": "2022-09-11T11:40:28.98084Z"
    }
   },
   "outputs": [],
   "source": [
    "Numerical_data = ['Year','Kilometers_Driven','Mileage','Engine','Power','Seats','Price']"
   ]
  },
  {
   "cell_type": "markdown",
   "metadata": {},
   "source": [
    "#### 4.2.1 Numerical transformation "
   ]
  },
  {
   "cell_type": "code",
   "execution_count": 53,
   "metadata": {
    "execution": {
     "iopub.execute_input": "2022-09-11T11:40:28.989027Z",
     "iopub.status.busy": "2022-09-11T11:40:28.988674Z",
     "iopub.status.idle": "2022-09-11T11:40:29.29814Z",
     "shell.execute_reply": "2022-09-11T11:40:29.296701Z",
     "shell.execute_reply.started": "2022-09-11T11:40:28.988996Z"
    }
   },
   "outputs": [
    {
     "name": "stderr",
     "output_type": "stream",
     "text": [
      "C:\\Users\\Lenovo\\anaconda3\\lib\\site-packages\\sklearn\\preprocessing\\_data.py:3202: RuntimeWarning: overflow encountered in power\n",
      "  out[pos] = (np.power(x[pos] + 1, lmbda) - 1) / lmbda\n",
      "C:\\Users\\Lenovo\\anaconda3\\lib\\site-packages\\numpy\\core\\_methods.py:232: RuntimeWarning: overflow encountered in multiply\n",
      "  x = um.multiply(x, x, out=x)\n",
      "C:\\Users\\Lenovo\\anaconda3\\lib\\site-packages\\numpy\\core\\_methods.py:243: RuntimeWarning: overflow encountered in reduce\n",
      "  ret = umr_sum(x, axis, dtype, out, keepdims=keepdims, where=where)\n"
     ]
    }
   ],
   "source": [
    "new_df = pd.DataFrame(PowerTransformer().fit_transform(df), columns=df.columns, index=df.index)"
   ]
  },
  {
   "cell_type": "markdown",
   "metadata": {},
   "source": [
    "### 4.1 Data splitting "
   ]
  },
  {
   "cell_type": "code",
   "execution_count": 54,
   "metadata": {
    "execution": {
     "iopub.execute_input": "2022-09-11T11:40:29.300625Z",
     "iopub.status.busy": "2022-09-11T11:40:29.300085Z",
     "iopub.status.idle": "2022-09-11T11:40:29.314468Z",
     "shell.execute_reply": "2022-09-11T11:40:29.312434Z",
     "shell.execute_reply.started": "2022-09-11T11:40:29.300575Z"
    }
   },
   "outputs": [],
   "source": [
    "X, y = new_df.drop(\"Price\",axis=1) , new_df[\"Price\"] \n",
    "X_train, X_test, y_train, y_test = train_test_split(X, y, test_size=0.3, random_state=42)"
   ]
  },
  {
   "cell_type": "markdown",
   "metadata": {},
   "source": [
    "# 5.0 Modeling "
   ]
  },
  {
   "cell_type": "code",
   "execution_count": 55,
   "metadata": {},
   "outputs": [
    {
     "data": {
      "text/plain": [
       "{'divide': 'warn', 'over': 'warn', 'under': 'ignore', 'invalid': 'warn'}"
      ]
     },
     "execution_count": 55,
     "metadata": {},
     "output_type": "execute_result"
    }
   ],
   "source": [
    "from sklearn.linear_model import LinearRegression\n",
    "from sklearn.linear_model import LassoCV\n",
    "from sklearn.linear_model import RidgeCV\n",
    "from sklearn.linear_model import ElasticNetCV\n",
    "from sklearn.ensemble import RandomForestRegressor\n",
    "from sklearn.pipeline import Pipeline\n",
    "from sklearn.model_selection import cross_validate\n",
    "np.seterr(divide='ignore', invalid='ignore', over='ignore')"
   ]
  },
  {
   "cell_type": "markdown",
   "metadata": {},
   "source": [
    "### 5.1 Linear regression"
   ]
  },
  {
   "cell_type": "code",
   "execution_count": 56,
   "metadata": {
    "execution": {
     "iopub.execute_input": "2022-09-11T11:40:29.317165Z",
     "iopub.status.busy": "2022-09-11T11:40:29.316584Z",
     "iopub.status.idle": "2022-09-11T11:40:29.405061Z",
     "shell.execute_reply": "2022-09-11T11:40:29.403878Z",
     "shell.execute_reply.started": "2022-09-11T11:40:29.317113Z"
    }
   },
   "outputs": [
    {
     "name": "stdout",
     "output_type": "stream",
     "text": [
      "R-Squered Trian 87.81 %\n",
      "R-Squered Test 88.41 %\n",
      "RMSE: 0.11025093646673337\n"
     ]
    }
   ],
   "source": [
    "reg = LinearRegression().fit(X_train,(y_train))\n",
    "print(\"R-Squered Trian\",round((reg.score(X_train,  (y_train))*100),2),'%')\n",
    "print(\"R-Squered Test\",round((reg.score(X_test,  (y_test))*100),2),'%')\n",
    "y_pred = reg.predict(X_test)\n",
    "print(f\"RMSE: {mean_squared_error(y_pred,(y_test))}\")"
   ]
  },
  {
   "cell_type": "markdown",
   "metadata": {},
   "source": [
    "### 5.3 Linear regression (Lasso method)"
   ]
  },
  {
   "cell_type": "code",
   "execution_count": 57,
   "metadata": {
    "execution": {
     "iopub.execute_input": "2022-09-11T11:40:29.40875Z",
     "iopub.status.busy": "2022-09-11T11:40:29.406878Z",
     "iopub.status.idle": "2022-09-11T11:40:29.437192Z",
     "shell.execute_reply": "2022-09-11T11:40:29.434962Z",
     "shell.execute_reply.started": "2022-09-11T11:40:29.408701Z"
    }
   },
   "outputs": [
    {
     "data": {
      "text/plain": [
       "PolynomialFeatures()"
      ]
     },
     "execution_count": 57,
     "metadata": {},
     "output_type": "execute_result"
    }
   ],
   "source": [
    "from sklearn.preprocessing import PolynomialFeatures\n",
    "poly_reg = PolynomialFeatures(degree = 2)\n",
    "poly_reg.fit(X_train)"
   ]
  },
  {
   "cell_type": "code",
   "execution_count": 58,
   "metadata": {
    "execution": {
     "iopub.execute_input": "2022-09-11T11:40:29.442866Z",
     "iopub.status.busy": "2022-09-11T11:40:29.440546Z",
     "iopub.status.idle": "2022-09-11T11:40:29.5231Z",
     "shell.execute_reply": "2022-09-11T11:40:29.522077Z",
     "shell.execute_reply.started": "2022-09-11T11:40:29.442792Z"
    }
   },
   "outputs": [],
   "source": [
    "X_train = poly_reg.transform(X_train)\n",
    "X_test = poly_reg.transform(X_test)"
   ]
  },
  {
   "cell_type": "code",
   "execution_count": 59,
   "metadata": {
    "execution": {
     "iopub.execute_input": "2022-09-11T11:40:29.52531Z",
     "iopub.status.busy": "2022-09-11T11:40:29.524701Z",
     "iopub.status.idle": "2022-09-11T11:40:35.189631Z",
     "shell.execute_reply": "2022-09-11T11:40:35.187955Z",
     "shell.execute_reply.started": "2022-09-11T11:40:29.52526Z"
    }
   },
   "outputs": [
    {
     "name": "stdout",
     "output_type": "stream",
     "text": [
      "R-Squered Trian 94.96 %\n",
      "R-Squered Test 94.43 %\n",
      "RMSE: 0.052935648917119674\n"
     ]
    }
   ],
   "source": [
    "reg = LassoCV().fit(X_train,(y_train))\n",
    "print(\"R-Squered Trian\",round((reg.score(X_train,  (y_train))*100),2),'%')\n",
    "print(\"R-Squered Test\",round((reg.score(X_test,  (y_test))*100),2),'%')\n",
    "y_pred = reg.predict(X_test)\n",
    "print(f\"RMSE: {mean_squared_error(y_pred,(y_test))}\")"
   ]
  },
  {
   "cell_type": "markdown",
   "metadata": {},
   "source": [
    "### 5.4 Linear regression (Ridge method)"
   ]
  },
  {
   "cell_type": "code",
   "execution_count": 60,
   "metadata": {
    "execution": {
     "iopub.execute_input": "2022-09-11T11:40:35.194178Z",
     "iopub.status.busy": "2022-09-11T11:40:35.192219Z",
     "iopub.status.idle": "2022-09-11T11:40:35.853952Z",
     "shell.execute_reply": "2022-09-11T11:40:35.852194Z",
     "shell.execute_reply.started": "2022-09-11T11:40:35.194125Z"
    }
   },
   "outputs": [
    {
     "name": "stdout",
     "output_type": "stream",
     "text": [
      "R-Squered Trian 95.27 %\n",
      "R-Squered Test 94.21 %\n",
      "RMSE: 0.055040704602290914\n"
     ]
    }
   ],
   "source": [
    "reg = RidgeCV().fit(X_train,(y_train))\n",
    "print(\"R-Squered Trian\",round((reg.score(X_train,  (y_train))*100),2),'%')\n",
    "print(\"R-Squered Test\",round((reg.score(X_test,  (y_test))*100),2),'%')\n",
    "y_pred = reg.predict(X_test)\n",
    "print(f\"RMSE: {mean_squared_error(y_pred,(y_test))}\")"
   ]
  },
  {
   "cell_type": "markdown",
   "metadata": {},
   "source": [
    "### 5.4 Linear regression (ElasticNetCV method)"
   ]
  },
  {
   "cell_type": "code",
   "execution_count": 61,
   "metadata": {
    "execution": {
     "iopub.execute_input": "2022-09-11T11:40:35.858365Z",
     "iopub.status.busy": "2022-09-11T11:40:35.857009Z",
     "iopub.status.idle": "2022-09-11T11:40:40.875158Z",
     "shell.execute_reply": "2022-09-11T11:40:40.873604Z",
     "shell.execute_reply.started": "2022-09-11T11:40:35.858274Z"
    }
   },
   "outputs": [
    {
     "name": "stdout",
     "output_type": "stream",
     "text": [
      "R-Squered Trian 94.98 %\n",
      "R-Squered Test 94.44 %\n",
      "RMSE: 0.052891528601156125\n"
     ]
    }
   ],
   "source": [
    "reg = ElasticNetCV().fit(X_train,(y_train))\n",
    "print(\"R-Squered Trian\",round((reg.score(X_train,  (y_train))*100),2),'%')\n",
    "print(\"R-Squered Test\",round((reg.score(X_test,  (y_test))*100),2),'%')\n",
    "y_pred = reg.predict(X_test)\n",
    "print(f\"RMSE: {mean_squared_error(y_pred,(y_test))}\")"
   ]
  },
  {
   "cell_type": "markdown",
   "metadata": {},
   "source": [
    "## 5.5 Random Forest Regressior and tunning parrameter in it"
   ]
  },
  {
   "cell_type": "code",
   "execution_count": 62,
   "metadata": {},
   "outputs": [
    {
     "name": "stdout",
     "output_type": "stream",
     "text": [
      "0.9770598787258263\n",
      "0.9402676040946714\n",
      "RMSE: 0.052891528601156125\n"
     ]
    }
   ],
   "source": [
    "rf_reg = RandomForestRegressor(n_estimators=120,max_depth=10)\n",
    "rf_reg.fit(X_train, y_train);\n",
    "print(rf_reg.score(X_train, y_train))\n",
    "print(rf_reg.score(X_test, y_test))\n",
    "print(f\"RMSE: {mean_squared_error(y_pred,(y_test))}\")"
   ]
  },
  {
   "cell_type": "markdown",
   "metadata": {},
   "source": [
    "# 6 Ensemble Method with Pipeline"
   ]
  },
  {
   "cell_type": "code",
   "execution_count": 64,
   "metadata": {},
   "outputs": [],
   "source": [
    "models = list()\n",
    "models.append((\"LR\",LinearRegression()))\n",
    "models.append((\"Lasso\",LassoCV()))\n",
    "models.append((\"Ridge\",RidgeCV()))\n",
    "models.append((\"ElasticNet\",ElasticNetCV()))\n",
    "models.append((\"Random Forest\",RandomForestRegressor(n_estimators=120,max_depth=10)))"
   ]
  },
  {
   "cell_type": "code",
   "execution_count": 65,
   "metadata": {},
   "outputs": [
    {
     "name": "stdout",
     "output_type": "stream",
     "text": [
      "LR\n",
      "Train_accuracy 0.8806059455601251\n",
      "Test_accuracy 0.8758993765858465\n",
      "-------------------------\n",
      "Lasso\n",
      "Train_accuracy 0.8803402998662359\n",
      "Test_accuracy 0.8757965567239403\n",
      "-------------------------\n",
      "Ridge\n",
      "Train_accuracy 0.8806012342050064\n",
      "Test_accuracy 0.875925825965675\n",
      "-------------------------\n",
      "ElasticNet\n",
      "Train_accuracy 0.880346197550808\n",
      "Test_accuracy 0.8758652524082674\n",
      "-------------------------\n",
      "Random Forest\n",
      "Train_accuracy 0.968562758155227\n",
      "Test_accuracy 0.9174058082125436\n",
      "-------------------------\n"
     ]
    }
   ],
   "source": [
    "for model in models:\n",
    "    steps = list()\n",
    "    #steps.append((\"Scaler\" , StandardScaler()))\n",
    "    steps.append(model)\n",
    "    pipeline = Pipeline(steps = steps)\n",
    "    scores = cross_validate(pipeline , X , y , cv = 5  , scoring=\"r2\" , return_train_score=True)\n",
    "    print(model[0])\n",
    "    print(\"Train_accuracy\", scores[\"train_score\"].mean())\n",
    "    print(\"Test_accuracy\" , scores[\"test_score\"].mean())\n",
    "    print(\"-\" * 25)"
   ]
  },
  {
   "cell_type": "markdown",
   "metadata": {},
   "source": [
    "## 7 Grid Search"
   ]
  },
  {
   "cell_type": "code",
   "execution_count": null,
   "metadata": {},
   "outputs": [],
   "source": [
    "params  = [\n",
    "    { \"Model__kernel\" : [\"Random Forest\"] , \"max_depth\" : range(10,11,12) } ,\n",
    "    {\"Model__kernel\" : [\"rbf\"] , \"cv\" : [5,6,7]} ,\n",
    "]"
   ]
  },
  {
   "cell_type": "code",
   "execution_count": 56,
   "metadata": {},
   "outputs": [],
   "source": [
    "grid = GridSearchCV(estimator = pipeline , param_grid = params , cv = 5  ,return_train_score=True ,  scoring = \"accuracy\" )"
   ]
  },
  {
   "cell_type": "code",
   "execution_count": null,
   "metadata": {},
   "outputs": [],
   "source": [
    "grid.fit(x,y)"
   ]
  },
  {
   "cell_type": "code",
   "execution_count": null,
   "metadata": {},
   "outputs": [],
   "source": [
    "grid.best_params_"
   ]
  },
  {
   "cell_type": "code",
   "execution_count": null,
   "metadata": {},
   "outputs": [],
   "source": [
    "grid.cv_results_[\"mean_train_score\"].max()"
   ]
  },
  {
   "cell_type": "code",
   "execution_count": null,
   "metadata": {},
   "outputs": [],
   "source": [
    "grid.cv_results_[\"mean_test_score\"].max()"
   ]
  },
  {
   "cell_type": "markdown",
   "metadata": {},
   "source": [
    "## 8 Deployment"
   ]
  },
  {
   "cell_type": "code",
   "execution_count": 67,
   "metadata": {},
   "outputs": [],
   "source": [
    "import joblib\n",
    "import streamlit as st"
   ]
  },
  {
   "cell_type": "code",
   "execution_count": null,
   "metadata": {},
   "outputs": [],
   "source": [
    "joblib.dump(reg , \"final_model.h5\")\n",
    "joblib.dump(df.columns,\"input_dep.h5\")"
   ]
  },
  {
   "cell_type": "code",
   "execution_count": 55,
   "metadata": {},
   "outputs": [
    {
     "data": {
      "text/plain": [
       "Index(['Name', 'Location', 'Year', 'Kilometers_Driven', 'Fuel_Type',\n",
       "       'Transmission', 'Owner_Type', 'Mileage', 'Engine', 'Power', 'Seats',\n",
       "       'Price', 'Brand'],\n",
       "      dtype='object')"
      ]
     },
     "execution_count": 55,
     "metadata": {},
     "output_type": "execute_result"
    }
   ],
   "source": [
    "df.columns"
   ]
  },
  {
   "cell_type": "code",
   "execution_count": 68,
   "metadata": {},
   "outputs": [
    {
     "name": "stderr",
     "output_type": "stream",
     "text": [
      "2022-12-09 21:54:57.303 \n",
      "  \u001b[33m\u001b[1mWarning:\u001b[0m to view this Streamlit app on a browser, run it with the following\n",
      "  command:\n",
      "\n",
      "    streamlit run C:\\Users\\Lenovo\\anaconda3\\lib\\site-packages\\ipykernel_launcher.py [ARGUMENTS]\n"
     ]
    }
   ],
   "source": [
    "st.title(\"Know your car price\")\n",
    "\n",
    "inputs = joblib.load(\"input_dep.h5\")\n",
    "model = joblib.load(\"model_dep.h5\")\n",
    "\n",
    "def predict(Name, Location, Year, Kilometers_Driven, Fuel_Type,Transmission, Owner_Type, Mileage, Engine, Power, Seats,Brand):\n",
    "    test_df = pd.DataFrame(columns = inputs)\n",
    "    test_df.at[0,'Name'] = Name\n",
    "    test_df.at[0,'Location'] = Location\n",
    "    test_df.at[0,'Year'] = Year\n",
    "    test_df.at[0,'Kilometers_Driven'] = Kilometers_Driven\n",
    "    test_df.at[0,'Fuel_Type'] = Fuel_Type\n",
    "    test_df.at[0,'Transmission'] = Transmission\n",
    "    test_df.at[0, 'Owner_Type'] = Owner_Type\n",
    "    test_df.at[0, 'Mileage'] = Mileage\n",
    "    test_df.at[0, 'Engine'] = Engine\n",
    "    test_df.at[0, 'Power'] = Power\n",
    "    test_df.at[0, 'Seats'] = Seats\n",
    "    test_df.at[0, 'Brand'] = Brand\n",
    "    \n",
    "    print(test_df)\n",
    "    result = model.predict(test_df)[0]\n",
    "    return result\n",
    "\n",
    "def main():\n",
    "    Name = st.selectbox('Name',('Maruti Wagon','Hyundai Creta', 'Honda Jazz','Maruti Ertiga','Audi A4'\n",
    "                                ,'Hyundai EON','Nissan Micra','Toyota Innova','Volkswagen Vento','Tata Indica','Ford Fusion',\n",
    "                                'Mercedes-Benz SL-Class','BMW Z4','Toyota Prius','Force One','Maruti Versa','Honda WR-V',\n",
    "                                'Bentley Continental',   'Lamborghini Gallardo','Jaguar F'))\n",
    "    Location = st.selectbox('Location',('Mumbai', 'Hyderabad', 'Kochi', 'Coimbatore', 'Pune', 'Delhi',\n",
    "       'Kolkata', 'Chennai', 'Jaipur', 'Bangalore', 'Ahmedabad'))\n",
    "    Year = st.slider(\"Year\" , min_value=1980, max_value=2040, value=2000, step=1)\n",
    "    Kilometers_Driven = st.slider(\"Kilometers_Driven\" , min_value=1, max_value=999999, value=1, step=100)\n",
    "    Fuel_Type = st.selectbox(\"Fuel_Type\",('CNG', 'Diesel', 'Petrol', 'LPG', 'Electric'))\n",
    "    Transmission = st.selectbox(\"Transmission\",('Manual', 'Automatic'))\n",
    "    Owner_Type = st.selectbox(\"Owner_Type\",('First', 'Second', 'Fourth & Above', 'Third'))\n",
    "    Mileage =  st.slider(\"Mileage\" , min_value=1, max_value=999999, value=1, step=100)\n",
    "    Engine = st.slider(\"Engine\" , min_value=0, max_value=6000, value=100, step=100)\n",
    "    Power = st.slider(\"Power\" , min_value=10, max_value=800, value=10, step=10)\n",
    "    Seats = st.slider(\"Seats\" , min_value=1, max_value=20, value=1, step=1)\n",
    "    Brand = st.selectbox(\"Brand\",('Maruti','Hyundai','Honda','Audi',\n",
    "        'Nissan',        'Toyota',    'Volkswagen',          'Tata',\n",
    "          'Land',    'Mitsubishi',       'Renault', 'Mercedes-Benz',\n",
    "           'BMW',      'Mahindra',          'Ford',       'Porsche',\n",
    "        'Datsun',        'Jaguar',         'Volvo',     'Chevrolet',\n",
    "         'Skoda',          'Mini',          'Fiat',          'Jeep',\n",
    "    'Ambassador',         'Isuzu',         'ISUZU',         'Force',\n",
    "       'Bentley',   'Lamborghini'))\n",
    "\n",
    "    \n",
    "    if st.button(\"test\"):\n",
    "        print(Name, Location, int(Year), int(Kilometers_Driven), Fuel_Type,Transmission, Owner_Type, int(Mileage), int(Engine), int(Power), int(Seats) , Brand)\n",
    "    if st.button(\"predict\"):\n",
    "        restult = predict(Name, Location, int(Year), int(Kilometers_Driven), Fuel_Type,Transmission, Owner_Type, int(Mileage), int(Engine), int(Power), int(Seats),Brand)\n",
    "        \n",
    "        st.text(\"The price is {}\".format(restult))\n",
    "if __name__ == '__main__':\n",
    "    main()"
   ]
  },
  {
   "cell_type": "code",
   "execution_count": null,
   "metadata": {},
   "outputs": [],
   "source": []
  }
 ],
 "metadata": {
  "kernelspec": {
   "display_name": "Python 3 (ipykernel)",
   "language": "python",
   "name": "python3"
  },
  "language_info": {
   "codemirror_mode": {
    "name": "ipython",
    "version": 3
   },
   "file_extension": ".py",
   "mimetype": "text/x-python",
   "name": "python",
   "nbconvert_exporter": "python",
   "pygments_lexer": "ipython3",
   "version": "3.9.7"
  }
 },
 "nbformat": 4,
 "nbformat_minor": 4
}
