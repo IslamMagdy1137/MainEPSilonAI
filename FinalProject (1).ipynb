{
  "cells": [
    {
      "cell_type": "markdown",
      "metadata": {
        "id": "sbgseQzyYYRT"
      },
      "source": [
        "# Epsilon Graduation Project"
      ]
    },
    {
      "cell_type": "markdown",
      "metadata": {
        "id": "1f_C02-ZYYRV"
      },
      "source": [
        "## Used Cars Price Prediction"
      ]
    },
    {
      "cell_type": "code",
      "execution_count": 5,
      "metadata": {
        "id": "lcLq-e8dYYRV"
      },
      "outputs": [],
      "source": [
        "# after reading and understanding the data and each column meaning\n",
        "# started with the data preprocessing\n",
        "\n",
        "# then the uni variant data analysis\n",
        "# top region got have resale cars\n",
        "# most car brand exist in the market for resale\n",
        "# most brand year cars are in the market\n",
        "# average odometer cars resale in every region\n",
        "# cars conditions in the market\n",
        "# Most common fuel type\n",
        "# price distribution\n",
        "# top manufacturer car exist\n",
        "# cars cylinders make difference in petrol usage\n",
        "# top posting days\n",
        "# long and lat diffiens the location\n",
        "# top country\n",
        "# top state\n",
        "\n",
        "# then the bi variant analysis\n",
        "# brand cars and thier cylinders\n",
        "# brand cars and their colors\n",
        "# most expensive brand cars\n",
        "# top cars made muc odometer before resale\n",
        "# brand cars and thier conditions\n",
        "\n",
        "# using machine learning algorithms like linear regression, SVM and RandomForestRegressor to predict cars price\n",
        "# we use the three algorithms and tune thier hyper parameter to reach the maximum accuracy and choose the best algorithm to use it\n",
        "# use ensemble method with the three algorithms which will tell use the best algorithm and the best accuracy\n",
        "# using"
      ]
    },
    {
      "cell_type": "code",
      "execution_count": null,
      "metadata": {
        "id": "hI4FdHlSYiZE"
      },
      "outputs": [],
      "source": []
    },
    {
      "cell_type": "code",
      "execution_count": 6,
      "metadata": {
        "colab": {
          "base_uri": "https://localhost:8080/"
        },
        "execution": {
          "iopub.execute_input": "2022-09-11T11:40:06.845645Z",
          "iopub.status.busy": "2022-09-11T11:40:06.844503Z",
          "iopub.status.idle": "2022-09-11T11:40:07.595187Z",
          "shell.execute_reply": "2022-09-11T11:40:07.593767Z",
          "shell.execute_reply.started": "2022-09-11T11:40:06.845569Z"
        },
        "id": "XBr_flH6YYRW",
        "outputId": "62c2d398-9d50-4c97-de6c-feed03a03da8"
      },
      "outputs": [
        {
          "name": "stdout",
          "output_type": "stream",
          "text": [
            "Requirement already satisfied: datasist in c:\\users\\shinkie\\anaconda3\\lib\\site-packages (1.5.3)\n",
            "Requirement already satisfied: pandas in c:\\users\\shinkie\\anaconda3\\lib\\site-packages (from datasist) (2.2.2)\n",
            "Requirement already satisfied: matplotlib in c:\\users\\shinkie\\anaconda3\\lib\\site-packages (from datasist) (3.9.2)\n",
            "Requirement already satisfied: seaborn in c:\\users\\shinkie\\anaconda3\\lib\\site-packages (from datasist) (0.13.2)\n",
            "Requirement already satisfied: numpy in c:\\users\\shinkie\\anaconda3\\lib\\site-packages (from datasist) (1.26.4)\n",
            "Requirement already satisfied: jupyter in c:\\users\\shinkie\\anaconda3\\lib\\site-packages (from datasist) (1.0.0)\n",
            "Requirement already satisfied: scikit-learn in c:\\users\\shinkie\\anaconda3\\lib\\site-packages (from datasist) (1.7.0)\n",
            "Requirement already satisfied: nltk in c:\\users\\shinkie\\anaconda3\\lib\\site-packages (from datasist) (3.9.1)\n",
            "Requirement already satisfied: Joblib in c:\\users\\shinkie\\anaconda3\\lib\\site-packages (from datasist) (1.4.2)\n",
            "Requirement already satisfied: notebook in c:\\users\\shinkie\\anaconda3\\lib\\site-packages (from jupyter->datasist) (7.2.2)\n",
            "Requirement already satisfied: qtconsole in c:\\users\\shinkie\\anaconda3\\lib\\site-packages (from jupyter->datasist) (5.5.1)\n",
            "Requirement already satisfied: jupyter-console in c:\\users\\shinkie\\anaconda3\\lib\\site-packages (from jupyter->datasist) (6.6.3)\n",
            "Requirement already satisfied: nbconvert in c:\\users\\shinkie\\anaconda3\\lib\\site-packages (from jupyter->datasist) (7.16.4)\n",
            "Requirement already satisfied: ipykernel in c:\\users\\shinkie\\anaconda3\\lib\\site-packages (from jupyter->datasist) (6.28.0)\n",
            "Requirement already satisfied: ipywidgets in c:\\users\\shinkie\\anaconda3\\lib\\site-packages (from jupyter->datasist) (7.8.1)\n",
            "Requirement already satisfied: contourpy>=1.0.1 in c:\\users\\shinkie\\anaconda3\\lib\\site-packages (from matplotlib->datasist) (1.2.0)\n",
            "Requirement already satisfied: cycler>=0.10 in c:\\users\\shinkie\\anaconda3\\lib\\site-packages (from matplotlib->datasist) (0.11.0)\n",
            "Requirement already satisfied: fonttools>=4.22.0 in c:\\users\\shinkie\\anaconda3\\lib\\site-packages (from matplotlib->datasist) (4.51.0)\n",
            "Requirement already satisfied: kiwisolver>=1.3.1 in c:\\users\\shinkie\\anaconda3\\lib\\site-packages (from matplotlib->datasist) (1.4.4)\n",
            "Requirement already satisfied: packaging>=20.0 in c:\\users\\shinkie\\anaconda3\\lib\\site-packages (from matplotlib->datasist) (24.1)\n",
            "Requirement already satisfied: pillow>=8 in c:\\users\\shinkie\\anaconda3\\lib\\site-packages (from matplotlib->datasist) (10.4.0)\n",
            "Requirement already satisfied: pyparsing>=2.3.1 in c:\\users\\shinkie\\anaconda3\\lib\\site-packages (from matplotlib->datasist) (3.1.2)\n",
            "Requirement already satisfied: python-dateutil>=2.7 in c:\\users\\shinkie\\anaconda3\\lib\\site-packages (from matplotlib->datasist) (2.9.0.post0)\n",
            "Requirement already satisfied: click in c:\\users\\shinkie\\anaconda3\\lib\\site-packages (from nltk->datasist) (8.1.7)\n",
            "Requirement already satisfied: regex>=2021.8.3 in c:\\users\\shinkie\\anaconda3\\lib\\site-packages (from nltk->datasist) (2024.9.11)\n",
            "Requirement already satisfied: tqdm in c:\\users\\shinkie\\anaconda3\\lib\\site-packages (from nltk->datasist) (4.66.5)\n",
            "Requirement already satisfied: pytz>=2020.1 in c:\\users\\shinkie\\anaconda3\\lib\\site-packages (from pandas->datasist) (2024.1)\n",
            "Requirement already satisfied: tzdata>=2022.7 in c:\\users\\shinkie\\anaconda3\\lib\\site-packages (from pandas->datasist) (2023.3)\n",
            "Requirement already satisfied: scipy>=1.8.0 in c:\\users\\shinkie\\anaconda3\\lib\\site-packages (from scikit-learn->datasist) (1.13.1)\n",
            "Requirement already satisfied: threadpoolctl>=3.1.0 in c:\\users\\shinkie\\anaconda3\\lib\\site-packages (from scikit-learn->datasist) (3.5.0)\n",
            "Requirement already satisfied: six>=1.5 in c:\\users\\shinkie\\anaconda3\\lib\\site-packages (from python-dateutil>=2.7->matplotlib->datasist) (1.16.0)\n",
            "Requirement already satisfied: colorama in c:\\users\\shinkie\\anaconda3\\lib\\site-packages (from click->nltk->datasist) (0.4.6)\n",
            "Requirement already satisfied: comm>=0.1.1 in c:\\users\\shinkie\\anaconda3\\lib\\site-packages (from ipykernel->jupyter->datasist) (0.2.1)\n",
            "Requirement already satisfied: debugpy>=1.6.5 in c:\\users\\shinkie\\anaconda3\\lib\\site-packages (from ipykernel->jupyter->datasist) (1.6.7)\n",
            "Requirement already satisfied: ipython>=7.23.1 in c:\\users\\shinkie\\anaconda3\\lib\\site-packages (from ipykernel->jupyter->datasist) (8.27.0)\n",
            "Requirement already satisfied: jupyter-client>=6.1.12 in c:\\users\\shinkie\\anaconda3\\lib\\site-packages (from ipykernel->jupyter->datasist) (8.6.0)\n",
            "Requirement already satisfied: jupyter-core!=5.0.*,>=4.12 in c:\\users\\shinkie\\anaconda3\\lib\\site-packages (from ipykernel->jupyter->datasist) (5.7.2)\n",
            "Requirement already satisfied: matplotlib-inline>=0.1 in c:\\users\\shinkie\\anaconda3\\lib\\site-packages (from ipykernel->jupyter->datasist) (0.1.6)\n",
            "Requirement already satisfied: nest-asyncio in c:\\users\\shinkie\\anaconda3\\lib\\site-packages (from ipykernel->jupyter->datasist) (1.6.0)\n",
            "Requirement already satisfied: psutil in c:\\users\\shinkie\\anaconda3\\lib\\site-packages (from ipykernel->jupyter->datasist) (5.9.0)\n",
            "Requirement already satisfied: pyzmq>=24 in c:\\users\\shinkie\\anaconda3\\lib\\site-packages (from ipykernel->jupyter->datasist) (25.1.2)\n",
            "Requirement already satisfied: tornado>=6.1 in c:\\users\\shinkie\\anaconda3\\lib\\site-packages (from ipykernel->jupyter->datasist) (6.4.1)\n",
            "Requirement already satisfied: traitlets>=5.4.0 in c:\\users\\shinkie\\anaconda3\\lib\\site-packages (from ipykernel->jupyter->datasist) (5.14.3)\n",
            "Requirement already satisfied: ipython-genutils~=0.2.0 in c:\\users\\shinkie\\anaconda3\\lib\\site-packages (from ipywidgets->jupyter->datasist) (0.2.0)\n",
            "Requirement already satisfied: widgetsnbextension~=3.6.6 in c:\\users\\shinkie\\anaconda3\\lib\\site-packages (from ipywidgets->jupyter->datasist) (3.6.6)\n",
            "Requirement already satisfied: jupyterlab-widgets<3,>=1.0.0 in c:\\users\\shinkie\\anaconda3\\lib\\site-packages (from ipywidgets->jupyter->datasist) (1.0.0)\n",
            "Requirement already satisfied: prompt-toolkit>=3.0.30 in c:\\users\\shinkie\\anaconda3\\lib\\site-packages (from jupyter-console->jupyter->datasist) (3.0.43)\n",
            "Requirement already satisfied: pygments in c:\\users\\shinkie\\anaconda3\\lib\\site-packages (from jupyter-console->jupyter->datasist) (2.15.1)\n",
            "Requirement already satisfied: beautifulsoup4 in c:\\users\\shinkie\\anaconda3\\lib\\site-packages (from nbconvert->jupyter->datasist) (4.12.3)\n",
            "Requirement already satisfied: bleach!=5.0.0 in c:\\users\\shinkie\\anaconda3\\lib\\site-packages (from nbconvert->jupyter->datasist) (4.1.0)\n",
            "Requirement already satisfied: defusedxml in c:\\users\\shinkie\\anaconda3\\lib\\site-packages (from nbconvert->jupyter->datasist) (0.7.1)\n",
            "Requirement already satisfied: jinja2>=3.0 in c:\\users\\shinkie\\anaconda3\\lib\\site-packages (from nbconvert->jupyter->datasist) (3.1.4)\n",
            "Requirement already satisfied: jupyterlab-pygments in c:\\users\\shinkie\\anaconda3\\lib\\site-packages (from nbconvert->jupyter->datasist) (0.1.2)\n",
            "Requirement already satisfied: markupsafe>=2.0 in c:\\users\\shinkie\\anaconda3\\lib\\site-packages (from nbconvert->jupyter->datasist) (2.1.3)\n",
            "Requirement already satisfied: mistune<4,>=2.0.3 in c:\\users\\shinkie\\anaconda3\\lib\\site-packages (from nbconvert->jupyter->datasist) (2.0.4)\n",
            "Requirement already satisfied: nbclient>=0.5.0 in c:\\users\\shinkie\\anaconda3\\lib\\site-packages (from nbconvert->jupyter->datasist) (0.8.0)\n",
            "Requirement already satisfied: nbformat>=5.7 in c:\\users\\shinkie\\anaconda3\\lib\\site-packages (from nbconvert->jupyter->datasist) (5.10.4)\n",
            "Requirement already satisfied: pandocfilters>=1.4.1 in c:\\users\\shinkie\\anaconda3\\lib\\site-packages (from nbconvert->jupyter->datasist) (1.5.0)\n",
            "Requirement already satisfied: tinycss2 in c:\\users\\shinkie\\anaconda3\\lib\\site-packages (from nbconvert->jupyter->datasist) (1.2.1)\n",
            "Requirement already satisfied: jupyter-server<3,>=2.4.0 in c:\\users\\shinkie\\anaconda3\\lib\\site-packages (from notebook->jupyter->datasist) (2.14.1)\n",
            "Requirement already satisfied: jupyterlab-server<3,>=2.27.1 in c:\\users\\shinkie\\anaconda3\\lib\\site-packages (from notebook->jupyter->datasist) (2.27.3)\n",
            "Requirement already satisfied: jupyterlab<4.3,>=4.2.0 in c:\\users\\shinkie\\anaconda3\\lib\\site-packages (from notebook->jupyter->datasist) (4.2.5)\n",
            "Requirement already satisfied: notebook-shim<0.3,>=0.2 in c:\\users\\shinkie\\anaconda3\\lib\\site-packages (from notebook->jupyter->datasist) (0.2.3)\n",
            "Requirement already satisfied: qtpy>=2.4.0 in c:\\users\\shinkie\\anaconda3\\lib\\site-packages (from qtconsole->jupyter->datasist) (2.4.1)\n",
            "Requirement already satisfied: webencodings in c:\\users\\shinkie\\anaconda3\\lib\\site-packages (from bleach!=5.0.0->nbconvert->jupyter->datasist) (0.5.1)\n",
            "Requirement already satisfied: decorator in c:\\users\\shinkie\\anaconda3\\lib\\site-packages (from ipython>=7.23.1->ipykernel->jupyter->datasist) (5.1.1)\n",
            "Requirement already satisfied: jedi>=0.16 in c:\\users\\shinkie\\anaconda3\\lib\\site-packages (from ipython>=7.23.1->ipykernel->jupyter->datasist) (0.19.1)\n",
            "Requirement already satisfied: stack-data in c:\\users\\shinkie\\anaconda3\\lib\\site-packages (from ipython>=7.23.1->ipykernel->jupyter->datasist) (0.2.0)\n",
            "Requirement already satisfied: platformdirs>=2.5 in c:\\users\\shinkie\\anaconda3\\lib\\site-packages (from jupyter-core!=5.0.*,>=4.12->ipykernel->jupyter->datasist) (3.10.0)\n",
            "Requirement already satisfied: pywin32>=300 in c:\\users\\shinkie\\anaconda3\\lib\\site-packages (from jupyter-core!=5.0.*,>=4.12->ipykernel->jupyter->datasist) (305.1)\n",
            "Requirement already satisfied: anyio>=3.1.0 in c:\\users\\shinkie\\anaconda3\\lib\\site-packages (from jupyter-server<3,>=2.4.0->notebook->jupyter->datasist) (4.2.0)\n",
            "Requirement already satisfied: argon2-cffi>=21.1 in c:\\users\\shinkie\\anaconda3\\lib\\site-packages (from jupyter-server<3,>=2.4.0->notebook->jupyter->datasist) (21.3.0)\n",
            "Requirement already satisfied: jupyter-events>=0.9.0 in c:\\users\\shinkie\\anaconda3\\lib\\site-packages (from jupyter-server<3,>=2.4.0->notebook->jupyter->datasist) (0.10.0)\n",
            "Requirement already satisfied: jupyter-server-terminals>=0.4.4 in c:\\users\\shinkie\\anaconda3\\lib\\site-packages (from jupyter-server<3,>=2.4.0->notebook->jupyter->datasist) (0.4.4)\n",
            "Requirement already satisfied: overrides>=5.0 in c:\\users\\shinkie\\anaconda3\\lib\\site-packages (from jupyter-server<3,>=2.4.0->notebook->jupyter->datasist) (7.4.0)\n",
            "Requirement already satisfied: prometheus-client>=0.9 in c:\\users\\shinkie\\anaconda3\\lib\\site-packages (from jupyter-server<3,>=2.4.0->notebook->jupyter->datasist) (0.14.1)\n",
            "Requirement already satisfied: pywinpty>=2.0.1 in c:\\users\\shinkie\\anaconda3\\lib\\site-packages (from jupyter-server<3,>=2.4.0->notebook->jupyter->datasist) (2.0.10)\n",
            "Requirement already satisfied: send2trash>=1.8.2 in c:\\users\\shinkie\\anaconda3\\lib\\site-packages (from jupyter-server<3,>=2.4.0->notebook->jupyter->datasist) (1.8.2)\n",
            "Requirement already satisfied: terminado>=0.8.3 in c:\\users\\shinkie\\anaconda3\\lib\\site-packages (from jupyter-server<3,>=2.4.0->notebook->jupyter->datasist) (0.17.1)\n",
            "Requirement already satisfied: websocket-client>=1.7 in c:\\users\\shinkie\\anaconda3\\lib\\site-packages (from jupyter-server<3,>=2.4.0->notebook->jupyter->datasist) (1.8.0)\n",
            "Requirement already satisfied: async-lru>=1.0.0 in c:\\users\\shinkie\\anaconda3\\lib\\site-packages (from jupyterlab<4.3,>=4.2.0->notebook->jupyter->datasist) (2.0.4)\n",
            "Requirement already satisfied: httpx>=0.25.0 in c:\\users\\shinkie\\anaconda3\\lib\\site-packages (from jupyterlab<4.3,>=4.2.0->notebook->jupyter->datasist) (0.27.0)\n",
            "Requirement already satisfied: jupyter-lsp>=2.0.0 in c:\\users\\shinkie\\anaconda3\\lib\\site-packages (from jupyterlab<4.3,>=4.2.0->notebook->jupyter->datasist) (2.2.0)\n",
            "Requirement already satisfied: setuptools>=40.1.0 in c:\\users\\shinkie\\anaconda3\\lib\\site-packages (from jupyterlab<4.3,>=4.2.0->notebook->jupyter->datasist) (75.1.0)\n",
            "Requirement already satisfied: babel>=2.10 in c:\\users\\shinkie\\anaconda3\\lib\\site-packages (from jupyterlab-server<3,>=2.27.1->notebook->jupyter->datasist) (2.11.0)\n",
            "Requirement already satisfied: json5>=0.9.0 in c:\\users\\shinkie\\anaconda3\\lib\\site-packages (from jupyterlab-server<3,>=2.27.1->notebook->jupyter->datasist) (0.9.6)\n",
            "Requirement already satisfied: jsonschema>=4.18.0 in c:\\users\\shinkie\\anaconda3\\lib\\site-packages (from jupyterlab-server<3,>=2.27.1->notebook->jupyter->datasist) (4.23.0)\n",
            "Requirement already satisfied: requests>=2.31 in c:\\users\\shinkie\\anaconda3\\lib\\site-packages (from jupyterlab-server<3,>=2.27.1->notebook->jupyter->datasist) (2.32.3)\n",
            "Requirement already satisfied: fastjsonschema>=2.15 in c:\\users\\shinkie\\anaconda3\\lib\\site-packages (from nbformat>=5.7->nbconvert->jupyter->datasist) (2.16.2)\n",
            "Requirement already satisfied: wcwidth in c:\\users\\shinkie\\anaconda3\\lib\\site-packages (from prompt-toolkit>=3.0.30->jupyter-console->jupyter->datasist) (0.2.5)\n",
            "Requirement already satisfied: soupsieve>1.2 in c:\\users\\shinkie\\anaconda3\\lib\\site-packages (from beautifulsoup4->nbconvert->jupyter->datasist) (2.5)\n",
            "Requirement already satisfied: idna>=2.8 in c:\\users\\shinkie\\anaconda3\\lib\\site-packages (from anyio>=3.1.0->jupyter-server<3,>=2.4.0->notebook->jupyter->datasist) (3.7)\n",
            "Requirement already satisfied: sniffio>=1.1 in c:\\users\\shinkie\\anaconda3\\lib\\site-packages (from anyio>=3.1.0->jupyter-server<3,>=2.4.0->notebook->jupyter->datasist) (1.3.0)\n",
            "Requirement already satisfied: argon2-cffi-bindings in c:\\users\\shinkie\\anaconda3\\lib\\site-packages (from argon2-cffi>=21.1->jupyter-server<3,>=2.4.0->notebook->jupyter->datasist) (21.2.0)\n",
            "Requirement already satisfied: certifi in c:\\users\\shinkie\\anaconda3\\lib\\site-packages (from httpx>=0.25.0->jupyterlab<4.3,>=4.2.0->notebook->jupyter->datasist) (2024.12.14)\n",
            "Requirement already satisfied: httpcore==1.* in c:\\users\\shinkie\\anaconda3\\lib\\site-packages (from httpx>=0.25.0->jupyterlab<4.3,>=4.2.0->notebook->jupyter->datasist) (1.0.2)\n",
            "Requirement already satisfied: h11<0.15,>=0.13 in c:\\users\\shinkie\\anaconda3\\lib\\site-packages (from httpcore==1.*->httpx>=0.25.0->jupyterlab<4.3,>=4.2.0->notebook->jupyter->datasist) (0.14.0)\n",
            "Requirement already satisfied: parso<0.9.0,>=0.8.3 in c:\\users\\shinkie\\anaconda3\\lib\\site-packages (from jedi>=0.16->ipython>=7.23.1->ipykernel->jupyter->datasist) (0.8.3)\n",
            "Requirement already satisfied: attrs>=22.2.0 in c:\\users\\shinkie\\anaconda3\\lib\\site-packages (from jsonschema>=4.18.0->jupyterlab-server<3,>=2.27.1->notebook->jupyter->datasist) (23.1.0)\n",
            "Requirement already satisfied: jsonschema-specifications>=2023.03.6 in c:\\users\\shinkie\\anaconda3\\lib\\site-packages (from jsonschema>=4.18.0->jupyterlab-server<3,>=2.27.1->notebook->jupyter->datasist) (2023.7.1)\n",
            "Requirement already satisfied: referencing>=0.28.4 in c:\\users\\shinkie\\anaconda3\\lib\\site-packages (from jsonschema>=4.18.0->jupyterlab-server<3,>=2.27.1->notebook->jupyter->datasist) (0.30.2)\n",
            "Requirement already satisfied: rpds-py>=0.7.1 in c:\\users\\shinkie\\anaconda3\\lib\\site-packages (from jsonschema>=4.18.0->jupyterlab-server<3,>=2.27.1->notebook->jupyter->datasist) (0.10.6)\n",
            "Requirement already satisfied: python-json-logger>=2.0.4 in c:\\users\\shinkie\\anaconda3\\lib\\site-packages (from jupyter-events>=0.9.0->jupyter-server<3,>=2.4.0->notebook->jupyter->datasist) (2.0.7)\n",
            "Requirement already satisfied: pyyaml>=5.3 in c:\\users\\shinkie\\anaconda3\\lib\\site-packages (from jupyter-events>=0.9.0->jupyter-server<3,>=2.4.0->notebook->jupyter->datasist) (6.0.1)\n",
            "Requirement already satisfied: rfc3339-validator in c:\\users\\shinkie\\anaconda3\\lib\\site-packages (from jupyter-events>=0.9.0->jupyter-server<3,>=2.4.0->notebook->jupyter->datasist) (0.1.4)\n",
            "Requirement already satisfied: rfc3986-validator>=0.1.1 in c:\\users\\shinkie\\anaconda3\\lib\\site-packages (from jupyter-events>=0.9.0->jupyter-server<3,>=2.4.0->notebook->jupyter->datasist) (0.1.1)\n",
            "Requirement already satisfied: charset-normalizer<4,>=2 in c:\\users\\shinkie\\anaconda3\\lib\\site-packages (from requests>=2.31->jupyterlab-server<3,>=2.27.1->notebook->jupyter->datasist) (3.3.2)\n",
            "Requirement already satisfied: urllib3<3,>=1.21.1 in c:\\users\\shinkie\\anaconda3\\lib\\site-packages (from requests>=2.31->jupyterlab-server<3,>=2.27.1->notebook->jupyter->datasist) (2.2.3)\n",
            "Requirement already satisfied: executing in c:\\users\\shinkie\\anaconda3\\lib\\site-packages (from stack-data->ipython>=7.23.1->ipykernel->jupyter->datasist) (0.8.3)\n",
            "Requirement already satisfied: asttokens in c:\\users\\shinkie\\anaconda3\\lib\\site-packages (from stack-data->ipython>=7.23.1->ipykernel->jupyter->datasist) (2.0.5)\n",
            "Requirement already satisfied: pure-eval in c:\\users\\shinkie\\anaconda3\\lib\\site-packages (from stack-data->ipython>=7.23.1->ipykernel->jupyter->datasist) (0.2.2)\n",
            "Requirement already satisfied: fqdn in c:\\users\\shinkie\\anaconda3\\lib\\site-packages (from jsonschema[format-nongpl]>=4.18.0->jupyter-events>=0.9.0->jupyter-server<3,>=2.4.0->notebook->jupyter->datasist) (1.5.1)\n",
            "Requirement already satisfied: isoduration in c:\\users\\shinkie\\anaconda3\\lib\\site-packages (from jsonschema[format-nongpl]>=4.18.0->jupyter-events>=0.9.0->jupyter-server<3,>=2.4.0->notebook->jupyter->datasist) (20.11.0)\n",
            "Requirement already satisfied: jsonpointer>1.13 in c:\\users\\shinkie\\anaconda3\\lib\\site-packages (from jsonschema[format-nongpl]>=4.18.0->jupyter-events>=0.9.0->jupyter-server<3,>=2.4.0->notebook->jupyter->datasist) (2.1)\n",
            "Requirement already satisfied: uri-template in c:\\users\\shinkie\\anaconda3\\lib\\site-packages (from jsonschema[format-nongpl]>=4.18.0->jupyter-events>=0.9.0->jupyter-server<3,>=2.4.0->notebook->jupyter->datasist) (1.3.0)\n",
            "Requirement already satisfied: webcolors>=24.6.0 in c:\\users\\shinkie\\anaconda3\\lib\\site-packages (from jsonschema[format-nongpl]>=4.18.0->jupyter-events>=0.9.0->jupyter-server<3,>=2.4.0->notebook->jupyter->datasist) (24.11.1)\n",
            "Requirement already satisfied: cffi>=1.0.1 in c:\\users\\shinkie\\anaconda3\\lib\\site-packages (from argon2-cffi-bindings->argon2-cffi>=21.1->jupyter-server<3,>=2.4.0->notebook->jupyter->datasist) (1.17.1)\n",
            "Requirement already satisfied: pycparser in c:\\users\\shinkie\\anaconda3\\lib\\site-packages (from cffi>=1.0.1->argon2-cffi-bindings->argon2-cffi>=21.1->jupyter-server<3,>=2.4.0->notebook->jupyter->datasist) (2.21)\n",
            "Requirement already satisfied: arrow>=0.15.0 in c:\\users\\shinkie\\anaconda3\\lib\\site-packages (from isoduration->jsonschema[format-nongpl]>=4.18.0->jupyter-events>=0.9.0->jupyter-server<3,>=2.4.0->notebook->jupyter->datasist) (1.2.3)\n",
            "Requirement already satisfied: category_encoders in c:\\users\\shinkie\\anaconda3\\lib\\site-packages (2.8.1)\n",
            "Requirement already satisfied: numpy>=1.14.0 in c:\\users\\shinkie\\anaconda3\\lib\\site-packages (from category_encoders) (1.26.4)\n",
            "Requirement already satisfied: pandas>=1.0.5 in c:\\users\\shinkie\\anaconda3\\lib\\site-packages (from category_encoders) (2.2.2)\n",
            "Requirement already satisfied: patsy>=0.5.1 in c:\\users\\shinkie\\anaconda3\\lib\\site-packages (from category_encoders) (0.5.6)\n",
            "Requirement already satisfied: scikit-learn>=1.6.0 in c:\\users\\shinkie\\anaconda3\\lib\\site-packages (from category_encoders) (1.7.0)\n",
            "Requirement already satisfied: scipy>=1.0.0 in c:\\users\\shinkie\\anaconda3\\lib\\site-packages (from category_encoders) (1.13.1)\n",
            "Requirement already satisfied: statsmodels>=0.9.0 in c:\\users\\shinkie\\anaconda3\\lib\\site-packages (from category_encoders) (0.14.2)\n",
            "Requirement already satisfied: python-dateutil>=2.8.2 in c:\\users\\shinkie\\anaconda3\\lib\\site-packages (from pandas>=1.0.5->category_encoders) (2.9.0.post0)\n",
            "Requirement already satisfied: pytz>=2020.1 in c:\\users\\shinkie\\anaconda3\\lib\\site-packages (from pandas>=1.0.5->category_encoders) (2024.1)\n",
            "Requirement already satisfied: tzdata>=2022.7 in c:\\users\\shinkie\\anaconda3\\lib\\site-packages (from pandas>=1.0.5->category_encoders) (2023.3)\n",
            "Requirement already satisfied: six in c:\\users\\shinkie\\anaconda3\\lib\\site-packages (from patsy>=0.5.1->category_encoders) (1.16.0)\n",
            "Requirement already satisfied: joblib>=1.2.0 in c:\\users\\shinkie\\anaconda3\\lib\\site-packages (from scikit-learn>=1.6.0->category_encoders) (1.4.2)\n",
            "Requirement already satisfied: threadpoolctl>=3.1.0 in c:\\users\\shinkie\\anaconda3\\lib\\site-packages (from scikit-learn>=1.6.0->category_encoders) (3.5.0)\n",
            "Requirement already satisfied: packaging>=21.3 in c:\\users\\shinkie\\anaconda3\\lib\\site-packages (from statsmodels>=0.9.0->category_encoders) (24.1)\n"
          ]
        }
      ],
      "source": [
        "!pip install datasist\n",
        "!pip install category_encoders\n",
        "import pandas as pd\n",
        "import numpy as np\n",
        "import seaborn as sns\n",
        "import matplotlib.pyplot as plt\n",
        "from sklearn.impute import SimpleImputer,KNNImputer\n",
        "from datasist.structdata import detect_outliers\n",
        "from sklearn.model_selection import train_test_split\n",
        "import category_encoders as ce\n",
        "from sklearn.metrics import mean_squared_error\n",
        "from sklearn.preprocessing import PowerTransformer"
      ]
    },
    {
      "cell_type": "code",
      "execution_count": 7,
      "metadata": {
        "colab": {
          "base_uri": "https://localhost:8080/"
        },
        "id": "-LfudOQWY3lI",
        "outputId": "c800dfb5-c46b-4fac-9d29-e325944357ee"
      },
      "outputs": [],
      "source": [
        "df = pd.read_csv(r\"C:\\Users\\Shinkie\\Downloads/train-data.csv\")"
      ]
    },
    {
      "cell_type": "markdown",
      "metadata": {
        "id": "UlzC8XcjYYRX"
      },
      "source": [
        "# 1. Data cleaning\n"
      ]
    },
    {
      "cell_type": "markdown",
      "metadata": {
        "id": "8v75r626YYRX"
      },
      "source": [
        "### 1.1 Investegation"
      ]
    },
    {
      "cell_type": "code",
      "execution_count": 8,
      "metadata": {
        "colab": {
          "base_uri": "https://localhost:8080/"
        },
        "execution": {
          "iopub.execute_input": "2022-09-11T11:40:07.655982Z",
          "iopub.status.busy": "2022-09-11T11:40:07.655582Z",
          "iopub.status.idle": "2022-09-11T11:40:07.677178Z",
          "shell.execute_reply": "2022-09-11T11:40:07.675674Z",
          "shell.execute_reply.started": "2022-09-11T11:40:07.655947Z"
        },
        "id": "WJMrer4KYYRX",
        "outputId": "0ee2762b-c9d0-4726-908d-310f25517a45",
        "scrolled": true
      },
      "outputs": [
        {
          "name": "stdout",
          "output_type": "stream",
          "text": [
            "<class 'pandas.core.frame.DataFrame'>\n",
            "RangeIndex: 6019 entries, 0 to 6018\n",
            "Data columns (total 14 columns):\n",
            " #   Column             Non-Null Count  Dtype  \n",
            "---  ------             --------------  -----  \n",
            " 0   Unnamed: 0         6019 non-null   int64  \n",
            " 1   Name               6019 non-null   object \n",
            " 2   Location           6019 non-null   object \n",
            " 3   Year               6019 non-null   int64  \n",
            " 4   Kilometers_Driven  6019 non-null   int64  \n",
            " 5   Fuel_Type          6019 non-null   object \n",
            " 6   Transmission       6019 non-null   object \n",
            " 7   Owner_Type         6019 non-null   object \n",
            " 8   Mileage            6017 non-null   object \n",
            " 9   Engine             5983 non-null   object \n",
            " 10  Power              5983 non-null   object \n",
            " 11  Seats              5977 non-null   float64\n",
            " 12  New_Price          824 non-null    object \n",
            " 13  Price              6019 non-null   float64\n",
            "dtypes: float64(2), int64(3), object(9)\n",
            "memory usage: 658.5+ KB\n"
          ]
        }
      ],
      "source": [
        "df.info()"
      ]
    },
    {
      "cell_type": "code",
      "execution_count": 9,
      "metadata": {
        "colab": {
          "base_uri": "https://localhost:8080/",
          "height": 300
        },
        "execution": {
          "iopub.execute_input": "2022-09-11T11:40:07.680913Z",
          "iopub.status.busy": "2022-09-11T11:40:07.680233Z",
          "iopub.status.idle": "2022-09-11T11:40:07.713704Z",
          "shell.execute_reply": "2022-09-11T11:40:07.712398Z",
          "shell.execute_reply.started": "2022-09-11T11:40:07.680876Z"
        },
        "id": "IQqASvCBYYRY",
        "outputId": "d4b9b2fa-553e-49ce-e319-6c6dc5d794bf"
      },
      "outputs": [
        {
          "data": {
            "text/html": [
              "<div>\n",
              "<style scoped>\n",
              "    .dataframe tbody tr th:only-of-type {\n",
              "        vertical-align: middle;\n",
              "    }\n",
              "\n",
              "    .dataframe tbody tr th {\n",
              "        vertical-align: top;\n",
              "    }\n",
              "\n",
              "    .dataframe thead th {\n",
              "        text-align: right;\n",
              "    }\n",
              "</style>\n",
              "<table border=\"1\" class=\"dataframe\">\n",
              "  <thead>\n",
              "    <tr style=\"text-align: right;\">\n",
              "      <th></th>\n",
              "      <th>Unnamed: 0</th>\n",
              "      <th>Year</th>\n",
              "      <th>Kilometers_Driven</th>\n",
              "      <th>Seats</th>\n",
              "      <th>Price</th>\n",
              "    </tr>\n",
              "  </thead>\n",
              "  <tbody>\n",
              "    <tr>\n",
              "      <th>count</th>\n",
              "      <td>6019.000000</td>\n",
              "      <td>6019.000000</td>\n",
              "      <td>6.019000e+03</td>\n",
              "      <td>5977.000000</td>\n",
              "      <td>6019.000000</td>\n",
              "    </tr>\n",
              "    <tr>\n",
              "      <th>mean</th>\n",
              "      <td>3009.000000</td>\n",
              "      <td>2013.358199</td>\n",
              "      <td>5.873838e+04</td>\n",
              "      <td>5.278735</td>\n",
              "      <td>9.479468</td>\n",
              "    </tr>\n",
              "    <tr>\n",
              "      <th>std</th>\n",
              "      <td>1737.679967</td>\n",
              "      <td>3.269742</td>\n",
              "      <td>9.126884e+04</td>\n",
              "      <td>0.808840</td>\n",
              "      <td>11.187917</td>\n",
              "    </tr>\n",
              "    <tr>\n",
              "      <th>min</th>\n",
              "      <td>0.000000</td>\n",
              "      <td>1998.000000</td>\n",
              "      <td>1.710000e+02</td>\n",
              "      <td>0.000000</td>\n",
              "      <td>0.440000</td>\n",
              "    </tr>\n",
              "    <tr>\n",
              "      <th>25%</th>\n",
              "      <td>1504.500000</td>\n",
              "      <td>2011.000000</td>\n",
              "      <td>3.400000e+04</td>\n",
              "      <td>5.000000</td>\n",
              "      <td>3.500000</td>\n",
              "    </tr>\n",
              "    <tr>\n",
              "      <th>50%</th>\n",
              "      <td>3009.000000</td>\n",
              "      <td>2014.000000</td>\n",
              "      <td>5.300000e+04</td>\n",
              "      <td>5.000000</td>\n",
              "      <td>5.640000</td>\n",
              "    </tr>\n",
              "    <tr>\n",
              "      <th>75%</th>\n",
              "      <td>4513.500000</td>\n",
              "      <td>2016.000000</td>\n",
              "      <td>7.300000e+04</td>\n",
              "      <td>5.000000</td>\n",
              "      <td>9.950000</td>\n",
              "    </tr>\n",
              "    <tr>\n",
              "      <th>max</th>\n",
              "      <td>6018.000000</td>\n",
              "      <td>2019.000000</td>\n",
              "      <td>6.500000e+06</td>\n",
              "      <td>10.000000</td>\n",
              "      <td>160.000000</td>\n",
              "    </tr>\n",
              "  </tbody>\n",
              "</table>\n",
              "</div>"
            ],
            "text/plain": [
              "        Unnamed: 0         Year  Kilometers_Driven        Seats        Price\n",
              "count  6019.000000  6019.000000       6.019000e+03  5977.000000  6019.000000\n",
              "mean   3009.000000  2013.358199       5.873838e+04     5.278735     9.479468\n",
              "std    1737.679967     3.269742       9.126884e+04     0.808840    11.187917\n",
              "min       0.000000  1998.000000       1.710000e+02     0.000000     0.440000\n",
              "25%    1504.500000  2011.000000       3.400000e+04     5.000000     3.500000\n",
              "50%    3009.000000  2014.000000       5.300000e+04     5.000000     5.640000\n",
              "75%    4513.500000  2016.000000       7.300000e+04     5.000000     9.950000\n",
              "max    6018.000000  2019.000000       6.500000e+06    10.000000   160.000000"
            ]
          },
          "execution_count": 9,
          "metadata": {},
          "output_type": "execute_result"
        }
      ],
      "source": [
        "df.describe()"
      ]
    },
    {
      "cell_type": "code",
      "execution_count": 10,
      "metadata": {
        "colab": {
          "base_uri": "https://localhost:8080/"
        },
        "execution": {
          "iopub.execute_input": "2022-09-11T11:40:07.716361Z",
          "iopub.status.busy": "2022-09-11T11:40:07.71557Z",
          "iopub.status.idle": "2022-09-11T11:40:07.733844Z",
          "shell.execute_reply": "2022-09-11T11:40:07.732729Z",
          "shell.execute_reply.started": "2022-09-11T11:40:07.716308Z"
        },
        "id": "tcAQdeX7YYRY",
        "outputId": "687d4f79-eb20-411d-aefd-150694b626d1"
      },
      "outputs": [
        {
          "data": {
            "text/plain": [
              "0"
            ]
          },
          "execution_count": 10,
          "metadata": {},
          "output_type": "execute_result"
        }
      ],
      "source": [
        "df.duplicated().sum()"
      ]
    },
    {
      "cell_type": "markdown",
      "metadata": {
        "id": "Y_zSncVHYYRY"
      },
      "source": [
        "###  1.2 Working with data issues"
      ]
    },
    {
      "cell_type": "markdown",
      "metadata": {
        "id": "v30CRE6RYYRY"
      },
      "source": [
        "### Dropping duplicated and unused columns"
      ]
    },
    {
      "cell_type": "code",
      "execution_count": 11,
      "metadata": {
        "execution": {
          "iopub.execute_input": "2022-09-11T11:40:07.736103Z",
          "iopub.status.busy": "2022-09-11T11:40:07.735487Z",
          "iopub.status.idle": "2022-09-11T11:40:07.752844Z",
          "shell.execute_reply": "2022-09-11T11:40:07.751862Z",
          "shell.execute_reply.started": "2022-09-11T11:40:07.736064Z"
        },
        "id": "PlERzavPYYRY"
      },
      "outputs": [],
      "source": [
        "df.drop_duplicates(inplace=True)"
      ]
    },
    {
      "cell_type": "code",
      "execution_count": 12,
      "metadata": {
        "execution": {
          "iopub.execute_input": "2022-09-11T11:40:07.754901Z",
          "iopub.status.busy": "2022-09-11T11:40:07.754357Z",
          "iopub.status.idle": "2022-09-11T11:40:07.762222Z",
          "shell.execute_reply": "2022-09-11T11:40:07.761265Z",
          "shell.execute_reply.started": "2022-09-11T11:40:07.754868Z"
        },
        "id": "WuuZEMdeYYRY"
      },
      "outputs": [],
      "source": [
        "df.drop([\"New_Price\",\"Unnamed: 0\"], axis=1, inplace=True)"
      ]
    },
    {
      "cell_type": "markdown",
      "metadata": {
        "id": "05tTC-YiYYRY"
      },
      "source": [
        "### Imputing Null values"
      ]
    },
    {
      "cell_type": "code",
      "execution_count": 13,
      "metadata": {
        "id": "4x9gzD-yYYRZ"
      },
      "outputs": [],
      "source": [
        "from sklearn.impute import SimpleImputer"
      ]
    },
    {
      "cell_type": "code",
      "execution_count": 14,
      "metadata": {
        "execution": {
          "iopub.execute_input": "2022-09-11T11:40:07.764684Z",
          "iopub.status.busy": "2022-09-11T11:40:07.763979Z",
          "iopub.status.idle": "2022-09-11T11:40:07.80285Z",
          "shell.execute_reply": "2022-09-11T11:40:07.801362Z",
          "shell.execute_reply.started": "2022-09-11T11:40:07.764648Z"
        },
        "id": "M-63IkqHYYRZ"
      },
      "outputs": [],
      "source": [
        "null_col = ['Mileage', 'Engine' , 'Power','Seats']\n",
        "imputer = SimpleImputer(strategy='most_frequent')\n",
        "df[null_col] = imputer.fit_transform(df[null_col])"
      ]
    },
    {
      "cell_type": "code",
      "execution_count": 15,
      "metadata": {
        "execution": {
          "iopub.execute_input": "2022-09-11T11:40:07.804835Z",
          "iopub.status.busy": "2022-09-11T11:40:07.804483Z",
          "iopub.status.idle": "2022-09-11T11:40:07.825797Z",
          "shell.execute_reply": "2022-09-11T11:40:07.824872Z",
          "shell.execute_reply.started": "2022-09-11T11:40:07.804803Z"
        },
        "id": "ROvUU5dOYYRZ"
      },
      "outputs": [],
      "source": [
        "df = df.convert_dtypes()"
      ]
    },
    {
      "cell_type": "markdown",
      "metadata": {
        "id": "4TZ2oqHBYYRZ"
      },
      "source": [
        "### replacing zero values"
      ]
    },
    {
      "cell_type": "code",
      "execution_count": 16,
      "metadata": {
        "colab": {
          "base_uri": "https://localhost:8080/"
        },
        "execution": {
          "iopub.execute_input": "2022-09-11T11:40:07.828088Z",
          "iopub.status.busy": "2022-09-11T11:40:07.826895Z",
          "iopub.status.idle": "2022-09-11T11:40:07.836945Z",
          "shell.execute_reply": "2022-09-11T11:40:07.835452Z",
          "shell.execute_reply.started": "2022-09-11T11:40:07.828049Z"
        },
        "id": "L1MUBbqtYYRZ",
        "outputId": "185724b0-8326-41e6-f27f-ec917413b407"
      },
      "outputs": [
        {
          "name": "stderr",
          "output_type": "stream",
          "text": [
            "C:\\Users\\Shinkie\\AppData\\Local\\Temp\\ipykernel_14468\\321515233.py:1: FutureWarning: A value is trying to be set on a copy of a DataFrame or Series through chained assignment using an inplace method.\n",
            "The behavior will change in pandas 3.0. This inplace method will never work because the intermediate object on which we are setting values always behaves as a copy.\n",
            "\n",
            "For example, when doing 'df[col].method(value, inplace=True)', try using 'df.method({col: value}, inplace=True)' or df[col] = df[col].method(value) instead, to perform the operation inplace on the original object.\n",
            "\n",
            "\n",
            "  df['Seats'].replace(to_replace=0 ,value= df['Seats'].mode()[0],inplace=True)\n"
          ]
        }
      ],
      "source": [
        "df['Seats'].replace(to_replace=0 ,value= df['Seats'].mode()[0],inplace=True)"
      ]
    },
    {
      "cell_type": "code",
      "execution_count": 17,
      "metadata": {
        "colab": {
          "base_uri": "https://localhost:8080/",
          "height": 441
        },
        "execution": {
          "iopub.execute_input": "2022-09-11T11:40:07.84042Z",
          "iopub.status.busy": "2022-09-11T11:40:07.839052Z",
          "iopub.status.idle": "2022-09-11T11:40:07.878117Z",
          "shell.execute_reply": "2022-09-11T11:40:07.876546Z",
          "shell.execute_reply.started": "2022-09-11T11:40:07.840381Z"
        },
        "id": "LxV_6ZH7YYRZ",
        "outputId": "292cbadf-76ba-451f-9049-6318cd08e25c"
      },
      "outputs": [
        {
          "data": {
            "text/html": [
              "<div>\n",
              "<style scoped>\n",
              "    .dataframe tbody tr th:only-of-type {\n",
              "        vertical-align: middle;\n",
              "    }\n",
              "\n",
              "    .dataframe tbody tr th {\n",
              "        vertical-align: top;\n",
              "    }\n",
              "\n",
              "    .dataframe thead th {\n",
              "        text-align: right;\n",
              "    }\n",
              "</style>\n",
              "<table border=\"1\" class=\"dataframe\">\n",
              "  <thead>\n",
              "    <tr style=\"text-align: right;\">\n",
              "      <th></th>\n",
              "      <th>Name</th>\n",
              "      <th>Location</th>\n",
              "      <th>Year</th>\n",
              "      <th>Kilometers_Driven</th>\n",
              "      <th>Fuel_Type</th>\n",
              "      <th>Transmission</th>\n",
              "      <th>Owner_Type</th>\n",
              "      <th>Mileage</th>\n",
              "      <th>Engine</th>\n",
              "      <th>Power</th>\n",
              "      <th>Seats</th>\n",
              "      <th>Price</th>\n",
              "    </tr>\n",
              "  </thead>\n",
              "  <tbody>\n",
              "    <tr>\n",
              "      <th>76</th>\n",
              "      <td>Ford Fiesta 1.4 SXi TDCi</td>\n",
              "      <td>Jaipur</td>\n",
              "      <td>2008</td>\n",
              "      <td>111111</td>\n",
              "      <td>Diesel</td>\n",
              "      <td>Manual</td>\n",
              "      <td>First</td>\n",
              "      <td>17.8 kmpl</td>\n",
              "      <td>1399 CC</td>\n",
              "      <td>null bhp</td>\n",
              "      <td>5</td>\n",
              "      <td>2.0</td>\n",
              "    </tr>\n",
              "    <tr>\n",
              "      <th>79</th>\n",
              "      <td>Hyundai Santro Xing XL</td>\n",
              "      <td>Hyderabad</td>\n",
              "      <td>2005</td>\n",
              "      <td>87591</td>\n",
              "      <td>Petrol</td>\n",
              "      <td>Manual</td>\n",
              "      <td>First</td>\n",
              "      <td>0.0 kmpl</td>\n",
              "      <td>1086 CC</td>\n",
              "      <td>null bhp</td>\n",
              "      <td>5</td>\n",
              "      <td>1.3</td>\n",
              "    </tr>\n",
              "    <tr>\n",
              "      <th>89</th>\n",
              "      <td>Hyundai Santro Xing XO</td>\n",
              "      <td>Hyderabad</td>\n",
              "      <td>2007</td>\n",
              "      <td>73745</td>\n",
              "      <td>Petrol</td>\n",
              "      <td>Manual</td>\n",
              "      <td>First</td>\n",
              "      <td>17.0 kmpl</td>\n",
              "      <td>1086 CC</td>\n",
              "      <td>null bhp</td>\n",
              "      <td>5</td>\n",
              "      <td>2.1</td>\n",
              "    </tr>\n",
              "    <tr>\n",
              "      <th>120</th>\n",
              "      <td>Hyundai Santro Xing XL eRLX Euro III</td>\n",
              "      <td>Mumbai</td>\n",
              "      <td>2005</td>\n",
              "      <td>102000</td>\n",
              "      <td>Petrol</td>\n",
              "      <td>Manual</td>\n",
              "      <td>Second</td>\n",
              "      <td>17.0 kmpl</td>\n",
              "      <td>1086 CC</td>\n",
              "      <td>null bhp</td>\n",
              "      <td>5</td>\n",
              "      <td>0.85</td>\n",
              "    </tr>\n",
              "    <tr>\n",
              "      <th>143</th>\n",
              "      <td>Hyundai Santro Xing XO eRLX Euro II</td>\n",
              "      <td>Kochi</td>\n",
              "      <td>2008</td>\n",
              "      <td>80759</td>\n",
              "      <td>Petrol</td>\n",
              "      <td>Manual</td>\n",
              "      <td>Third</td>\n",
              "      <td>17.0 kmpl</td>\n",
              "      <td>1086 CC</td>\n",
              "      <td>null bhp</td>\n",
              "      <td>5</td>\n",
              "      <td>1.67</td>\n",
              "    </tr>\n",
              "    <tr>\n",
              "      <th>...</th>\n",
              "      <td>...</td>\n",
              "      <td>...</td>\n",
              "      <td>...</td>\n",
              "      <td>...</td>\n",
              "      <td>...</td>\n",
              "      <td>...</td>\n",
              "      <td>...</td>\n",
              "      <td>...</td>\n",
              "      <td>...</td>\n",
              "      <td>...</td>\n",
              "      <td>...</td>\n",
              "      <td>...</td>\n",
              "    </tr>\n",
              "    <tr>\n",
              "      <th>5873</th>\n",
              "      <td>Hyundai Santro Xing XO eRLX Euro II</td>\n",
              "      <td>Pune</td>\n",
              "      <td>2006</td>\n",
              "      <td>47200</td>\n",
              "      <td>Petrol</td>\n",
              "      <td>Manual</td>\n",
              "      <td>Second</td>\n",
              "      <td>17.0 kmpl</td>\n",
              "      <td>1086 CC</td>\n",
              "      <td>null bhp</td>\n",
              "      <td>5</td>\n",
              "      <td>1.2</td>\n",
              "    </tr>\n",
              "    <tr>\n",
              "      <th>5893</th>\n",
              "      <td>Maruti Estilo LXI</td>\n",
              "      <td>Chennai</td>\n",
              "      <td>2008</td>\n",
              "      <td>51000</td>\n",
              "      <td>Petrol</td>\n",
              "      <td>Manual</td>\n",
              "      <td>Second</td>\n",
              "      <td>19.5 kmpl</td>\n",
              "      <td>1061 CC</td>\n",
              "      <td>null bhp</td>\n",
              "      <td>5</td>\n",
              "      <td>1.75</td>\n",
              "    </tr>\n",
              "    <tr>\n",
              "      <th>5925</th>\n",
              "      <td>Skoda Laura Classic 1.8 TSI</td>\n",
              "      <td>Pune</td>\n",
              "      <td>2010</td>\n",
              "      <td>85000</td>\n",
              "      <td>Petrol</td>\n",
              "      <td>Manual</td>\n",
              "      <td>First</td>\n",
              "      <td>17.5 kmpl</td>\n",
              "      <td>1798 CC</td>\n",
              "      <td>null bhp</td>\n",
              "      <td>5</td>\n",
              "      <td>2.85</td>\n",
              "    </tr>\n",
              "    <tr>\n",
              "      <th>5943</th>\n",
              "      <td>Mahindra Jeep MM 540 DP</td>\n",
              "      <td>Chennai</td>\n",
              "      <td>2002</td>\n",
              "      <td>75000</td>\n",
              "      <td>Diesel</td>\n",
              "      <td>Manual</td>\n",
              "      <td>First</td>\n",
              "      <td>0.0 kmpl</td>\n",
              "      <td>2112 CC</td>\n",
              "      <td>null bhp</td>\n",
              "      <td>6</td>\n",
              "      <td>1.7</td>\n",
              "    </tr>\n",
              "    <tr>\n",
              "      <th>5985</th>\n",
              "      <td>Toyota Etios GD</td>\n",
              "      <td>Delhi</td>\n",
              "      <td>2013</td>\n",
              "      <td>70000</td>\n",
              "      <td>Diesel</td>\n",
              "      <td>Manual</td>\n",
              "      <td>First</td>\n",
              "      <td>23.59 kmpl</td>\n",
              "      <td>1364 CC</td>\n",
              "      <td>null bhp</td>\n",
              "      <td>5</td>\n",
              "      <td>3.88</td>\n",
              "    </tr>\n",
              "  </tbody>\n",
              "</table>\n",
              "<p>107 rows × 12 columns</p>\n",
              "</div>"
            ],
            "text/plain": [
              "                                      Name   Location  Year  \\\n",
              "76                Ford Fiesta 1.4 SXi TDCi     Jaipur  2008   \n",
              "79                  Hyundai Santro Xing XL  Hyderabad  2005   \n",
              "89                  Hyundai Santro Xing XO  Hyderabad  2007   \n",
              "120   Hyundai Santro Xing XL eRLX Euro III     Mumbai  2005   \n",
              "143    Hyundai Santro Xing XO eRLX Euro II      Kochi  2008   \n",
              "...                                    ...        ...   ...   \n",
              "5873   Hyundai Santro Xing XO eRLX Euro II       Pune  2006   \n",
              "5893                     Maruti Estilo LXI    Chennai  2008   \n",
              "5925           Skoda Laura Classic 1.8 TSI       Pune  2010   \n",
              "5943               Mahindra Jeep MM 540 DP    Chennai  2002   \n",
              "5985                       Toyota Etios GD      Delhi  2013   \n",
              "\n",
              "      Kilometers_Driven Fuel_Type Transmission Owner_Type     Mileage  \\\n",
              "76               111111    Diesel       Manual      First   17.8 kmpl   \n",
              "79                87591    Petrol       Manual      First    0.0 kmpl   \n",
              "89                73745    Petrol       Manual      First   17.0 kmpl   \n",
              "120              102000    Petrol       Manual     Second   17.0 kmpl   \n",
              "143               80759    Petrol       Manual      Third   17.0 kmpl   \n",
              "...                 ...       ...          ...        ...         ...   \n",
              "5873              47200    Petrol       Manual     Second   17.0 kmpl   \n",
              "5893              51000    Petrol       Manual     Second   19.5 kmpl   \n",
              "5925              85000    Petrol       Manual      First   17.5 kmpl   \n",
              "5943              75000    Diesel       Manual      First    0.0 kmpl   \n",
              "5985              70000    Diesel       Manual      First  23.59 kmpl   \n",
              "\n",
              "       Engine     Power  Seats  Price  \n",
              "76    1399 CC  null bhp      5    2.0  \n",
              "79    1086 CC  null bhp      5    1.3  \n",
              "89    1086 CC  null bhp      5    2.1  \n",
              "120   1086 CC  null bhp      5   0.85  \n",
              "143   1086 CC  null bhp      5   1.67  \n",
              "...       ...       ...    ...    ...  \n",
              "5873  1086 CC  null bhp      5    1.2  \n",
              "5893  1061 CC  null bhp      5   1.75  \n",
              "5925  1798 CC  null bhp      5   2.85  \n",
              "5943  2112 CC  null bhp      6    1.7  \n",
              "5985  1364 CC  null bhp      5   3.88  \n",
              "\n",
              "[107 rows x 12 columns]"
            ]
          },
          "execution_count": 17,
          "metadata": {},
          "output_type": "execute_result"
        }
      ],
      "source": [
        "df[df['Power'] == 'null bhp']"
      ]
    },
    {
      "cell_type": "code",
      "execution_count": 18,
      "metadata": {
        "execution": {
          "iopub.execute_input": "2022-09-11T11:40:07.880905Z",
          "iopub.status.busy": "2022-09-11T11:40:07.88013Z",
          "iopub.status.idle": "2022-09-11T11:40:07.892132Z",
          "shell.execute_reply": "2022-09-11T11:40:07.89041Z",
          "shell.execute_reply.started": "2022-09-11T11:40:07.880866Z"
        },
        "id": "nW1xqRt5YYRZ"
      },
      "outputs": [],
      "source": [
        "indx = df[df['Power'] == 'null bhp'].index"
      ]
    },
    {
      "cell_type": "code",
      "execution_count": 19,
      "metadata": {
        "execution": {
          "iopub.execute_input": "2022-09-11T11:40:07.89962Z",
          "iopub.status.busy": "2022-09-11T11:40:07.898857Z",
          "iopub.status.idle": "2022-09-11T11:40:07.910764Z",
          "shell.execute_reply": "2022-09-11T11:40:07.909196Z",
          "shell.execute_reply.started": "2022-09-11T11:40:07.899581Z"
        },
        "id": "FYumljM_YYRZ"
      },
      "outputs": [],
      "source": [
        "df.drop(indx,axis=0,inplace=True)"
      ]
    },
    {
      "cell_type": "code",
      "execution_count": 20,
      "metadata": {
        "execution": {
          "iopub.execute_input": "2022-09-11T11:40:07.913859Z",
          "iopub.status.busy": "2022-09-11T11:40:07.912744Z",
          "iopub.status.idle": "2022-09-11T11:40:07.920955Z",
          "shell.execute_reply": "2022-09-11T11:40:07.919383Z",
          "shell.execute_reply.started": "2022-09-11T11:40:07.913809Z"
        },
        "id": "-PE6dJ1cYYRZ"
      },
      "outputs": [],
      "source": [
        "dirty_cols = ['Mileage', 'Engine', 'Power']"
      ]
    },
    {
      "cell_type": "code",
      "execution_count": 21,
      "metadata": {
        "execution": {
          "iopub.execute_input": "2022-09-11T11:40:07.924733Z",
          "iopub.status.busy": "2022-09-11T11:40:07.922521Z",
          "iopub.status.idle": "2022-09-11T11:40:07.95027Z",
          "shell.execute_reply": "2022-09-11T11:40:07.948663Z",
          "shell.execute_reply.started": "2022-09-11T11:40:07.924666Z"
        },
        "id": "S0yS-VHhYYRZ"
      },
      "outputs": [],
      "source": [
        "for col in dirty_cols:\n",
        "    df[col] = df[col].apply(lambda x : float(x.split()[0]))"
      ]
    },
    {
      "cell_type": "code",
      "execution_count": 22,
      "metadata": {
        "colab": {
          "base_uri": "https://localhost:8080/"
        },
        "execution": {
          "iopub.execute_input": "2022-09-11T11:40:07.988921Z",
          "iopub.status.busy": "2022-09-11T11:40:07.988502Z",
          "iopub.status.idle": "2022-09-11T11:40:08.009075Z",
          "shell.execute_reply": "2022-09-11T11:40:08.007963Z",
          "shell.execute_reply.started": "2022-09-11T11:40:07.98889Z"
        },
        "id": "7UpS-xNtYYRa",
        "outputId": "3bc43c8b-6bfc-4942-a1d8-355b79f076d4"
      },
      "outputs": [
        {
          "name": "stdout",
          "output_type": "stream",
          "text": [
            "<class 'pandas.core.frame.DataFrame'>\n",
            "Index: 5912 entries, 0 to 6018\n",
            "Data columns (total 12 columns):\n",
            " #   Column             Non-Null Count  Dtype  \n",
            "---  ------             --------------  -----  \n",
            " 0   Name               5912 non-null   string \n",
            " 1   Location           5912 non-null   string \n",
            " 2   Year               5912 non-null   Int64  \n",
            " 3   Kilometers_Driven  5912 non-null   Int64  \n",
            " 4   Fuel_Type          5912 non-null   string \n",
            " 5   Transmission       5912 non-null   string \n",
            " 6   Owner_Type         5912 non-null   string \n",
            " 7   Mileage            5912 non-null   float64\n",
            " 8   Engine             5912 non-null   float64\n",
            " 9   Power              5912 non-null   float64\n",
            " 10  Seats              5912 non-null   Int64  \n",
            " 11  Price              5912 non-null   Float64\n",
            "dtypes: Float64(1), Int64(3), float64(3), string(5)\n",
            "memory usage: 623.5 KB\n"
          ]
        }
      ],
      "source": [
        "df.info()"
      ]
    },
    {
      "cell_type": "markdown",
      "metadata": {
        "id": "omedPwkcYYRa"
      },
      "source": [
        "# 2. Feature Engineering"
      ]
    },
    {
      "cell_type": "code",
      "execution_count": 23,
      "metadata": {
        "colab": {
          "base_uri": "https://localhost:8080/"
        },
        "execution": {
          "iopub.execute_input": "2022-09-11T11:40:08.011094Z",
          "iopub.status.busy": "2022-09-11T11:40:08.010706Z",
          "iopub.status.idle": "2022-09-11T11:40:08.020429Z",
          "shell.execute_reply": "2022-09-11T11:40:08.01939Z",
          "shell.execute_reply.started": "2022-09-11T11:40:08.011057Z"
        },
        "id": "OXvKihEzYYRa",
        "outputId": "8d4b998a-dc9b-48ca-92a6-d5fcb98a9ae2"
      },
      "outputs": [
        {
          "data": {
            "text/plain": [
              "1830"
            ]
          },
          "execution_count": 23,
          "metadata": {},
          "output_type": "execute_result"
        }
      ],
      "source": [
        "df[\"Name\"].nunique()"
      ]
    },
    {
      "cell_type": "code",
      "execution_count": 24,
      "metadata": {
        "colab": {
          "base_uri": "https://localhost:8080/"
        },
        "execution": {
          "iopub.execute_input": "2022-09-11T11:40:08.022386Z",
          "iopub.status.busy": "2022-09-11T11:40:08.022001Z",
          "iopub.status.idle": "2022-09-11T11:40:08.033982Z",
          "shell.execute_reply": "2022-09-11T11:40:08.03255Z",
          "shell.execute_reply.started": "2022-09-11T11:40:08.022341Z"
        },
        "id": "zNqslxbZYYRa",
        "outputId": "d43b5878-2770-4745-ef8f-a029e607a23e"
      },
      "outputs": [
        {
          "name": "stdout",
          "output_type": "stream",
          "text": [
            "Percentage of uniques 31 %\n"
          ]
        }
      ],
      "source": [
        "print(\"Percentage of uniques\",round(df[\"Name\"].nunique()/df.shape[0]*100),\"%\")"
      ]
    },
    {
      "cell_type": "code",
      "execution_count": 25,
      "metadata": {
        "colab": {
          "base_uri": "https://localhost:8080/",
          "height": 458
        },
        "execution": {
          "iopub.execute_input": "2022-09-11T11:40:08.03639Z",
          "iopub.status.busy": "2022-09-11T11:40:08.036007Z",
          "iopub.status.idle": "2022-09-11T11:40:08.047827Z",
          "shell.execute_reply": "2022-09-11T11:40:08.046439Z",
          "shell.execute_reply.started": "2022-09-11T11:40:08.036344Z"
        },
        "id": "XPrG5c60YYRa",
        "outputId": "8101b0ed-fda8-4753-ddb2-4c880c36e9b9"
      },
      "outputs": [
        {
          "data": {
            "text/plain": [
              "0                 Maruti Wagon R LXI CNG\n",
              "1       Hyundai Creta 1.6 CRDi SX Option\n",
              "2                           Honda Jazz V\n",
              "3                      Maruti Ertiga VDI\n",
              "4        Audi A4 New 2.0 TDI Multitronic\n",
              "                      ...               \n",
              "6014                    Maruti Swift VDI\n",
              "6015            Hyundai Xcent 1.1 CRDi S\n",
              "6016               Mahindra Xylo D4 BSIV\n",
              "6017                  Maruti Wagon R VXI\n",
              "6018               Chevrolet Beat Diesel\n",
              "Name: Name, Length: 5912, dtype: string"
            ]
          },
          "execution_count": 25,
          "metadata": {},
          "output_type": "execute_result"
        }
      ],
      "source": [
        "df[\"Name\"]"
      ]
    },
    {
      "cell_type": "code",
      "execution_count": 26,
      "metadata": {
        "execution": {
          "iopub.execute_input": "2022-09-11T11:40:08.049947Z",
          "iopub.status.busy": "2022-09-11T11:40:08.049417Z",
          "iopub.status.idle": "2022-09-11T11:40:08.062614Z",
          "shell.execute_reply": "2022-09-11T11:40:08.060794Z",
          "shell.execute_reply.started": "2022-09-11T11:40:08.049911Z"
        },
        "id": "_iELv0UNYYRa"
      },
      "outputs": [],
      "source": [
        "df[\"Brand\"] = df[\"Name\"].apply(lambda x : x.split()[0])"
      ]
    },
    {
      "cell_type": "code",
      "execution_count": 27,
      "metadata": {
        "colab": {
          "base_uri": "https://localhost:8080/"
        },
        "execution": {
          "iopub.execute_input": "2022-09-11T11:40:08.065091Z",
          "iopub.status.busy": "2022-09-11T11:40:08.064278Z",
          "iopub.status.idle": "2022-09-11T11:40:08.079186Z",
          "shell.execute_reply": "2022-09-11T11:40:08.078205Z",
          "shell.execute_reply.started": "2022-09-11T11:40:08.065054Z"
        },
        "id": "CaaBudLqYYRa",
        "outputId": "333eec97-46e4-45c9-9e52-f512c8a7e431"
      },
      "outputs": [
        {
          "data": {
            "text/plain": [
              "30"
            ]
          },
          "execution_count": 27,
          "metadata": {},
          "output_type": "execute_result"
        }
      ],
      "source": [
        "df[\"Brand\"].nunique()"
      ]
    },
    {
      "cell_type": "code",
      "execution_count": 28,
      "metadata": {
        "execution": {
          "iopub.execute_input": "2022-09-11T11:40:08.08128Z",
          "iopub.status.busy": "2022-09-11T11:40:08.080662Z",
          "iopub.status.idle": "2022-09-11T11:40:08.09759Z",
          "shell.execute_reply": "2022-09-11T11:40:08.096071Z",
          "shell.execute_reply.started": "2022-09-11T11:40:08.081245Z"
        },
        "id": "UgmM_HzQYYRa"
      },
      "outputs": [],
      "source": [
        "df[\"Name\"] = df[\"Name\"].apply(lambda x : \" \".join(x.split()[:2]))"
      ]
    },
    {
      "cell_type": "code",
      "execution_count": 29,
      "metadata": {
        "colab": {
          "base_uri": "https://localhost:8080/"
        },
        "execution": {
          "iopub.execute_input": "2022-09-11T11:40:08.100649Z",
          "iopub.status.busy": "2022-09-11T11:40:08.099565Z",
          "iopub.status.idle": "2022-09-11T11:40:08.108856Z",
          "shell.execute_reply": "2022-09-11T11:40:08.107998Z",
          "shell.execute_reply.started": "2022-09-11T11:40:08.10061Z"
        },
        "id": "0BlItx9qYYRb",
        "outputId": "23bae653-fcf8-4526-b77d-1895d3dc7175"
      },
      "outputs": [
        {
          "data": {
            "text/plain": [
              "209"
            ]
          },
          "execution_count": 29,
          "metadata": {},
          "output_type": "execute_result"
        }
      ],
      "source": [
        "df[\"Name\"].nunique()"
      ]
    },
    {
      "cell_type": "code",
      "execution_count": 30,
      "metadata": {
        "execution": {
          "iopub.execute_input": "2022-09-11T11:40:08.110655Z",
          "iopub.status.busy": "2022-09-11T11:40:08.110031Z",
          "iopub.status.idle": "2022-09-11T11:40:08.13174Z",
          "shell.execute_reply": "2022-09-11T11:40:08.130262Z",
          "shell.execute_reply.started": "2022-09-11T11:40:08.110594Z"
        },
        "id": "gdCp2Vs0YYRb"
      },
      "outputs": [],
      "source": [
        "df = df.convert_dtypes()"
      ]
    },
    {
      "cell_type": "code",
      "execution_count": 31,
      "metadata": {
        "colab": {
          "base_uri": "https://localhost:8080/"
        },
        "execution": {
          "iopub.execute_input": "2022-09-11T11:40:08.16456Z",
          "iopub.status.busy": "2022-09-11T11:40:08.163936Z",
          "iopub.status.idle": "2022-09-11T11:40:08.186125Z",
          "shell.execute_reply": "2022-09-11T11:40:08.185229Z",
          "shell.execute_reply.started": "2022-09-11T11:40:08.164519Z"
        },
        "id": "o9Y4oQnJYYRb",
        "outputId": "5f6d7a2a-83da-4e7a-f53d-a477aab9ab3e"
      },
      "outputs": [
        {
          "name": "stdout",
          "output_type": "stream",
          "text": [
            "<class 'pandas.core.frame.DataFrame'>\n",
            "Index: 5912 entries, 0 to 6018\n",
            "Data columns (total 13 columns):\n",
            " #   Column             Non-Null Count  Dtype  \n",
            "---  ------             --------------  -----  \n",
            " 0   Name               5912 non-null   string \n",
            " 1   Location           5912 non-null   string \n",
            " 2   Year               5912 non-null   Int64  \n",
            " 3   Kilometers_Driven  5912 non-null   Int64  \n",
            " 4   Fuel_Type          5912 non-null   string \n",
            " 5   Transmission       5912 non-null   string \n",
            " 6   Owner_Type         5912 non-null   string \n",
            " 7   Mileage            5912 non-null   Float64\n",
            " 8   Engine             5912 non-null   Int64  \n",
            " 9   Power              5912 non-null   Float64\n",
            " 10  Seats              5912 non-null   Int64  \n",
            " 11  Price              5912 non-null   Float64\n",
            " 12  Brand              5912 non-null   string \n",
            "dtypes: Float64(3), Int64(4), string(6)\n",
            "memory usage: 687.0 KB\n"
          ]
        }
      ],
      "source": [
        "df.info()"
      ]
    },
    {
      "cell_type": "code",
      "execution_count": 32,
      "metadata": {
        "colab": {
          "base_uri": "https://localhost:8080/",
          "height": 300
        },
        "execution": {
          "iopub.execute_input": "2022-09-11T11:40:08.188709Z",
          "iopub.status.busy": "2022-09-11T11:40:08.188272Z",
          "iopub.status.idle": "2022-09-11T11:40:08.257051Z",
          "shell.execute_reply": "2022-09-11T11:40:08.25565Z",
          "shell.execute_reply.started": "2022-09-11T11:40:08.188673Z"
        },
        "id": "I0lsut6zYYRb",
        "outputId": "86878b6b-813d-4d0f-82cf-13a54d191901"
      },
      "outputs": [
        {
          "data": {
            "text/html": [
              "<div>\n",
              "<style scoped>\n",
              "    .dataframe tbody tr th:only-of-type {\n",
              "        vertical-align: middle;\n",
              "    }\n",
              "\n",
              "    .dataframe tbody tr th {\n",
              "        vertical-align: top;\n",
              "    }\n",
              "\n",
              "    .dataframe thead th {\n",
              "        text-align: right;\n",
              "    }\n",
              "</style>\n",
              "<table border=\"1\" class=\"dataframe\">\n",
              "  <thead>\n",
              "    <tr style=\"text-align: right;\">\n",
              "      <th></th>\n",
              "      <th>Year</th>\n",
              "      <th>Kilometers_Driven</th>\n",
              "      <th>Mileage</th>\n",
              "      <th>Engine</th>\n",
              "      <th>Power</th>\n",
              "      <th>Seats</th>\n",
              "      <th>Price</th>\n",
              "    </tr>\n",
              "  </thead>\n",
              "  <tbody>\n",
              "    <tr>\n",
              "      <th>count</th>\n",
              "      <td>5912.0</td>\n",
              "      <td>5912.0</td>\n",
              "      <td>5912.0</td>\n",
              "      <td>5912.0</td>\n",
              "      <td>5912.0</td>\n",
              "      <td>5912.0</td>\n",
              "      <td>5912.0</td>\n",
              "    </tr>\n",
              "    <tr>\n",
              "      <th>mean</th>\n",
              "      <td>2013.450609</td>\n",
              "      <td>58377.655277</td>\n",
              "      <td>18.231778</td>\n",
              "      <td>1622.85707</td>\n",
              "      <td>113.014026</td>\n",
              "      <td>5.2818</td>\n",
              "      <td>9.584919</td>\n",
              "    </tr>\n",
              "    <tr>\n",
              "      <th>std</th>\n",
              "      <td>3.188638</td>\n",
              "      <td>91898.48229</td>\n",
              "      <td>4.431628</td>\n",
              "      <td>600.877459</td>\n",
              "      <td>53.797403</td>\n",
              "      <td>0.80269</td>\n",
              "      <td>11.233694</td>\n",
              "    </tr>\n",
              "    <tr>\n",
              "      <th>min</th>\n",
              "      <td>1998.0</td>\n",
              "      <td>171.0</td>\n",
              "      <td>0.0</td>\n",
              "      <td>72.0</td>\n",
              "      <td>34.2</td>\n",
              "      <td>2.0</td>\n",
              "      <td>0.44</td>\n",
              "    </tr>\n",
              "    <tr>\n",
              "      <th>25%</th>\n",
              "      <td>2012.0</td>\n",
              "      <td>33512.75</td>\n",
              "      <td>15.26</td>\n",
              "      <td>1198.0</td>\n",
              "      <td>75.0</td>\n",
              "      <td>5.0</td>\n",
              "      <td>3.5</td>\n",
              "    </tr>\n",
              "    <tr>\n",
              "      <th>50%</th>\n",
              "      <td>2014.0</td>\n",
              "      <td>52862.5</td>\n",
              "      <td>18.2</td>\n",
              "      <td>1493.0</td>\n",
              "      <td>94.0</td>\n",
              "      <td>5.0</td>\n",
              "      <td>5.7</td>\n",
              "    </tr>\n",
              "    <tr>\n",
              "      <th>75%</th>\n",
              "      <td>2016.0</td>\n",
              "      <td>72453.75</td>\n",
              "      <td>21.1</td>\n",
              "      <td>1984.0</td>\n",
              "      <td>138.1</td>\n",
              "      <td>5.0</td>\n",
              "      <td>10.0125</td>\n",
              "    </tr>\n",
              "    <tr>\n",
              "      <th>max</th>\n",
              "      <td>2019.0</td>\n",
              "      <td>6500000.0</td>\n",
              "      <td>33.54</td>\n",
              "      <td>5998.0</td>\n",
              "      <td>560.0</td>\n",
              "      <td>10.0</td>\n",
              "      <td>160.0</td>\n",
              "    </tr>\n",
              "  </tbody>\n",
              "</table>\n",
              "</div>"
            ],
            "text/plain": [
              "              Year  Kilometers_Driven    Mileage      Engine       Power  \\\n",
              "count       5912.0             5912.0     5912.0      5912.0      5912.0   \n",
              "mean   2013.450609       58377.655277  18.231778  1622.85707  113.014026   \n",
              "std       3.188638        91898.48229   4.431628  600.877459   53.797403   \n",
              "min         1998.0              171.0        0.0        72.0        34.2   \n",
              "25%         2012.0           33512.75      15.26      1198.0        75.0   \n",
              "50%         2014.0            52862.5       18.2      1493.0        94.0   \n",
              "75%         2016.0           72453.75       21.1      1984.0       138.1   \n",
              "max         2019.0          6500000.0      33.54      5998.0       560.0   \n",
              "\n",
              "         Seats      Price  \n",
              "count   5912.0     5912.0  \n",
              "mean    5.2818   9.584919  \n",
              "std    0.80269  11.233694  \n",
              "min        2.0       0.44  \n",
              "25%        5.0        3.5  \n",
              "50%        5.0        5.7  \n",
              "75%        5.0    10.0125  \n",
              "max       10.0      160.0  "
            ]
          },
          "execution_count": 32,
          "metadata": {},
          "output_type": "execute_result"
        }
      ],
      "source": [
        "df.describe()"
      ]
    },
    {
      "cell_type": "markdown",
      "metadata": {
        "id": "boMTbCGbYYRb"
      },
      "source": [
        "________________________"
      ]
    },
    {
      "cell_type": "markdown",
      "metadata": {
        "id": "wzt2WrgpYYRb"
      },
      "source": [
        "# 3. Data understanding"
      ]
    },
    {
      "cell_type": "markdown",
      "metadata": {
        "id": "_UVlQuwBYYRf"
      },
      "source": [
        "### 3.1 Univariate analysis"
      ]
    },
    {
      "cell_type": "code",
      "execution_count": 33,
      "metadata": {
        "colab": {
          "base_uri": "https://localhost:8080/",
          "height": 450
        },
        "execution": {
          "iopub.execute_input": "2022-09-11T11:40:08.308229Z",
          "iopub.status.busy": "2022-09-11T11:40:08.30709Z",
          "iopub.status.idle": "2022-09-11T11:40:11.679124Z",
          "shell.execute_reply": "2022-09-11T11:40:11.677914Z",
          "shell.execute_reply.started": "2022-09-11T11:40:08.308171Z"
        },
        "id": "k8BJoHNXYYRf",
        "outputId": "f980a2eb-8ed8-4ae9-ed9d-5841c48343c6"
      },
      "outputs": [
        {
          "data": {
            "image/png": "[encoded data removed]",
            "text/plain": [
              "<Figure size 640x480 with 1 Axes>"
            ]
          },
          "metadata": {},
          "output_type": "display_data"
        }
      ],
      "source": [
        "sns.histplot(data = df , x = 'Kilometers_Driven');\n",
        "sns.set(rc={'figure.figsize': [8, 8]}, font_scale=1.2)"
      ]
    },
    {
      "cell_type": "code",
      "execution_count": 34,
      "metadata": {
        "colab": {
          "base_uri": "https://localhost:8080/",
          "height": 708
        },
        "execution": {
          "iopub.execute_input": "2022-09-11T11:40:11.681803Z",
          "iopub.status.busy": "2022-09-11T11:40:11.681281Z",
          "iopub.status.idle": "2022-09-11T11:40:12.110017Z",
          "shell.execute_reply": "2022-09-11T11:40:12.108824Z",
          "shell.execute_reply.started": "2022-09-11T11:40:11.681757Z"
        },
        "id": "auOS-C6PYYRf",
        "outputId": "c68fe639-8b4b-4e0d-c0b1-7d85afe33758"
      },
      "outputs": [
        {
          "data": {
            "image/png": "[encoded data removed]",
            "text/plain": [
              "<Figure size 800x800 with 1 Axes>"
            ]
          },
          "metadata": {},
          "output_type": "display_data"
        }
      ],
      "source": [
        "sns.histplot(data = df , x = 'Mileage');"
      ]
    },
    {
      "cell_type": "code",
      "execution_count": 35,
      "metadata": {
        "colab": {
          "base_uri": "https://localhost:8080/",
          "height": 708
        },
        "execution": {
          "iopub.execute_input": "2022-09-11T11:40:12.112514Z",
          "iopub.status.busy": "2022-09-11T11:40:12.111787Z",
          "iopub.status.idle": "2022-09-11T11:40:12.570222Z",
          "shell.execute_reply": "2022-09-11T11:40:12.56892Z",
          "shell.execute_reply.started": "2022-09-11T11:40:12.112469Z"
        },
        "id": "cVV11qqrYYRf",
        "outputId": "32cea90c-ade5-414f-b2b5-ccccad59cb8d"
      },
      "outputs": [
        {
          "data": {
            "image/png": "[encoded data removed]",
            "text/plain": [
              "<Figure size 800x800 with 1 Axes>"
            ]
          },
          "metadata": {},
          "output_type": "display_data"
        }
      ],
      "source": [
        "sns.histplot(data = df , x = 'Engine');"
      ]
    },
    {
      "cell_type": "code",
      "execution_count": 36,
      "metadata": {
        "colab": {
          "base_uri": "https://localhost:8080/",
          "height": 708
        },
        "execution": {
          "iopub.execute_input": "2022-09-11T11:40:12.573178Z",
          "iopub.status.busy": "2022-09-11T11:40:12.572366Z",
          "iopub.status.idle": "2022-09-11T11:40:13.029277Z",
          "shell.execute_reply": "2022-09-11T11:40:13.027603Z",
          "shell.execute_reply.started": "2022-09-11T11:40:12.573128Z"
        },
        "id": "-QlXFSadYYRf",
        "outputId": "da4b16d9-2a49-438b-b7dd-aa61e3061eed"
      },
      "outputs": [
        {
          "data": {
            "image/png": "[encoded data removed]",
            "text/plain": [
              "<Figure size 800x800 with 1 Axes>"
            ]
          },
          "metadata": {},
          "output_type": "display_data"
        }
      ],
      "source": [
        "sns.histplot(data = df , x = 'Power');"
      ]
    },
    {
      "cell_type": "code",
      "execution_count": 37,
      "metadata": {
        "colab": {
          "base_uri": "https://localhost:8080/",
          "height": 708
        },
        "execution": {
          "iopub.execute_input": "2022-09-11T11:40:13.032081Z",
          "iopub.status.busy": "2022-09-11T11:40:13.031698Z",
          "iopub.status.idle": "2022-09-11T11:40:14.023998Z",
          "shell.execute_reply": "2022-09-11T11:40:14.022355Z",
          "shell.execute_reply.started": "2022-09-11T11:40:13.032049Z"
        },
        "id": "zucw6BSFYYRf",
        "outputId": "b9984737-7984-4fbe-cda0-d4ca76066bd8"
      },
      "outputs": [
        {
          "data": {
            "image/png": "[encoded data removed]",
            "text/plain": [
              "<Figure size 800x800 with 1 Axes>"
            ]
          },
          "metadata": {},
          "output_type": "display_data"
        }
      ],
      "source": [
        "sns.histplot(data = df , x = 'Price');"
      ]
    },
    {
      "cell_type": "code",
      "execution_count": 38,
      "metadata": {
        "execution": {
          "iopub.execute_input": "2022-09-11T11:40:14.027457Z",
          "iopub.status.busy": "2022-09-11T11:40:14.026089Z",
          "iopub.status.idle": "2022-09-11T11:40:14.033963Z",
          "shell.execute_reply": "2022-09-11T11:40:14.031814Z",
          "shell.execute_reply.started": "2022-09-11T11:40:14.027409Z"
        },
        "id": "Af2ZGlANYYRg"
      },
      "outputs": [],
      "source": [
        "numerical_cols = ['Kilometers_Driven' , 'Mileage' , 'Engine' , 'Power','Price']"
      ]
    },
    {
      "cell_type": "code",
      "execution_count": 39,
      "metadata": {
        "id": "aWiVFTJtYYRg"
      },
      "outputs": [],
      "source": [
        "from datasist.structdata import detect_outliers"
      ]
    },
    {
      "cell_type": "code",
      "execution_count": 40,
      "metadata": {
        "execution": {
          "iopub.execute_input": "2022-09-11T11:40:26.46934Z",
          "iopub.status.busy": "2022-09-11T11:40:26.468028Z",
          "iopub.status.idle": "2022-09-11T11:40:26.535358Z",
          "shell.execute_reply": "2022-09-11T11:40:26.53404Z",
          "shell.execute_reply.started": "2022-09-11T11:40:26.469248Z"
        },
        "id": "Ewhe5UOGYYRg"
      },
      "outputs": [],
      "source": [
        "df_nums = df.copy()\n",
        "outliears = detect_outliers(df_nums[numerical_cols],0,df_nums[numerical_cols].columns)\n",
        "df_nums.drop(outliears,inplace=True)"
      ]
    },
    {
      "cell_type": "code",
      "execution_count": 41,
      "metadata": {
        "colab": {
          "base_uri": "https://localhost:8080/",
          "height": 709
        },
        "execution": {
          "iopub.execute_input": "2022-09-11T11:40:26.538397Z",
          "iopub.status.busy": "2022-09-11T11:40:26.53744Z",
          "iopub.status.idle": "2022-09-11T11:40:26.961461Z",
          "shell.execute_reply": "2022-09-11T11:40:26.959817Z",
          "shell.execute_reply.started": "2022-09-11T11:40:26.538357Z"
        },
        "id": "bXtWRXwlYYRg",
        "outputId": "fc5189c7-1473-49f7-b83c-b0b3880a81b9"
      },
      "outputs": [
        {
          "data": {
            "image/png": "[encoded data removed]",
            "text/plain": [
              "<Figure size 800x800 with 1 Axes>"
            ]
          },
          "metadata": {},
          "output_type": "display_data"
        }
      ],
      "source": [
        "sns.histplot(data = df_nums , x = 'Kilometers_Driven');"
      ]
    },
    {
      "cell_type": "code",
      "execution_count": 42,
      "metadata": {
        "colab": {
          "base_uri": "https://localhost:8080/",
          "height": 708
        },
        "execution": {
          "iopub.execute_input": "2022-09-11T11:40:26.964013Z",
          "iopub.status.busy": "2022-09-11T11:40:26.963471Z",
          "iopub.status.idle": "2022-09-11T11:40:27.38024Z",
          "shell.execute_reply": "2022-09-11T11:40:27.378519Z",
          "shell.execute_reply.started": "2022-09-11T11:40:26.963973Z"
        },
        "id": "Eb36AJjOYYRg",
        "outputId": "9fa85781-6859-459b-96c6-5ac7cba08cff"
      },
      "outputs": [
        {
          "data": {
            "image/png": "[encoded data removed]",
            "text/plain": [
              "<Figure size 800x800 with 1 Axes>"
            ]
          },
          "metadata": {},
          "output_type": "display_data"
        }
      ],
      "source": [
        "sns.histplot(data = df_nums , x = 'Mileage');"
      ]
    },
    {
      "cell_type": "code",
      "execution_count": 43,
      "metadata": {
        "colab": {
          "base_uri": "https://localhost:8080/",
          "height": 708
        },
        "execution": {
          "iopub.execute_input": "2022-09-11T11:40:27.389203Z",
          "iopub.status.busy": "2022-09-11T11:40:27.388309Z",
          "iopub.status.idle": "2022-09-11T11:40:27.835917Z",
          "shell.execute_reply": "2022-09-11T11:40:27.834303Z",
          "shell.execute_reply.started": "2022-09-11T11:40:27.389131Z"
        },
        "id": "h49sUpT7YYRg",
        "outputId": "d33426f8-03ec-4a01-a533-b52a462dc094"
      },
      "outputs": [
        {
          "data": {
            "image/png": "[encoded data removed]",
            "text/plain": [
              "<Figure size 800x800 with 1 Axes>"
            ]
          },
          "metadata": {},
          "output_type": "display_data"
        }
      ],
      "source": [
        "sns.histplot(data = df_nums , x = 'Engine');"
      ]
    },
    {
      "cell_type": "code",
      "execution_count": 44,
      "metadata": {
        "colab": {
          "base_uri": "https://localhost:8080/",
          "height": 708
        },
        "execution": {
          "iopub.execute_input": "2022-09-11T11:40:27.839507Z",
          "iopub.status.busy": "2022-09-11T11:40:27.838141Z",
          "iopub.status.idle": "2022-09-11T11:40:28.274195Z",
          "shell.execute_reply": "2022-09-11T11:40:28.272631Z",
          "shell.execute_reply.started": "2022-09-11T11:40:27.83946Z"
        },
        "id": "y28AwnrHYYRg",
        "outputId": "31a22421-3a14-42cd-dc73-d31574caf8fd"
      },
      "outputs": [
        {
          "data": {
            "image/png": "[encoded data removed]",
            "text/plain": [
              "<Figure size 800x800 with 1 Axes>"
            ]
          },
          "metadata": {},
          "output_type": "display_data"
        }
      ],
      "source": [
        "sns.histplot(data = df_nums , x = 'Power');"
      ]
    },
    {
      "cell_type": "code",
      "execution_count": 45,
      "metadata": {
        "colab": {
          "base_uri": "https://localhost:8080/",
          "height": 708
        },
        "execution": {
          "iopub.execute_input": "2022-09-11T11:40:28.277352Z",
          "iopub.status.busy": "2022-09-11T11:40:28.276146Z",
          "iopub.status.idle": "2022-09-11T11:40:28.725385Z",
          "shell.execute_reply": "2022-09-11T11:40:28.724116Z",
          "shell.execute_reply.started": "2022-09-11T11:40:28.277272Z"
        },
        "id": "qhDtK_5-YYRg",
        "outputId": "c2288d9d-b3c3-4c27-eba5-859b360513f7"
      },
      "outputs": [
        {
          "data": {
            "image/png": "[encoded data removed]",
            "text/plain": [
              "<Figure size 800x800 with 1 Axes>"
            ]
          },
          "metadata": {},
          "output_type": "display_data"
        }
      ],
      "source": [
        "sns.histplot(data = df_nums , x = 'Price');"
      ]
    },
    {
      "cell_type": "markdown",
      "metadata": {
        "execution": {
          "iopub.execute_input": "2022-09-11T11:40:28.727539Z",
          "iopub.status.busy": "2022-09-11T11:40:28.727133Z",
          "iopub.status.idle": "2022-09-11T11:40:28.766025Z",
          "shell.execute_reply": "2022-09-11T11:40:28.764506Z",
          "shell.execute_reply.started": "2022-09-11T11:40:28.727497Z"
        },
        "id": "cXMSZPxGYYRh"
      },
      "source": [
        "## 3.2 BiVariant Analysis"
      ]
    },
    {
      "cell_type": "code",
      "execution_count": 46,
      "metadata": {
        "colab": {
          "base_uri": "https://localhost:8080/",
          "height": 725
        },
        "id": "BZYkBMtSYYRh",
        "outputId": "45e9c668-5a3a-46f4-c728-dcc9d24fe73f"
      },
      "outputs": [
        {
          "data": {
            "text/plain": [
              "<Axes: xlabel='Brand', ylabel='Price'>"
            ]
          },
          "execution_count": 46,
          "metadata": {},
          "output_type": "execute_result"
        },
        {
          "data": {
            "image/png": "[encoded data removed]",
            "text/plain": [
              "<Figure size 800x800 with 1 Axes>"
            ]
          },
          "metadata": {},
          "output_type": "display_data"
        }
      ],
      "source": [
        "sns.boxplot(data=df, x='Brand', y='Price')"
      ]
    },
    {
      "cell_type": "code",
      "execution_count": 47,
      "metadata": {
        "colab": {
          "base_uri": "https://localhost:8080/",
          "height": 725
        },
        "id": "pSQw716MYYRh",
        "outputId": "c496221f-90f0-4131-9993-0a5d97f9e310"
      },
      "outputs": [
        {
          "data": {
            "text/plain": [
              "<Axes: xlabel='Transmission', ylabel='Price'>"
            ]
          },
          "execution_count": 47,
          "metadata": {},
          "output_type": "execute_result"
        },
        {
          "data": {
            "image/png": "[encoded data removed]",
            "text/plain": [
              "<Figure size 800x800 with 1 Axes>"
            ]
          },
          "metadata": {},
          "output_type": "display_data"
        }
      ],
      "source": [
        "sns.boxplot(data=df, x='Transmission', y='Price')"
      ]
    },
    {
      "cell_type": "code",
      "execution_count": 48,
      "metadata": {
        "colab": {
          "base_uri": "https://localhost:8080/",
          "height": 726
        },
        "id": "ThPLJod-YYRh",
        "outputId": "c70a4986-9a57-4723-dc2b-9629924ad463"
      },
      "outputs": [
        {
          "data": {
            "text/plain": [
              "<Axes: xlabel='Kilometers_Driven', ylabel='Price'>"
            ]
          },
          "execution_count": 48,
          "metadata": {},
          "output_type": "execute_result"
        },
        {
          "data": {
            "image/png": "[encoded data removed]",
            "text/plain": [
              "<Figure size 800x800 with 1 Axes>"
            ]
          },
          "metadata": {},
          "output_type": "display_data"
        }
      ],
      "source": [
        "sns.scatterplot(data = df , x = \"Kilometers_Driven\" , y =\"Price\")"
      ]
    },
    {
      "cell_type": "code",
      "execution_count": 49,
      "metadata": {
        "colab": {
          "base_uri": "https://localhost:8080/",
          "height": 725
        },
        "id": "Tp2Px9ipYYRh",
        "outputId": "93326eef-40cd-46cf-f706-7829c4270700"
      },
      "outputs": [
        {
          "data": {
            "text/plain": [
              "<Axes: xlabel='Year', ylabel='Price'>"
            ]
          },
          "execution_count": 49,
          "metadata": {},
          "output_type": "execute_result"
        },
        {
          "data": {
            "image/png": "[encoded data removed]",
            "text/plain": [
              "<Figure size 800x800 with 1 Axes>"
            ]
          },
          "metadata": {},
          "output_type": "display_data"
        }
      ],
      "source": [
        "sns.scatterplot(data = df , x =\"Year\" , y = 'Price' )"
      ]
    },
    {
      "cell_type": "code",
      "execution_count": 50,
      "metadata": {
        "colab": {
          "base_uri": "https://localhost:8080/"
        },
        "id": "RzREUKDiYYRh",
        "outputId": "81d6271f-7be0-494e-fd2c-2617dcd168b1"
      },
      "outputs": [
        {
          "data": {
            "text/plain": [
              "Index(['Name', 'Location', 'Year', 'Kilometers_Driven', 'Fuel_Type',\n",
              "       'Transmission', 'Owner_Type', 'Mileage', 'Engine', 'Power', 'Seats',\n",
              "       'Price', 'Brand'],\n",
              "      dtype='object')"
            ]
          },
          "execution_count": 50,
          "metadata": {},
          "output_type": "execute_result"
        }
      ],
      "source": [
        "df.columns"
      ]
    },
    {
      "cell_type": "code",
      "execution_count": 51,
      "metadata": {
        "colab": {
          "base_uri": "https://localhost:8080/",
          "height": 424
        },
        "id": "ABpoDWBxYYRh",
        "outputId": "349b0f49-3129-4fad-eff3-bcf177722b06"
      },
      "outputs": [
        {
          "data": {
            "text/html": [
              "<div>\n",
              "<style scoped>\n",
              "    .dataframe tbody tr th:only-of-type {\n",
              "        vertical-align: middle;\n",
              "    }\n",
              "\n",
              "    .dataframe tbody tr th {\n",
              "        vertical-align: top;\n",
              "    }\n",
              "\n",
              "    .dataframe thead th {\n",
              "        text-align: right;\n",
              "    }\n",
              "</style>\n",
              "<table border=\"1\" class=\"dataframe\">\n",
              "  <thead>\n",
              "    <tr style=\"text-align: right;\">\n",
              "      <th></th>\n",
              "      <th>Name</th>\n",
              "      <th>Location</th>\n",
              "      <th>Year</th>\n",
              "      <th>Kilometers_Driven</th>\n",
              "      <th>Fuel_Type</th>\n",
              "      <th>Transmission</th>\n",
              "      <th>Owner_Type</th>\n",
              "      <th>Mileage</th>\n",
              "      <th>Engine</th>\n",
              "      <th>Power</th>\n",
              "      <th>Seats</th>\n",
              "      <th>Price</th>\n",
              "      <th>Brand</th>\n",
              "    </tr>\n",
              "  </thead>\n",
              "  <tbody>\n",
              "    <tr>\n",
              "      <th>0</th>\n",
              "      <td>Maruti Wagon</td>\n",
              "      <td>Mumbai</td>\n",
              "      <td>2010</td>\n",
              "      <td>72000</td>\n",
              "      <td>CNG</td>\n",
              "      <td>Manual</td>\n",
              "      <td>First</td>\n",
              "      <td>26.6</td>\n",
              "      <td>998</td>\n",
              "      <td>58.16</td>\n",
              "      <td>5</td>\n",
              "      <td>1.75</td>\n",
              "      <td>Maruti</td>\n",
              "    </tr>\n",
              "    <tr>\n",
              "      <th>1</th>\n",
              "      <td>Hyundai Creta</td>\n",
              "      <td>Pune</td>\n",
              "      <td>2015</td>\n",
              "      <td>41000</td>\n",
              "      <td>Diesel</td>\n",
              "      <td>Manual</td>\n",
              "      <td>First</td>\n",
              "      <td>19.67</td>\n",
              "      <td>1582</td>\n",
              "      <td>126.2</td>\n",
              "      <td>5</td>\n",
              "      <td>12.5</td>\n",
              "      <td>Hyundai</td>\n",
              "    </tr>\n",
              "    <tr>\n",
              "      <th>2</th>\n",
              "      <td>Honda Jazz</td>\n",
              "      <td>Chennai</td>\n",
              "      <td>2011</td>\n",
              "      <td>46000</td>\n",
              "      <td>Petrol</td>\n",
              "      <td>Manual</td>\n",
              "      <td>First</td>\n",
              "      <td>18.2</td>\n",
              "      <td>1199</td>\n",
              "      <td>88.7</td>\n",
              "      <td>5</td>\n",
              "      <td>4.5</td>\n",
              "      <td>Honda</td>\n",
              "    </tr>\n",
              "    <tr>\n",
              "      <th>3</th>\n",
              "      <td>Maruti Ertiga</td>\n",
              "      <td>Chennai</td>\n",
              "      <td>2012</td>\n",
              "      <td>87000</td>\n",
              "      <td>Diesel</td>\n",
              "      <td>Manual</td>\n",
              "      <td>First</td>\n",
              "      <td>20.77</td>\n",
              "      <td>1248</td>\n",
              "      <td>88.76</td>\n",
              "      <td>7</td>\n",
              "      <td>6.0</td>\n",
              "      <td>Maruti</td>\n",
              "    </tr>\n",
              "    <tr>\n",
              "      <th>4</th>\n",
              "      <td>Audi A4</td>\n",
              "      <td>Coimbatore</td>\n",
              "      <td>2013</td>\n",
              "      <td>40670</td>\n",
              "      <td>Diesel</td>\n",
              "      <td>Automatic</td>\n",
              "      <td>Second</td>\n",
              "      <td>15.2</td>\n",
              "      <td>1968</td>\n",
              "      <td>140.8</td>\n",
              "      <td>5</td>\n",
              "      <td>17.74</td>\n",
              "      <td>Audi</td>\n",
              "    </tr>\n",
              "    <tr>\n",
              "      <th>...</th>\n",
              "      <td>...</td>\n",
              "      <td>...</td>\n",
              "      <td>...</td>\n",
              "      <td>...</td>\n",
              "      <td>...</td>\n",
              "      <td>...</td>\n",
              "      <td>...</td>\n",
              "      <td>...</td>\n",
              "      <td>...</td>\n",
              "      <td>...</td>\n",
              "      <td>...</td>\n",
              "      <td>...</td>\n",
              "      <td>...</td>\n",
              "    </tr>\n",
              "    <tr>\n",
              "      <th>6014</th>\n",
              "      <td>Maruti Swift</td>\n",
              "      <td>Delhi</td>\n",
              "      <td>2014</td>\n",
              "      <td>27365</td>\n",
              "      <td>Diesel</td>\n",
              "      <td>Manual</td>\n",
              "      <td>First</td>\n",
              "      <td>28.4</td>\n",
              "      <td>1248</td>\n",
              "      <td>74.0</td>\n",
              "      <td>5</td>\n",
              "      <td>4.75</td>\n",
              "      <td>Maruti</td>\n",
              "    </tr>\n",
              "    <tr>\n",
              "      <th>6015</th>\n",
              "      <td>Hyundai Xcent</td>\n",
              "      <td>Jaipur</td>\n",
              "      <td>2015</td>\n",
              "      <td>100000</td>\n",
              "      <td>Diesel</td>\n",
              "      <td>Manual</td>\n",
              "      <td>First</td>\n",
              "      <td>24.4</td>\n",
              "      <td>1120</td>\n",
              "      <td>71.0</td>\n",
              "      <td>5</td>\n",
              "      <td>4.0</td>\n",
              "      <td>Hyundai</td>\n",
              "    </tr>\n",
              "    <tr>\n",
              "      <th>6016</th>\n",
              "      <td>Mahindra Xylo</td>\n",
              "      <td>Jaipur</td>\n",
              "      <td>2012</td>\n",
              "      <td>55000</td>\n",
              "      <td>Diesel</td>\n",
              "      <td>Manual</td>\n",
              "      <td>Second</td>\n",
              "      <td>14.0</td>\n",
              "      <td>2498</td>\n",
              "      <td>112.0</td>\n",
              "      <td>8</td>\n",
              "      <td>2.9</td>\n",
              "      <td>Mahindra</td>\n",
              "    </tr>\n",
              "    <tr>\n",
              "      <th>6017</th>\n",
              "      <td>Maruti Wagon</td>\n",
              "      <td>Kolkata</td>\n",
              "      <td>2013</td>\n",
              "      <td>46000</td>\n",
              "      <td>Petrol</td>\n",
              "      <td>Manual</td>\n",
              "      <td>First</td>\n",
              "      <td>18.9</td>\n",
              "      <td>998</td>\n",
              "      <td>67.1</td>\n",
              "      <td>5</td>\n",
              "      <td>2.65</td>\n",
              "      <td>Maruti</td>\n",
              "    </tr>\n",
              "    <tr>\n",
              "      <th>6018</th>\n",
              "      <td>Chevrolet Beat</td>\n",
              "      <td>Hyderabad</td>\n",
              "      <td>2011</td>\n",
              "      <td>47000</td>\n",
              "      <td>Diesel</td>\n",
              "      <td>Manual</td>\n",
              "      <td>First</td>\n",
              "      <td>25.44</td>\n",
              "      <td>936</td>\n",
              "      <td>57.6</td>\n",
              "      <td>5</td>\n",
              "      <td>2.5</td>\n",
              "      <td>Chevrolet</td>\n",
              "    </tr>\n",
              "  </tbody>\n",
              "</table>\n",
              "<p>5912 rows × 13 columns</p>\n",
              "</div>"
            ],
            "text/plain": [
              "                Name    Location  Year  Kilometers_Driven Fuel_Type  \\\n",
              "0       Maruti Wagon      Mumbai  2010              72000       CNG   \n",
              "1      Hyundai Creta        Pune  2015              41000    Diesel   \n",
              "2         Honda Jazz     Chennai  2011              46000    Petrol   \n",
              "3      Maruti Ertiga     Chennai  2012              87000    Diesel   \n",
              "4            Audi A4  Coimbatore  2013              40670    Diesel   \n",
              "...              ...         ...   ...                ...       ...   \n",
              "6014    Maruti Swift       Delhi  2014              27365    Diesel   \n",
              "6015   Hyundai Xcent      Jaipur  2015             100000    Diesel   \n",
              "6016   Mahindra Xylo      Jaipur  2012              55000    Diesel   \n",
              "6017    Maruti Wagon     Kolkata  2013              46000    Petrol   \n",
              "6018  Chevrolet Beat   Hyderabad  2011              47000    Diesel   \n",
              "\n",
              "     Transmission Owner_Type  Mileage  Engine  Power  Seats  Price      Brand  \n",
              "0          Manual      First     26.6     998  58.16      5   1.75     Maruti  \n",
              "1          Manual      First    19.67    1582  126.2      5   12.5    Hyundai  \n",
              "2          Manual      First     18.2    1199   88.7      5    4.5      Honda  \n",
              "3          Manual      First    20.77    1248  88.76      7    6.0     Maruti  \n",
              "4       Automatic     Second     15.2    1968  140.8      5  17.74       Audi  \n",
              "...           ...        ...      ...     ...    ...    ...    ...        ...  \n",
              "6014       Manual      First     28.4    1248   74.0      5   4.75     Maruti  \n",
              "6015       Manual      First     24.4    1120   71.0      5    4.0    Hyundai  \n",
              "6016       Manual     Second     14.0    2498  112.0      8    2.9   Mahindra  \n",
              "6017       Manual      First     18.9     998   67.1      5   2.65     Maruti  \n",
              "6018       Manual      First    25.44     936   57.6      5    2.5  Chevrolet  \n",
              "\n",
              "[5912 rows x 13 columns]"
            ]
          },
          "execution_count": 51,
          "metadata": {},
          "output_type": "execute_result"
        }
      ],
      "source": [
        "df"
      ]
    },
    {
      "cell_type": "markdown",
      "metadata": {
        "id": "K1AEKzWJYYRi"
      },
      "source": [
        "# 4. Data pre-processing"
      ]
    },
    {
      "cell_type": "markdown",
      "metadata": {
        "id": "Xg1e9WBJYYRi"
      },
      "source": [
        "### 4.1 Data transformation"
      ]
    },
    {
      "cell_type": "markdown",
      "metadata": {
        "id": "HryskVF3YYRi"
      },
      "source": [
        "#### 4.1.1 Catogerical transformation"
      ]
    },
    {
      "cell_type": "markdown",
      "metadata": {
        "id": "07fI3tNeYYRi"
      },
      "source": [
        "##### 4.1.1.1 ordinal transformation"
      ]
    },
    {
      "cell_type": "code",
      "execution_count": 52,
      "metadata": {
        "execution": {
          "iopub.execute_input": "2022-09-11T11:40:28.767769Z",
          "iopub.status.busy": "2022-09-11T11:40:28.767444Z",
          "iopub.status.idle": "2022-09-11T11:40:28.77459Z",
          "shell.execute_reply": "2022-09-11T11:40:28.772787Z",
          "shell.execute_reply.started": "2022-09-11T11:40:28.767739Z"
        },
        "id": "fc5N_7oLYYRi"
      },
      "outputs": [],
      "source": [
        "transformation = {\n",
        "    \"First\":3,\n",
        "    \"Second\":2,\n",
        "    \"Third\":1,\n",
        "    \"Fourth & Above\":0\n",
        "}"
      ]
    },
    {
      "cell_type": "code",
      "execution_count": 53,
      "metadata": {
        "execution": {
          "iopub.execute_input": "2022-09-11T11:40:28.77689Z",
          "iopub.status.busy": "2022-09-11T11:40:28.776317Z",
          "iopub.status.idle": "2022-09-11T11:40:28.788169Z",
          "shell.execute_reply": "2022-09-11T11:40:28.786845Z",
          "shell.execute_reply.started": "2022-09-11T11:40:28.776853Z"
        },
        "id": "8gzf-6QOYYRi"
      },
      "outputs": [],
      "source": [
        "df['Owner_Type'] = df['Owner_Type'].map(transformation)"
      ]
    },
    {
      "cell_type": "markdown",
      "metadata": {
        "id": "iwmLdPmyYYRi"
      },
      "source": [
        "##### 4.1.1.2 Nominal transformation\n"
      ]
    },
    {
      "cell_type": "code",
      "execution_count": 54,
      "metadata": {
        "execution": {
          "iopub.execute_input": "2022-09-11T11:40:28.79085Z",
          "iopub.status.busy": "2022-09-11T11:40:28.790102Z",
          "iopub.status.idle": "2022-09-11T11:40:28.978778Z",
          "shell.execute_reply": "2022-09-11T11:40:28.977865Z",
          "shell.execute_reply.started": "2022-09-11T11:40:28.790811Z"
        },
        "id": "NJ9VzMjzYYRi"
      },
      "outputs": [],
      "source": [
        "Nominal_data = ['Name','Location','Fuel_Type','Transmission','Brand']\n",
        "binaryencoder = ce.BinaryEncoder(cols=Nominal_data)\n",
        "df = binaryencoder.fit_transform(df)"
      ]
    },
    {
      "cell_type": "code",
      "execution_count": 55,
      "metadata": {
        "execution": {
          "iopub.execute_input": "2022-09-11T11:40:28.980874Z",
          "iopub.status.busy": "2022-09-11T11:40:28.980281Z",
          "iopub.status.idle": "2022-09-11T11:40:28.986735Z",
          "shell.execute_reply": "2022-09-11T11:40:28.98527Z",
          "shell.execute_reply.started": "2022-09-11T11:40:28.98084Z"
        },
        "id": "8Y8q_NerYYRi"
      },
      "outputs": [],
      "source": [
        "Numerical_data = ['Year','Kilometers_Driven','Mileage','Engine','Power','Seats','Price']"
      ]
    },
    {
      "cell_type": "markdown",
      "metadata": {
        "id": "j7cfKcxWYYRj"
      },
      "source": [
        "#### 4.2.1 Numerical transformation"
      ]
    },
    {
      "cell_type": "code",
      "execution_count": 56,
      "metadata": {
        "colab": {
          "base_uri": "https://localhost:8080/"
        },
        "execution": {
          "iopub.execute_input": "2022-09-11T11:40:28.989027Z",
          "iopub.status.busy": "2022-09-11T11:40:28.988674Z",
          "iopub.status.idle": "2022-09-11T11:40:29.29814Z",
          "shell.execute_reply": "2022-09-11T11:40:29.296701Z",
          "shell.execute_reply.started": "2022-09-11T11:40:28.988996Z"
        },
        "id": "RW7lrjewYYRj",
        "outputId": "e24b2f7e-fa34-48d9-cec1-b4d0f5e59d37"
      },
      "outputs": [],
      "source": [
        "\n",
        "new_df = pd.DataFrame(index=df.index)  # empty result frame with same index\n",
        "\n",
        "for col in df.columns:\n",
        "    try:\n",
        "        pt = PowerTransformer(method='yeo-johnson')\n",
        "        transformed_col = pt.fit_transform(df[[col]])\n",
        "        new_df[col] = transformed_col.flatten()\n",
        "    except Exception as e:\n",
        "        print(f\"Skipping column '{col}' due to error: {e}\")\n"
      ]
    },
    {
      "cell_type": "markdown",
      "metadata": {
        "id": "hLrMrWgxYYRj"
      },
      "source": [
        "### 4.1 Data splitting"
      ]
    },
    {
      "cell_type": "code",
      "execution_count": 57,
      "metadata": {
        "execution": {
          "iopub.execute_input": "2022-09-11T11:40:29.300625Z",
          "iopub.status.busy": "2022-09-11T11:40:29.300085Z",
          "iopub.status.idle": "2022-09-11T11:40:29.314468Z",
          "shell.execute_reply": "2022-09-11T11:40:29.312434Z",
          "shell.execute_reply.started": "2022-09-11T11:40:29.300575Z"
        },
        "id": "Ip8OIPeoYYRj"
      },
      "outputs": [],
      "source": [
        "X, y = new_df.drop(\"Price\",axis=1) , new_df[\"Price\"]\n",
        "X_train, X_test, y_train, y_test = train_test_split(X, y, test_size=0.3, random_state=42)"
      ]
    },
    {
      "cell_type": "markdown",
      "metadata": {
        "id": "hFKXSX0pYYRj"
      },
      "source": [
        "# 5.0 Modeling"
      ]
    },
    {
      "cell_type": "code",
      "execution_count": 58,
      "metadata": {
        "colab": {
          "base_uri": "https://localhost:8080/"
        },
        "id": "edJV8-kAYYRj",
        "outputId": "763d6850-5409-45e0-fcf6-beafa05d70ce"
      },
      "outputs": [
        {
          "data": {
            "text/plain": [
              "{'divide': 'warn', 'over': 'warn', 'under': 'ignore', 'invalid': 'warn'}"
            ]
          },
          "execution_count": 58,
          "metadata": {},
          "output_type": "execute_result"
        }
      ],
      "source": [
        "from sklearn.linear_model import LinearRegression\n",
        "from sklearn.linear_model import LassoCV\n",
        "from sklearn.linear_model import RidgeCV\n",
        "from sklearn.linear_model import ElasticNetCV\n",
        "from sklearn.ensemble import RandomForestRegressor\n",
        "from sklearn.pipeline import Pipeline\n",
        "from sklearn.model_selection import cross_validate\n",
        "np.seterr(divide='ignore', invalid='ignore', over='ignore')"
      ]
    },
    {
      "cell_type": "markdown",
      "metadata": {
        "id": "FokNXBmeYYRj"
      },
      "source": [
        "### 5.1 Linear regression"
      ]
    },
    {
      "cell_type": "code",
      "execution_count": 59,
      "metadata": {
        "colab": {
          "base_uri": "https://localhost:8080/"
        },
        "execution": {
          "iopub.execute_input": "2022-09-11T11:40:29.317165Z",
          "iopub.status.busy": "2022-09-11T11:40:29.316584Z",
          "iopub.status.idle": "2022-09-11T11:40:29.405061Z",
          "shell.execute_reply": "2022-09-11T11:40:29.403878Z",
          "shell.execute_reply.started": "2022-09-11T11:40:29.317113Z"
        },
        "id": "kq13dM4zYYRj",
        "outputId": "2e53bd25-057f-4896-8e4f-19e5e417e460"
      },
      "outputs": [
        {
          "name": "stdout",
          "output_type": "stream",
          "text": [
            "R-Squered Trian 87.86 %\n",
            "R-Squered Test 88.46 %\n",
            "RMSE: 0.1097241756518783\n"
          ]
        }
      ],
      "source": [
        "reg = LinearRegression().fit(X_train,(y_train))\n",
        "print(\"R-Squered Trian\",round((reg.score(X_train,  (y_train))*100),2),'%')\n",
        "print(\"R-Squered Test\",round((reg.score(X_test,  (y_test))*100),2),'%')\n",
        "y_pred = reg.predict(X_test)\n",
        "print(f\"RMSE: {mean_squared_error(y_pred,(y_test))}\")"
      ]
    },
    {
      "cell_type": "markdown",
      "metadata": {
        "id": "iaVzk2UoYYRj"
      },
      "source": [
        "### 5.3 Linear regression (Lasso method)"
      ]
    },
    {
      "cell_type": "code",
      "execution_count": 60,
      "metadata": {
        "colab": {
          "base_uri": "https://localhost:8080/",
          "height": 81
        },
        "execution": {
          "iopub.execute_input": "2022-09-11T11:40:29.40875Z",
          "iopub.status.busy": "2022-09-11T11:40:29.406878Z",
          "iopub.status.idle": "2022-09-11T11:40:29.437192Z",
          "shell.execute_reply": "2022-09-11T11:40:29.434962Z",
          "shell.execute_reply.started": "2022-09-11T11:40:29.408701Z"
        },
        "id": "5s7MS6qHYYRj",
        "outputId": "7a1a788f-ea5c-4d0a-cfc2-e6d50ae50806"
      },
      "outputs": [
        {
          "data": {
            "text/html": [
              "<style>#sk-container-id-1 {\n",
              "  /* Definition of color scheme common for light and dark mode */\n",
              "  --sklearn-color-text: #000;\n",
              "  --sklearn-color-text-muted: #666;\n",
              "  --sklearn-color-line: gray;\n",
              "  /* Definition of color scheme for unfitted estimators */\n",
              "  --sklearn-color-unfitted-level-0: #fff5e6;\n",
              "  --sklearn-color-unfitted-level-1: #f6e4d2;\n",
              "  --sklearn-color-unfitted-level-2: #ffe0b3;\n",
              "  --sklearn-color-unfitted-level-3: chocolate;\n",
              "  /* Definition of color scheme for fitted estimators */\n",
              "  --sklearn-color-fitted-level-0: #f0f8ff;\n",
              "  --sklearn-color-fitted-level-1: #d4ebff;\n",
              "  --sklearn-color-fitted-level-2: #b3dbfd;\n",
              "  --sklearn-color-fitted-level-3: cornflowerblue;\n",
              "\n",
              "  /* Specific color for light theme */\n",
              "  --sklearn-color-text-on-default-background: var(--sg-text-color, var(--theme-code-foreground, var(--jp-content-font-color1, black)));\n",
              "  --sklearn-color-background: var(--sg-background-color, var(--theme-background, var(--jp-layout-color0, white)));\n",
              "  --sklearn-color-border-box: var(--sg-text-color, var(--theme-code-foreground, var(--jp-content-font-color1, black)));\n",
              "  --sklearn-color-icon: #696969;\n",
              "\n",
              "  @media (prefers-color-scheme: dark) {\n",
              "    /* Redefinition of color scheme for dark theme */\n",
              "    --sklearn-color-text-on-default-background: var(--sg-text-color, var(--theme-code-foreground, var(--jp-content-font-color1, white)));\n",
              "    --sklearn-color-background: var(--sg-background-color, var(--theme-background, var(--jp-layout-color0, #111)));\n",
              "    --sklearn-color-border-box: var(--sg-text-color, var(--theme-code-foreground, var(--jp-content-font-color1, white)));\n",
              "    --sklearn-color-icon: #878787;\n",
              "  }\n",
              "}\n",
              "\n",
              "#sk-container-id-1 {\n",
              "  color: var(--sklearn-color-text);\n",
              "}\n",
              "\n",
              "#sk-container-id-1 pre {\n",
              "  padding: 0;\n",
              "}\n",
              "\n",
              "#sk-container-id-1 input.sk-hidden--visually {\n",
              "  border: 0;\n",
              "  clip: rect(1px 1px 1px 1px);\n",
              "  clip: rect(1px, 1px, 1px, 1px);\n",
              "  height: 1px;\n",
              "  margin: -1px;\n",
              "  overflow: hidden;\n",
              "  padding: 0;\n",
              "  position: absolute;\n",
              "  width: 1px;\n",
              "}\n",
              "\n",
              "#sk-container-id-1 div.sk-dashed-wrapped {\n",
              "  border: 1px dashed var(--sklearn-color-line);\n",
              "  margin: 0 0.4em 0.5em 0.4em;\n",
              "  box-sizing: border-box;\n",
              "  padding-bottom: 0.4em;\n",
              "  background-color: var(--sklearn-color-background);\n",
              "}\n",
              "\n",
              "#sk-container-id-1 div.sk-container {\n",
              "  /* jupyter's `normalize.less` sets `[hidden] { display: none; }`\n",
              "     but bootstrap.min.css set `[hidden] { display: none !important; }`\n",
              "     so we also need the `!important` here to be able to override the\n",
              "     default hidden behavior on the sphinx rendered scikit-learn.org.\n",
              "     See: https://github.com/scikit-learn/scikit-learn/issues/21755 */\n",
              "  display: inline-block !important;\n",
              "  position: relative;\n",
              "}\n",
              "\n",
              "#sk-container-id-1 div.sk-text-repr-fallback {\n",
              "  display: none;\n",
              "}\n",
              "\n",
              "div.sk-parallel-item,\n",
              "div.sk-serial,\n",
              "div.sk-item {\n",
              "  /* draw centered vertical line to link estimators */\n",
              "  background-image: linear-gradient(var(--sklearn-color-text-on-default-background), var(--sklearn-color-text-on-default-background));\n",
              "  background-size: 2px 100%;\n",
              "  background-repeat: no-repeat;\n",
              "  background-position: center center;\n",
              "}\n",
              "\n",
              "/* Parallel-specific style estimator block */\n",
              "\n",
              "#sk-container-id-1 div.sk-parallel-item::after {\n",
              "  content: \"\";\n",
              "  width: 100%;\n",
              "  border-bottom: 2px solid var(--sklearn-color-text-on-default-background);\n",
              "  flex-grow: 1;\n",
              "}\n",
              "\n",
              "#sk-container-id-1 div.sk-parallel {\n",
              "  display: flex;\n",
              "  align-items: stretch;\n",
              "  justify-content: center;\n",
              "  background-color: var(--sklearn-color-background);\n",
              "  position: relative;\n",
              "}\n",
              "\n",
              "#sk-container-id-1 div.sk-parallel-item {\n",
              "  display: flex;\n",
              "  flex-direction: column;\n",
              "}\n",
              "\n",
              "#sk-container-id-1 div.sk-parallel-item:first-child::after {\n",
              "  align-self: flex-end;\n",
              "  width: 50%;\n",
              "}\n",
              "\n",
              "#sk-container-id-1 div.sk-parallel-item:last-child::after {\n",
              "  align-self: flex-start;\n",
              "  width: 50%;\n",
              "}\n",
              "\n",
              "#sk-container-id-1 div.sk-parallel-item:only-child::after {\n",
              "  width: 0;\n",
              "}\n",
              "\n",
              "/* Serial-specific style estimator block */\n",
              "\n",
              "#sk-container-id-1 div.sk-serial {\n",
              "  display: flex;\n",
              "  flex-direction: column;\n",
              "  align-items: center;\n",
              "  background-color: var(--sklearn-color-background);\n",
              "  padding-right: 1em;\n",
              "  padding-left: 1em;\n",
              "}\n",
              "\n",
              "\n",
              "/* Toggleable style: style used for estimator/Pipeline/ColumnTransformer box that is\n",
              "clickable and can be expanded/collapsed.\n",
              "- Pipeline and ColumnTransformer use this feature and define the default style\n",
              "- Estimators will overwrite some part of the style using the `sk-estimator` class\n",
              "*/\n",
              "\n",
              "/* Pipeline and ColumnTransformer style (default) */\n",
              "\n",
              "#sk-container-id-1 div.sk-toggleable {\n",
              "  /* Default theme specific background. It is overwritten whether we have a\n",
              "  specific estimator or a Pipeline/ColumnTransformer */\n",
              "  background-color: var(--sklearn-color-background);\n",
              "}\n",
              "\n",
              "/* Toggleable label */\n",
              "#sk-container-id-1 label.sk-toggleable__label {\n",
              "  cursor: pointer;\n",
              "  display: flex;\n",
              "  width: 100%;\n",
              "  margin-bottom: 0;\n",
              "  padding: 0.5em;\n",
              "  box-sizing: border-box;\n",
              "  text-align: center;\n",
              "  align-items: start;\n",
              "  justify-content: space-between;\n",
              "  gap: 0.5em;\n",
              "}\n",
              "\n",
              "#sk-container-id-1 label.sk-toggleable__label .caption {\n",
              "  font-size: 0.6rem;\n",
              "  font-weight: lighter;\n",
              "  color: var(--sklearn-color-text-muted);\n",
              "}\n",
              "\n",
              "#sk-container-id-1 label.sk-toggleable__label-arrow:before {\n",
              "  /* Arrow on the left of the label */\n",
              "  content: \"▸\";\n",
              "  float: left;\n",
              "  margin-right: 0.25em;\n",
              "  color: var(--sklearn-color-icon);\n",
              "}\n",
              "\n",
              "#sk-container-id-1 label.sk-toggleable__label-arrow:hover:before {\n",
              "  color: var(--sklearn-color-text);\n",
              "}\n",
              "\n",
              "/* Toggleable content - dropdown */\n",
              "\n",
              "#sk-container-id-1 div.sk-toggleable__content {\n",
              "  display: none;\n",
              "  text-align: left;\n",
              "  /* unfitted */\n",
              "  background-color: var(--sklearn-color-unfitted-level-0);\n",
              "}\n",
              "\n",
              "#sk-container-id-1 div.sk-toggleable__content.fitted {\n",
              "  /* fitted */\n",
              "  background-color: var(--sklearn-color-fitted-level-0);\n",
              "}\n",
              "\n",
              "#sk-container-id-1 div.sk-toggleable__content pre {\n",
              "  margin: 0.2em;\n",
              "  border-radius: 0.25em;\n",
              "  color: var(--sklearn-color-text);\n",
              "  /* unfitted */\n",
              "  background-color: var(--sklearn-color-unfitted-level-0);\n",
              "}\n",
              "\n",
              "#sk-container-id-1 div.sk-toggleable__content.fitted pre {\n",
              "  /* unfitted */\n",
              "  background-color: var(--sklearn-color-fitted-level-0);\n",
              "}\n",
              "\n",
              "#sk-container-id-1 input.sk-toggleable__control:checked~div.sk-toggleable__content {\n",
              "  /* Expand drop-down */\n",
              "  display: block;\n",
              "  width: 100%;\n",
              "  overflow: visible;\n",
              "}\n",
              "\n",
              "#sk-container-id-1 input.sk-toggleable__control:checked~label.sk-toggleable__label-arrow:before {\n",
              "  content: \"▾\";\n",
              "}\n",
              "\n",
              "/* Pipeline/ColumnTransformer-specific style */\n",
              "\n",
              "#sk-container-id-1 div.sk-label input.sk-toggleable__control:checked~label.sk-toggleable__label {\n",
              "  color: var(--sklearn-color-text);\n",
              "  background-color: var(--sklearn-color-unfitted-level-2);\n",
              "}\n",
              "\n",
              "#sk-container-id-1 div.sk-label.fitted input.sk-toggleable__control:checked~label.sk-toggleable__label {\n",
              "  background-color: var(--sklearn-color-fitted-level-2);\n",
              "}\n",
              "\n",
              "/* Estimator-specific style */\n",
              "\n",
              "/* Colorize estimator box */\n",
              "#sk-container-id-1 div.sk-estimator input.sk-toggleable__control:checked~label.sk-toggleable__label {\n",
              "  /* unfitted */\n",
              "  background-color: var(--sklearn-color-unfitted-level-2);\n",
              "}\n",
              "\n",
              "#sk-container-id-1 div.sk-estimator.fitted input.sk-toggleable__control:checked~label.sk-toggleable__label {\n",
              "  /* fitted */\n",
              "  background-color: var(--sklearn-color-fitted-level-2);\n",
              "}\n",
              "\n",
              "#sk-container-id-1 div.sk-label label.sk-toggleable__label,\n",
              "#sk-container-id-1 div.sk-label label {\n",
              "  /* The background is the default theme color */\n",
              "  color: var(--sklearn-color-text-on-default-background);\n",
              "}\n",
              "\n",
              "/* On hover, darken the color of the background */\n",
              "#sk-container-id-1 div.sk-label:hover label.sk-toggleable__label {\n",
              "  color: var(--sklearn-color-text);\n",
              "  background-color: var(--sklearn-color-unfitted-level-2);\n",
              "}\n",
              "\n",
              "/* Label box, darken color on hover, fitted */\n",
              "#sk-container-id-1 div.sk-label.fitted:hover label.sk-toggleable__label.fitted {\n",
              "  color: var(--sklearn-color-text);\n",
              "  background-color: var(--sklearn-color-fitted-level-2);\n",
              "}\n",
              "\n",
              "/* Estimator label */\n",
              "\n",
              "#sk-container-id-1 div.sk-label label {\n",
              "  font-family: monospace;\n",
              "  font-weight: bold;\n",
              "  display: inline-block;\n",
              "  line-height: 1.2em;\n",
              "}\n",
              "\n",
              "#sk-container-id-1 div.sk-label-container {\n",
              "  text-align: center;\n",
              "}\n",
              "\n",
              "/* Estimator-specific */\n",
              "#sk-container-id-1 div.sk-estimator {\n",
              "  font-family: monospace;\n",
              "  border: 1px dotted var(--sklearn-color-border-box);\n",
              "  border-radius: 0.25em;\n",
              "  box-sizing: border-box;\n",
              "  margin-bottom: 0.5em;\n",
              "  /* unfitted */\n",
              "  background-color: var(--sklearn-color-unfitted-level-0);\n",
              "}\n",
              "\n",
              "#sk-container-id-1 div.sk-estimator.fitted {\n",
              "  /* fitted */\n",
              "  background-color: var(--sklearn-color-fitted-level-0);\n",
              "}\n",
              "\n",
              "/* on hover */\n",
              "#sk-container-id-1 div.sk-estimator:hover {\n",
              "  /* unfitted */\n",
              "  background-color: var(--sklearn-color-unfitted-level-2);\n",
              "}\n",
              "\n",
              "#sk-container-id-1 div.sk-estimator.fitted:hover {\n",
              "  /* fitted */\n",
              "  background-color: var(--sklearn-color-fitted-level-2);\n",
              "}\n",
              "\n",
              "/* Specification for estimator info (e.g. \"i\" and \"?\") */\n",
              "\n",
              "/* Common style for \"i\" and \"?\" */\n",
              "\n",
              ".sk-estimator-doc-link,\n",
              "a:link.sk-estimator-doc-link,\n",
              "a:visited.sk-estimator-doc-link {\n",
              "  float: right;\n",
              "  font-size: smaller;\n",
              "  line-height: 1em;\n",
              "  font-family: monospace;\n",
              "  background-color: var(--sklearn-color-background);\n",
              "  border-radius: 1em;\n",
              "  height: 1em;\n",
              "  width: 1em;\n",
              "  text-decoration: none !important;\n",
              "  margin-left: 0.5em;\n",
              "  text-align: center;\n",
              "  /* unfitted */\n",
              "  border: var(--sklearn-color-unfitted-level-1) 1pt solid;\n",
              "  color: var(--sklearn-color-unfitted-level-1);\n",
              "}\n",
              "\n",
              ".sk-estimator-doc-link.fitted,\n",
              "a:link.sk-estimator-doc-link.fitted,\n",
              "a:visited.sk-estimator-doc-link.fitted {\n",
              "  /* fitted */\n",
              "  border: var(--sklearn-color-fitted-level-1) 1pt solid;\n",
              "  color: var(--sklearn-color-fitted-level-1);\n",
              "}\n",
              "\n",
              "/* On hover */\n",
              "div.sk-estimator:hover .sk-estimator-doc-link:hover,\n",
              ".sk-estimator-doc-link:hover,\n",
              "div.sk-label-container:hover .sk-estimator-doc-link:hover,\n",
              ".sk-estimator-doc-link:hover {\n",
              "  /* unfitted */\n",
              "  background-color: var(--sklearn-color-unfitted-level-3);\n",
              "  color: var(--sklearn-color-background);\n",
              "  text-decoration: none;\n",
              "}\n",
              "\n",
              "div.sk-estimator.fitted:hover .sk-estimator-doc-link.fitted:hover,\n",
              ".sk-estimator-doc-link.fitted:hover,\n",
              "div.sk-label-container:hover .sk-estimator-doc-link.fitted:hover,\n",
              ".sk-estimator-doc-link.fitted:hover {\n",
              "  /* fitted */\n",
              "  background-color: var(--sklearn-color-fitted-level-3);\n",
              "  color: var(--sklearn-color-background);\n",
              "  text-decoration: none;\n",
              "}\n",
              "\n",
              "/* Span, style for the box shown on hovering the info icon */\n",
              ".sk-estimator-doc-link span {\n",
              "  display: none;\n",
              "  z-index: 9999;\n",
              "  position: relative;\n",
              "  font-weight: normal;\n",
              "  right: .2ex;\n",
              "  padding: .5ex;\n",
              "  margin: .5ex;\n",
              "  width: min-content;\n",
              "  min-width: 20ex;\n",
              "  max-width: 50ex;\n",
              "  color: var(--sklearn-color-text);\n",
              "  box-shadow: 2pt 2pt 4pt #999;\n",
              "  /* unfitted */\n",
              "  background: var(--sklearn-color-unfitted-level-0);\n",
              "  border: .5pt solid var(--sklearn-color-unfitted-level-3);\n",
              "}\n",
              "\n",
              ".sk-estimator-doc-link.fitted span {\n",
              "  /* fitted */\n",
              "  background: var(--sklearn-color-fitted-level-0);\n",
              "  border: var(--sklearn-color-fitted-level-3);\n",
              "}\n",
              "\n",
              ".sk-estimator-doc-link:hover span {\n",
              "  display: block;\n",
              "}\n",
              "\n",
              "/* \"?\"-specific style due to the `<a>` HTML tag */\n",
              "\n",
              "#sk-container-id-1 a.estimator_doc_link {\n",
              "  float: right;\n",
              "  font-size: 1rem;\n",
              "  line-height: 1em;\n",
              "  font-family: monospace;\n",
              "  background-color: var(--sklearn-color-background);\n",
              "  border-radius: 1rem;\n",
              "  height: 1rem;\n",
              "  width: 1rem;\n",
              "  text-decoration: none;\n",
              "  /* unfitted */\n",
              "  color: var(--sklearn-color-unfitted-level-1);\n",
              "  border: var(--sklearn-color-unfitted-level-1) 1pt solid;\n",
              "}\n",
              "\n",
              "#sk-container-id-1 a.estimator_doc_link.fitted {\n",
              "  /* fitted */\n",
              "  border: var(--sklearn-color-fitted-level-1) 1pt solid;\n",
              "  color: var(--sklearn-color-fitted-level-1);\n",
              "}\n",
              "\n",
              "/* On hover */\n",
              "#sk-container-id-1 a.estimator_doc_link:hover {\n",
              "  /* unfitted */\n",
              "  background-color: var(--sklearn-color-unfitted-level-3);\n",
              "  color: var(--sklearn-color-background);\n",
              "  text-decoration: none;\n",
              "}\n",
              "\n",
              "#sk-container-id-1 a.estimator_doc_link.fitted:hover {\n",
              "  /* fitted */\n",
              "  background-color: var(--sklearn-color-fitted-level-3);\n",
              "}\n",
              "\n",
              ".estimator-table summary {\n",
              "    padding: .5rem;\n",
              "    font-family: monospace;\n",
              "    cursor: pointer;\n",
              "}\n",
              "\n",
              ".estimator-table details[open] {\n",
              "    padding-left: 0.1rem;\n",
              "    padding-right: 0.1rem;\n",
              "    padding-bottom: 0.3rem;\n",
              "}\n",
              "\n",
              ".estimator-table .parameters-table {\n",
              "    margin-left: auto !important;\n",
              "    margin-right: auto !important;\n",
              "}\n",
              "\n",
              ".estimator-table .parameters-table tr:nth-child(odd) {\n",
              "    background-color: #fff;\n",
              "}\n",
              "\n",
              ".estimator-table .parameters-table tr:nth-child(even) {\n",
              "    background-color: #f6f6f6;\n",
              "}\n",
              "\n",
              ".estimator-table .parameters-table tr:hover {\n",
              "    background-color: #e0e0e0;\n",
              "}\n",
              "\n",
              ".estimator-table table td {\n",
              "    border: 1px solid rgba(106, 105, 104, 0.232);\n",
              "}\n",
              "\n",
              ".user-set td {\n",
              "    color:rgb(255, 94, 0);\n",
              "    text-align: left;\n",
              "}\n",
              "\n",
              ".user-set td.value pre {\n",
              "    color:rgb(255, 94, 0) !important;\n",
              "    background-color: transparent !important;\n",
              "}\n",
              "\n",
              ".default td {\n",
              "    color: black;\n",
              "    text-align: left;\n",
              "}\n",
              "\n",
              ".user-set td i,\n",
              ".default td i {\n",
              "    color: black;\n",
              "}\n",
              "\n",
              ".copy-paste-icon {\n",
              "    background-image: url(data:image/svg+xml;base64,PHN2ZyB4bWxucz0iaHR0cDovL3d3dy53My5vcmcvMjAwMC9zdmciIHZpZXdCb3g9IjAgMCA0NDggNTEyIj48IS0tIUZvbnQgQXdlc29tZSBGcmVlIDYuNy4yIGJ5IEBmb250YXdlc29tZSAtIGh0dHBzOi8vZm9udGF3ZXNvbWUuY29tIExpY2Vuc2UgLSBodHRwczovL2ZvbnRhd2Vzb21lLmNvbS9saWNlbnNlL2ZyZWUgQ29weXJpZ2h0IDIwMjUgRm9udGljb25zLCBJbmMuLS0+PHBhdGggZD0iTTIwOCAwTDMzMi4xIDBjMTIuNyAwIDI0LjkgNS4xIDMzLjkgMTQuMWw2Ny45IDY3LjljOSA5IDE0LjEgMjEuMiAxNC4xIDMzLjlMNDQ4IDMzNmMwIDI2LjUtMjEuNSA0OC00OCA0OGwtMTkyIDBjLTI2LjUgMC00OC0yMS41LTQ4LTQ4bDAtMjg4YzAtMjYuNSAyMS41LTQ4IDQ4LTQ4ek00OCAxMjhsODAgMCAwIDY0LTY0IDAgMCAyNTYgMTkyIDAgMC0zMiA2NCAwIDAgNDhjMCAyNi41LTIxLjUgNDgtNDggNDhMNDggNTEyYy0yNi41IDAtNDgtMjEuNS00OC00OEwwIDE3NmMwLTI2LjUgMjEuNS00OCA0OC00OHoiLz48L3N2Zz4=);\n",
              "    background-repeat: no-repeat;\n",
              "    background-size: 14px 14px;\n",
              "    background-position: 0;\n",
              "    display: inline-block;\n",
              "    width: 14px;\n",
              "    height: 14px;\n",
              "    cursor: pointer;\n",
              "}\n",
              "</style><body><div id=\"sk-container-id-1\" class=\"sk-top-container\"><div class=\"sk-text-repr-fallback\"><pre>PolynomialFeatures()</pre><b>In a Jupyter environment, please rerun this cell to show the HTML representation or trust the notebook. <br />On GitHub, the HTML representation is unable to render, please try loading this page with nbviewer.org.</b></div><div class=\"sk-container\" hidden><div class=\"sk-item\"><div class=\"sk-estimator fitted sk-toggleable\"><input class=\"sk-toggleable__control sk-hidden--visually\" id=\"sk-estimator-id-1\" type=\"checkbox\" checked><label for=\"sk-estimator-id-1\" class=\"sk-toggleable__label fitted sk-toggleable__label-arrow\"><div><div>PolynomialFeatures</div></div><div><a class=\"sk-estimator-doc-link fitted\" rel=\"noreferrer\" target=\"_blank\" href=\"https://scikit-learn.org/1.7/modules/generated/sklearn.preprocessing.PolynomialFeatures.html\">?<span>Documentation for PolynomialFeatures</span></a><span class=\"sk-estimator-doc-link fitted\">i<span>Fitted</span></span></div></label><div class=\"sk-toggleable__content fitted\" data-param-prefix=\"\">\n",
              "        <div class=\"estimator-table\">\n",
              "            <details>\n",
              "                <summary>Parameters</summary>\n",
              "                <table class=\"parameters-table\">\n",
              "                  <tbody>\n",
              "                    \n",
              "        <tr class=\"default\">\n",
              "            <td><i class=\"copy-paste-icon\"\n",
              "                 onclick=\"copyToClipboard('degree',\n",
              "                          this.parentElement.nextElementSibling)\"\n",
              "            ></i></td>\n",
              "            <td class=\"param\">degree&nbsp;</td>\n",
              "            <td class=\"value\">2</td>\n",
              "        </tr>\n",
              "    \n",
              "\n",
              "        <tr class=\"default\">\n",
              "            <td><i class=\"copy-paste-icon\"\n",
              "                 onclick=\"copyToClipboard('interaction_only',\n",
              "                          this.parentElement.nextElementSibling)\"\n",
              "            ></i></td>\n",
              "            <td class=\"param\">interaction_only&nbsp;</td>\n",
              "            <td class=\"value\">False</td>\n",
              "        </tr>\n",
              "    \n",
              "\n",
              "        <tr class=\"default\">\n",
              "            <td><i class=\"copy-paste-icon\"\n",
              "                 onclick=\"copyToClipboard('include_bias',\n",
              "                          this.parentElement.nextElementSibling)\"\n",
              "            ></i></td>\n",
              "            <td class=\"param\">include_bias&nbsp;</td>\n",
              "            <td class=\"value\">True</td>\n",
              "        </tr>\n",
              "    \n",
              "\n",
              "        <tr class=\"default\">\n",
              "            <td><i class=\"copy-paste-icon\"\n",
              "                 onclick=\"copyToClipboard('order',\n",
              "                          this.parentElement.nextElementSibling)\"\n",
              "            ></i></td>\n",
              "            <td class=\"param\">order&nbsp;</td>\n",
              "            <td class=\"value\">&#x27;C&#x27;</td>\n",
              "        </tr>\n",
              "    \n",
              "                  </tbody>\n",
              "                </table>\n",
              "            </details>\n",
              "        </div>\n",
              "    </div></div></div></div></div><script>function copyToClipboard(text, element) {\n",
              "    // Get the parameter prefix from the closest toggleable content\n",
              "    const toggleableContent = element.closest('.sk-toggleable__content');\n",
              "    const paramPrefix = toggleableContent ? toggleableContent.dataset.paramPrefix : '';\n",
              "    const fullParamName = paramPrefix ? `${paramPrefix}${text}` : text;\n",
              "\n",
              "    const originalStyle = element.style;\n",
              "    const computedStyle = window.getComputedStyle(element);\n",
              "    const originalWidth = computedStyle.width;\n",
              "    const originalHTML = element.innerHTML.replace('Copied!', '');\n",
              "\n",
              "    navigator.clipboard.writeText(fullParamName)\n",
              "        .then(() => {\n",
              "            element.style.width = originalWidth;\n",
              "            element.style.color = 'green';\n",
              "            element.innerHTML = \"Copied!\";\n",
              "\n",
              "            setTimeout(() => {\n",
              "                element.innerHTML = originalHTML;\n",
              "                element.style = originalStyle;\n",
              "            }, 2000);\n",
              "        })\n",
              "        .catch(err => {\n",
              "            console.error('Failed to copy:', err);\n",
              "            element.style.color = 'red';\n",
              "            element.innerHTML = \"Failed!\";\n",
              "            setTimeout(() => {\n",
              "                element.innerHTML = originalHTML;\n",
              "                element.style = originalStyle;\n",
              "            }, 2000);\n",
              "        });\n",
              "    return false;\n",
              "}\n",
              "\n",
              "document.querySelectorAll('.fa-regular.fa-copy').forEach(function(element) {\n",
              "    const toggleableContent = element.closest('.sk-toggleable__content');\n",
              "    const paramPrefix = toggleableContent ? toggleableContent.dataset.paramPrefix : '';\n",
              "    const paramName = element.parentElement.nextElementSibling.textContent.trim();\n",
              "    const fullParamName = paramPrefix ? `${paramPrefix}${paramName}` : paramName;\n",
              "\n",
              "    element.setAttribute('title', fullParamName);\n",
              "});\n",
              "</script></body>"
            ],
            "text/plain": [
              "PolynomialFeatures()"
            ]
          },
          "execution_count": 60,
          "metadata": {},
          "output_type": "execute_result"
        }
      ],
      "source": [
        "from sklearn.preprocessing import PolynomialFeatures\n",
        "poly_reg = PolynomialFeatures(degree = 2)\n",
        "poly_reg.fit(X_train)"
      ]
    },
    {
      "cell_type": "code",
      "execution_count": 61,
      "metadata": {
        "execution": {
          "iopub.execute_input": "2022-09-11T11:40:29.442866Z",
          "iopub.status.busy": "2022-09-11T11:40:29.440546Z",
          "iopub.status.idle": "2022-09-11T11:40:29.5231Z",
          "shell.execute_reply": "2022-09-11T11:40:29.522077Z",
          "shell.execute_reply.started": "2022-09-11T11:40:29.442792Z"
        },
        "id": "zicRVPrmYYRk"
      },
      "outputs": [],
      "source": [
        "X_train = poly_reg.transform(X_train)\n",
        "X_test = poly_reg.transform(X_test)"
      ]
    },
    {
      "cell_type": "code",
      "execution_count": 62,
      "metadata": {
        "colab": {
          "base_uri": "https://localhost:8080/"
        },
        "execution": {
          "iopub.execute_input": "2022-09-11T11:40:29.52531Z",
          "iopub.status.busy": "2022-09-11T11:40:29.524701Z",
          "iopub.status.idle": "2022-09-11T11:40:35.189631Z",
          "shell.execute_reply": "2022-09-11T11:40:35.187955Z",
          "shell.execute_reply.started": "2022-09-11T11:40:29.52526Z"
        },
        "id": "z9dpNgOpYYRk",
        "outputId": "d0653830-cd25-4ff2-e48c-6addfb425fba"
      },
      "outputs": [
        {
          "name": "stdout",
          "output_type": "stream",
          "text": [
            "R-Squered Trian 94.95 %\n",
            "R-Squered Test 94.43 %\n",
            "RMSE: 0.05300952051436487\n"
          ]
        }
      ],
      "source": [
        "reg = LassoCV().fit(X_train,(y_train))\n",
        "print(\"R-Squered Trian\",round((reg.score(X_train,  (y_train))*100),2),'%')\n",
        "print(\"R-Squered Test\",round((reg.score(X_test,  (y_test))*100),2),'%')\n",
        "y_pred = reg.predict(X_test)\n",
        "print(f\"RMSE: {mean_squared_error(y_pred,(y_test))}\")"
      ]
    },
    {
      "cell_type": "markdown",
      "metadata": {
        "id": "hwTzIdd2YYRk"
      },
      "source": [
        "### 5.4 Linear regression (Ridge method)"
      ]
    },
    {
      "cell_type": "code",
      "execution_count": 63,
      "metadata": {
        "colab": {
          "base_uri": "https://localhost:8080/"
        },
        "execution": {
          "iopub.execute_input": "2022-09-11T11:40:35.194178Z",
          "iopub.status.busy": "2022-09-11T11:40:35.192219Z",
          "iopub.status.idle": "2022-09-11T11:40:35.853952Z",
          "shell.execute_reply": "2022-09-11T11:40:35.852194Z",
          "shell.execute_reply.started": "2022-09-11T11:40:35.194125Z"
        },
        "id": "mhDnARUzYYRk",
        "outputId": "cafc73dc-2044-446b-92ea-6d800fd262d7"
      },
      "outputs": [
        {
          "name": "stdout",
          "output_type": "stream",
          "text": [
            "R-Squered Trian 95.26 %\n",
            "R-Squered Test 94.2 %\n",
            "RMSE: 0.05511376178601954\n"
          ]
        }
      ],
      "source": [
        "reg = RidgeCV().fit(X_train,(y_train))\n",
        "print(\"R-Squered Trian\",round((reg.score(X_train,  (y_train))*100),2),'%')\n",
        "print(\"R-Squered Test\",round((reg.score(X_test,  (y_test))*100),2),'%')\n",
        "y_pred = reg.predict(X_test)\n",
        "print(f\"RMSE: {mean_squared_error(y_pred,(y_test))}\")"
      ]
    },
    {
      "cell_type": "markdown",
      "metadata": {
        "id": "fV8M1zpPYYRk"
      },
      "source": [
        "### 5.4 Linear regression (ElasticNetCV method)"
      ]
    },
    {
      "cell_type": "code",
      "execution_count": 64,
      "metadata": {
        "colab": {
          "base_uri": "https://localhost:8080/"
        },
        "execution": {
          "iopub.execute_input": "2022-09-11T11:40:35.858365Z",
          "iopub.status.busy": "2022-09-11T11:40:35.857009Z",
          "iopub.status.idle": "2022-09-11T11:40:40.875158Z",
          "shell.execute_reply": "2022-09-11T11:40:40.873604Z",
          "shell.execute_reply.started": "2022-09-11T11:40:35.858274Z"
        },
        "id": "huLeiGPyYYRk",
        "outputId": "e5885efc-7780-47c2-b1c8-29fe3a053690"
      },
      "outputs": [
        {
          "name": "stdout",
          "output_type": "stream",
          "text": [
            "R-Squered Trian 94.97 %\n",
            "R-Squered Test 94.43 %\n",
            "RMSE: 0.05297280909864017\n"
          ]
        }
      ],
      "source": [
        "reg = ElasticNetCV().fit(X_train,(y_train))\n",
        "print(\"R-Squered Trian\",round((reg.score(X_train,  (y_train))*100),2),'%')\n",
        "print(\"R-Squered Test\",round((reg.score(X_test,  (y_test))*100),2),'%')\n",
        "y_pred = reg.predict(X_test)\n",
        "print(f\"RMSE: {mean_squared_error(y_pred,(y_test))}\")"
      ]
    },
    {
      "cell_type": "markdown",
      "metadata": {
        "id": "IXme0mC-YYRk"
      },
      "source": [
        "## 5.5 Random Forest Regressior and tunning parrameter in it"
      ]
    },
    {
      "cell_type": "code",
      "execution_count": 65,
      "metadata": {
        "colab": {
          "base_uri": "https://localhost:8080/"
        },
        "id": "wDZt8GtcYYRk",
        "outputId": "012795a9-ea1b-45de-eb0f-648c751d4879"
      },
      "outputs": [
        {
          "name": "stdout",
          "output_type": "stream",
          "text": [
            "0.9774857988907603\n",
            "0.9382103322545637\n",
            "RMSE: 0.05297280909864017\n"
          ]
        }
      ],
      "source": [
        "rf_reg = RandomForestRegressor(n_estimators=120,max_depth=10)\n",
        "rf_reg.fit(X_train, y_train);\n",
        "print(rf_reg.score(X_train, y_train))\n",
        "print(rf_reg.score(X_test, y_test))\n",
        "print(f\"RMSE: {mean_squared_error(y_pred,(y_test))}\")"
      ]
    },
    {
      "cell_type": "markdown",
      "metadata": {
        "id": "3G6J-I_mYYRl"
      },
      "source": [
        "# 6 Ensemble Method with Pipeline"
      ]
    },
    {
      "cell_type": "code",
      "execution_count": 66,
      "metadata": {
        "id": "ggW7jW7SYYRl"
      },
      "outputs": [],
      "source": [
        "models = list()\n",
        "models.append((\"LR\",LinearRegression()))\n",
        "models.append((\"Lasso\",LassoCV()))\n",
        "models.append((\"Ridge\",RidgeCV()))\n",
        "models.append((\"ElasticNet\",ElasticNetCV()))\n",
        "models.append((\"Random Forest\",RandomForestRegressor(n_estimators=120,max_depth=10)))"
      ]
    },
    {
      "cell_type": "code",
      "execution_count": 67,
      "metadata": {
        "colab": {
          "base_uri": "https://localhost:8080/"
        },
        "id": "QVMS87yEYYRl",
        "outputId": "1cf6b181-0750-4f3c-925d-ff29f5858161"
      },
      "outputs": [
        {
          "name": "stdout",
          "output_type": "stream",
          "text": [
            "LR\n",
            "Train_accuracy 0.8810750771725159\n",
            "Test_accuracy 0.8763723020514496\n",
            "-------------------------\n",
            "Lasso\n",
            "Train_accuracy 0.8808093525128861\n",
            "Test_accuracy 0.8762759618811348\n",
            "-------------------------\n",
            "Ridge\n",
            "Train_accuracy 0.8810704287451057\n",
            "Test_accuracy 0.8763991779248184\n",
            "-------------------------\n",
            "ElasticNet\n",
            "Train_accuracy 0.8808153251895122\n",
            "Test_accuracy 0.8763437608393738\n",
            "-------------------------\n",
            "Random Forest\n",
            "Train_accuracy 0.9684201895191136\n",
            "Test_accuracy 0.9179160844560774\n",
            "-------------------------\n"
          ]
        }
      ],
      "source": [
        "for model in models:\n",
        "    steps = list()\n",
        "    #steps.append((\"Scaler\" , StandardScaler()))\n",
        "    steps.append(model)\n",
        "    pipeline = Pipeline(steps = steps)\n",
        "    scores = cross_validate(pipeline , X , y , cv = 5  , scoring=\"r2\" , return_train_score=True)\n",
        "    print(model[0])\n",
        "    print(\"Train_accuracy\", scores[\"train_score\"].mean())\n",
        "    print(\"Test_accuracy\" , scores[\"test_score\"].mean())\n",
        "    print(\"-\" * 25)"
      ]
    },
    {
      "cell_type": "markdown",
      "metadata": {
        "id": "bUm7ciwEYYRl"
      },
      "source": [
        "## 7 Grid Search"
      ]
    },
    {
      "cell_type": "code",
      "execution_count": 68,
      "metadata": {
        "id": "zG7qg37zYYRl"
      },
      "outputs": [],
      "source": [
        "params  = [\n",
        "    { \"Random Forest__max_depth\" : [10, 15, 20] }\n",
        "]"
      ]
    },
    {
      "cell_type": "code",
      "execution_count": 69,
      "metadata": {
        "id": "wyATt81Ebydu"
      },
      "outputs": [],
      "source": [
        "from sklearn.model_selection import GridSearchCV"
      ]
    },
    {
      "cell_type": "code",
      "execution_count": 70,
      "metadata": {
        "id": "qaimZZlMYYRl"
      },
      "outputs": [],
      "source": [
        "grid = GridSearchCV(estimator = pipeline , param_grid = params , cv = 5  ,return_train_score=True ,  scoring = \"r2\" )"
      ]
    },
    {
      "cell_type": "code",
      "execution_count": 71,
      "metadata": {
        "colab": {
          "base_uri": "https://localhost:8080/",
          "height": 150
        },
        "id": "AECQAJ1fYYRl",
        "outputId": "b5e3cf9f-2763-400c-ab5f-0e5e75bc5514"
      },
      "outputs": [
        {
          "data": {
            "text/html": [
              "<style>#sk-container-id-2 {\n",
              "  /* Definition of color scheme common for light and dark mode */\n",
              "  --sklearn-color-text: #000;\n",
              "  --sklearn-color-text-muted: #666;\n",
              "  --sklearn-color-line: gray;\n",
              "  /* Definition of color scheme for unfitted estimators */\n",
              "  --sklearn-color-unfitted-level-0: #fff5e6;\n",
              "  --sklearn-color-unfitted-level-1: #f6e4d2;\n",
              "  --sklearn-color-unfitted-level-2: #ffe0b3;\n",
              "  --sklearn-color-unfitted-level-3: chocolate;\n",
              "  /* Definition of color scheme for fitted estimators */\n",
              "  --sklearn-color-fitted-level-0: #f0f8ff;\n",
              "  --sklearn-color-fitted-level-1: #d4ebff;\n",
              "  --sklearn-color-fitted-level-2: #b3dbfd;\n",
              "  --sklearn-color-fitted-level-3: cornflowerblue;\n",
              "\n",
              "  /* Specific color for light theme */\n",
              "  --sklearn-color-text-on-default-background: var(--sg-text-color, var(--theme-code-foreground, var(--jp-content-font-color1, black)));\n",
              "  --sklearn-color-background: var(--sg-background-color, var(--theme-background, var(--jp-layout-color0, white)));\n",
              "  --sklearn-color-border-box: var(--sg-text-color, var(--theme-code-foreground, var(--jp-content-font-color1, black)));\n",
              "  --sklearn-color-icon: #696969;\n",
              "\n",
              "  @media (prefers-color-scheme: dark) {\n",
              "    /* Redefinition of color scheme for dark theme */\n",
              "    --sklearn-color-text-on-default-background: var(--sg-text-color, var(--theme-code-foreground, var(--jp-content-font-color1, white)));\n",
              "    --sklearn-color-background: var(--sg-background-color, var(--theme-background, var(--jp-layout-color0, #111)));\n",
              "    --sklearn-color-border-box: var(--sg-text-color, var(--theme-code-foreground, var(--jp-content-font-color1, white)));\n",
              "    --sklearn-color-icon: #878787;\n",
              "  }\n",
              "}\n",
              "\n",
              "#sk-container-id-2 {\n",
              "  color: var(--sklearn-color-text);\n",
              "}\n",
              "\n",
              "#sk-container-id-2 pre {\n",
              "  padding: 0;\n",
              "}\n",
              "\n",
              "#sk-container-id-2 input.sk-hidden--visually {\n",
              "  border: 0;\n",
              "  clip: rect(1px 1px 1px 1px);\n",
              "  clip: rect(1px, 1px, 1px, 1px);\n",
              "  height: 1px;\n",
              "  margin: -1px;\n",
              "  overflow: hidden;\n",
              "  padding: 0;\n",
              "  position: absolute;\n",
              "  width: 1px;\n",
              "}\n",
              "\n",
              "#sk-container-id-2 div.sk-dashed-wrapped {\n",
              "  border: 1px dashed var(--sklearn-color-line);\n",
              "  margin: 0 0.4em 0.5em 0.4em;\n",
              "  box-sizing: border-box;\n",
              "  padding-bottom: 0.4em;\n",
              "  background-color: var(--sklearn-color-background);\n",
              "}\n",
              "\n",
              "#sk-container-id-2 div.sk-container {\n",
              "  /* jupyter's `normalize.less` sets `[hidden] { display: none; }`\n",
              "     but bootstrap.min.css set `[hidden] { display: none !important; }`\n",
              "     so we also need the `!important` here to be able to override the\n",
              "     default hidden behavior on the sphinx rendered scikit-learn.org.\n",
              "     See: https://github.com/scikit-learn/scikit-learn/issues/21755 */\n",
              "  display: inline-block !important;\n",
              "  position: relative;\n",
              "}\n",
              "\n",
              "#sk-container-id-2 div.sk-text-repr-fallback {\n",
              "  display: none;\n",
              "}\n",
              "\n",
              "div.sk-parallel-item,\n",
              "div.sk-serial,\n",
              "div.sk-item {\n",
              "  /* draw centered vertical line to link estimators */\n",
              "  background-image: linear-gradient(var(--sklearn-color-text-on-default-background), var(--sklearn-color-text-on-default-background));\n",
              "  background-size: 2px 100%;\n",
              "  background-repeat: no-repeat;\n",
              "  background-position: center center;\n",
              "}\n",
              "\n",
              "/* Parallel-specific style estimator block */\n",
              "\n",
              "#sk-container-id-2 div.sk-parallel-item::after {\n",
              "  content: \"\";\n",
              "  width: 100%;\n",
              "  border-bottom: 2px solid var(--sklearn-color-text-on-default-background);\n",
              "  flex-grow: 1;\n",
              "}\n",
              "\n",
              "#sk-container-id-2 div.sk-parallel {\n",
              "  display: flex;\n",
              "  align-items: stretch;\n",
              "  justify-content: center;\n",
              "  background-color: var(--sklearn-color-background);\n",
              "  position: relative;\n",
              "}\n",
              "\n",
              "#sk-container-id-2 div.sk-parallel-item {\n",
              "  display: flex;\n",
              "  flex-direction: column;\n",
              "}\n",
              "\n",
              "#sk-container-id-2 div.sk-parallel-item:first-child::after {\n",
              "  align-self: flex-end;\n",
              "  width: 50%;\n",
              "}\n",
              "\n",
              "#sk-container-id-2 div.sk-parallel-item:last-child::after {\n",
              "  align-self: flex-start;\n",
              "  width: 50%;\n",
              "}\n",
              "\n",
              "#sk-container-id-2 div.sk-parallel-item:only-child::after {\n",
              "  width: 0;\n",
              "}\n",
              "\n",
              "/* Serial-specific style estimator block */\n",
              "\n",
              "#sk-container-id-2 div.sk-serial {\n",
              "  display: flex;\n",
              "  flex-direction: column;\n",
              "  align-items: center;\n",
              "  background-color: var(--sklearn-color-background);\n",
              "  padding-right: 1em;\n",
              "  padding-left: 1em;\n",
              "}\n",
              "\n",
              "\n",
              "/* Toggleable style: style used for estimator/Pipeline/ColumnTransformer box that is\n",
              "clickable and can be expanded/collapsed.\n",
              "- Pipeline and ColumnTransformer use this feature and define the default style\n",
              "- Estimators will overwrite some part of the style using the `sk-estimator` class\n",
              "*/\n",
              "\n",
              "/* Pipeline and ColumnTransformer style (default) */\n",
              "\n",
              "#sk-container-id-2 div.sk-toggleable {\n",
              "  /* Default theme specific background. It is overwritten whether we have a\n",
              "  specific estimator or a Pipeline/ColumnTransformer */\n",
              "  background-color: var(--sklearn-color-background);\n",
              "}\n",
              "\n",
              "/* Toggleable label */\n",
              "#sk-container-id-2 label.sk-toggleable__label {\n",
              "  cursor: pointer;\n",
              "  display: flex;\n",
              "  width: 100%;\n",
              "  margin-bottom: 0;\n",
              "  padding: 0.5em;\n",
              "  box-sizing: border-box;\n",
              "  text-align: center;\n",
              "  align-items: start;\n",
              "  justify-content: space-between;\n",
              "  gap: 0.5em;\n",
              "}\n",
              "\n",
              "#sk-container-id-2 label.sk-toggleable__label .caption {\n",
              "  font-size: 0.6rem;\n",
              "  font-weight: lighter;\n",
              "  color: var(--sklearn-color-text-muted);\n",
              "}\n",
              "\n",
              "#sk-container-id-2 label.sk-toggleable__label-arrow:before {\n",
              "  /* Arrow on the left of the label */\n",
              "  content: \"▸\";\n",
              "  float: left;\n",
              "  margin-right: 0.25em;\n",
              "  color: var(--sklearn-color-icon);\n",
              "}\n",
              "\n",
              "#sk-container-id-2 label.sk-toggleable__label-arrow:hover:before {\n",
              "  color: var(--sklearn-color-text);\n",
              "}\n",
              "\n",
              "/* Toggleable content - dropdown */\n",
              "\n",
              "#sk-container-id-2 div.sk-toggleable__content {\n",
              "  display: none;\n",
              "  text-align: left;\n",
              "  /* unfitted */\n",
              "  background-color: var(--sklearn-color-unfitted-level-0);\n",
              "}\n",
              "\n",
              "#sk-container-id-2 div.sk-toggleable__content.fitted {\n",
              "  /* fitted */\n",
              "  background-color: var(--sklearn-color-fitted-level-0);\n",
              "}\n",
              "\n",
              "#sk-container-id-2 div.sk-toggleable__content pre {\n",
              "  margin: 0.2em;\n",
              "  border-radius: 0.25em;\n",
              "  color: var(--sklearn-color-text);\n",
              "  /* unfitted */\n",
              "  background-color: var(--sklearn-color-unfitted-level-0);\n",
              "}\n",
              "\n",
              "#sk-container-id-2 div.sk-toggleable__content.fitted pre {\n",
              "  /* unfitted */\n",
              "  background-color: var(--sklearn-color-fitted-level-0);\n",
              "}\n",
              "\n",
              "#sk-container-id-2 input.sk-toggleable__control:checked~div.sk-toggleable__content {\n",
              "  /* Expand drop-down */\n",
              "  display: block;\n",
              "  width: 100%;\n",
              "  overflow: visible;\n",
              "}\n",
              "\n",
              "#sk-container-id-2 input.sk-toggleable__control:checked~label.sk-toggleable__label-arrow:before {\n",
              "  content: \"▾\";\n",
              "}\n",
              "\n",
              "/* Pipeline/ColumnTransformer-specific style */\n",
              "\n",
              "#sk-container-id-2 div.sk-label input.sk-toggleable__control:checked~label.sk-toggleable__label {\n",
              "  color: var(--sklearn-color-text);\n",
              "  background-color: var(--sklearn-color-unfitted-level-2);\n",
              "}\n",
              "\n",
              "#sk-container-id-2 div.sk-label.fitted input.sk-toggleable__control:checked~label.sk-toggleable__label {\n",
              "  background-color: var(--sklearn-color-fitted-level-2);\n",
              "}\n",
              "\n",
              "/* Estimator-specific style */\n",
              "\n",
              "/* Colorize estimator box */\n",
              "#sk-container-id-2 div.sk-estimator input.sk-toggleable__control:checked~label.sk-toggleable__label {\n",
              "  /* unfitted */\n",
              "  background-color: var(--sklearn-color-unfitted-level-2);\n",
              "}\n",
              "\n",
              "#sk-container-id-2 div.sk-estimator.fitted input.sk-toggleable__control:checked~label.sk-toggleable__label {\n",
              "  /* fitted */\n",
              "  background-color: var(--sklearn-color-fitted-level-2);\n",
              "}\n",
              "\n",
              "#sk-container-id-2 div.sk-label label.sk-toggleable__label,\n",
              "#sk-container-id-2 div.sk-label label {\n",
              "  /* The background is the default theme color */\n",
              "  color: var(--sklearn-color-text-on-default-background);\n",
              "}\n",
              "\n",
              "/* On hover, darken the color of the background */\n",
              "#sk-container-id-2 div.sk-label:hover label.sk-toggleable__label {\n",
              "  color: var(--sklearn-color-text);\n",
              "  background-color: var(--sklearn-color-unfitted-level-2);\n",
              "}\n",
              "\n",
              "/* Label box, darken color on hover, fitted */\n",
              "#sk-container-id-2 div.sk-label.fitted:hover label.sk-toggleable__label.fitted {\n",
              "  color: var(--sklearn-color-text);\n",
              "  background-color: var(--sklearn-color-fitted-level-2);\n",
              "}\n",
              "\n",
              "/* Estimator label */\n",
              "\n",
              "#sk-container-id-2 div.sk-label label {\n",
              "  font-family: monospace;\n",
              "  font-weight: bold;\n",
              "  display: inline-block;\n",
              "  line-height: 1.2em;\n",
              "}\n",
              "\n",
              "#sk-container-id-2 div.sk-label-container {\n",
              "  text-align: center;\n",
              "}\n",
              "\n",
              "/* Estimator-specific */\n",
              "#sk-container-id-2 div.sk-estimator {\n",
              "  font-family: monospace;\n",
              "  border: 1px dotted var(--sklearn-color-border-box);\n",
              "  border-radius: 0.25em;\n",
              "  box-sizing: border-box;\n",
              "  margin-bottom: 0.5em;\n",
              "  /* unfitted */\n",
              "  background-color: var(--sklearn-color-unfitted-level-0);\n",
              "}\n",
              "\n",
              "#sk-container-id-2 div.sk-estimator.fitted {\n",
              "  /* fitted */\n",
              "  background-color: var(--sklearn-color-fitted-level-0);\n",
              "}\n",
              "\n",
              "/* on hover */\n",
              "#sk-container-id-2 div.sk-estimator:hover {\n",
              "  /* unfitted */\n",
              "  background-color: var(--sklearn-color-unfitted-level-2);\n",
              "}\n",
              "\n",
              "#sk-container-id-2 div.sk-estimator.fitted:hover {\n",
              "  /* fitted */\n",
              "  background-color: var(--sklearn-color-fitted-level-2);\n",
              "}\n",
              "\n",
              "/* Specification for estimator info (e.g. \"i\" and \"?\") */\n",
              "\n",
              "/* Common style for \"i\" and \"?\" */\n",
              "\n",
              ".sk-estimator-doc-link,\n",
              "a:link.sk-estimator-doc-link,\n",
              "a:visited.sk-estimator-doc-link {\n",
              "  float: right;\n",
              "  font-size: smaller;\n",
              "  line-height: 1em;\n",
              "  font-family: monospace;\n",
              "  background-color: var(--sklearn-color-background);\n",
              "  border-radius: 1em;\n",
              "  height: 1em;\n",
              "  width: 1em;\n",
              "  text-decoration: none !important;\n",
              "  margin-left: 0.5em;\n",
              "  text-align: center;\n",
              "  /* unfitted */\n",
              "  border: var(--sklearn-color-unfitted-level-1) 1pt solid;\n",
              "  color: var(--sklearn-color-unfitted-level-1);\n",
              "}\n",
              "\n",
              ".sk-estimator-doc-link.fitted,\n",
              "a:link.sk-estimator-doc-link.fitted,\n",
              "a:visited.sk-estimator-doc-link.fitted {\n",
              "  /* fitted */\n",
              "  border: var(--sklearn-color-fitted-level-1) 1pt solid;\n",
              "  color: var(--sklearn-color-fitted-level-1);\n",
              "}\n",
              "\n",
              "/* On hover */\n",
              "div.sk-estimator:hover .sk-estimator-doc-link:hover,\n",
              ".sk-estimator-doc-link:hover,\n",
              "div.sk-label-container:hover .sk-estimator-doc-link:hover,\n",
              ".sk-estimator-doc-link:hover {\n",
              "  /* unfitted */\n",
              "  background-color: var(--sklearn-color-unfitted-level-3);\n",
              "  color: var(--sklearn-color-background);\n",
              "  text-decoration: none;\n",
              "}\n",
              "\n",
              "div.sk-estimator.fitted:hover .sk-estimator-doc-link.fitted:hover,\n",
              ".sk-estimator-doc-link.fitted:hover,\n",
              "div.sk-label-container:hover .sk-estimator-doc-link.fitted:hover,\n",
              ".sk-estimator-doc-link.fitted:hover {\n",
              "  /* fitted */\n",
              "  background-color: var(--sklearn-color-fitted-level-3);\n",
              "  color: var(--sklearn-color-background);\n",
              "  text-decoration: none;\n",
              "}\n",
              "\n",
              "/* Span, style for the box shown on hovering the info icon */\n",
              ".sk-estimator-doc-link span {\n",
              "  display: none;\n",
              "  z-index: 9999;\n",
              "  position: relative;\n",
              "  font-weight: normal;\n",
              "  right: .2ex;\n",
              "  padding: .5ex;\n",
              "  margin: .5ex;\n",
              "  width: min-content;\n",
              "  min-width: 20ex;\n",
              "  max-width: 50ex;\n",
              "  color: var(--sklearn-color-text);\n",
              "  box-shadow: 2pt 2pt 4pt #999;\n",
              "  /* unfitted */\n",
              "  background: var(--sklearn-color-unfitted-level-0);\n",
              "  border: .5pt solid var(--sklearn-color-unfitted-level-3);\n",
              "}\n",
              "\n",
              ".sk-estimator-doc-link.fitted span {\n",
              "  /* fitted */\n",
              "  background: var(--sklearn-color-fitted-level-0);\n",
              "  border: var(--sklearn-color-fitted-level-3);\n",
              "}\n",
              "\n",
              ".sk-estimator-doc-link:hover span {\n",
              "  display: block;\n",
              "}\n",
              "\n",
              "/* \"?\"-specific style due to the `<a>` HTML tag */\n",
              "\n",
              "#sk-container-id-2 a.estimator_doc_link {\n",
              "  float: right;\n",
              "  font-size: 1rem;\n",
              "  line-height: 1em;\n",
              "  font-family: monospace;\n",
              "  background-color: var(--sklearn-color-background);\n",
              "  border-radius: 1rem;\n",
              "  height: 1rem;\n",
              "  width: 1rem;\n",
              "  text-decoration: none;\n",
              "  /* unfitted */\n",
              "  color: var(--sklearn-color-unfitted-level-1);\n",
              "  border: var(--sklearn-color-unfitted-level-1) 1pt solid;\n",
              "}\n",
              "\n",
              "#sk-container-id-2 a.estimator_doc_link.fitted {\n",
              "  /* fitted */\n",
              "  border: var(--sklearn-color-fitted-level-1) 1pt solid;\n",
              "  color: var(--sklearn-color-fitted-level-1);\n",
              "}\n",
              "\n",
              "/* On hover */\n",
              "#sk-container-id-2 a.estimator_doc_link:hover {\n",
              "  /* unfitted */\n",
              "  background-color: var(--sklearn-color-unfitted-level-3);\n",
              "  color: var(--sklearn-color-background);\n",
              "  text-decoration: none;\n",
              "}\n",
              "\n",
              "#sk-container-id-2 a.estimator_doc_link.fitted:hover {\n",
              "  /* fitted */\n",
              "  background-color: var(--sklearn-color-fitted-level-3);\n",
              "}\n",
              "\n",
              ".estimator-table summary {\n",
              "    padding: .5rem;\n",
              "    font-family: monospace;\n",
              "    cursor: pointer;\n",
              "}\n",
              "\n",
              ".estimator-table details[open] {\n",
              "    padding-left: 0.1rem;\n",
              "    padding-right: 0.1rem;\n",
              "    padding-bottom: 0.3rem;\n",
              "}\n",
              "\n",
              ".estimator-table .parameters-table {\n",
              "    margin-left: auto !important;\n",
              "    margin-right: auto !important;\n",
              "}\n",
              "\n",
              ".estimator-table .parameters-table tr:nth-child(odd) {\n",
              "    background-color: #fff;\n",
              "}\n",
              "\n",
              ".estimator-table .parameters-table tr:nth-child(even) {\n",
              "    background-color: #f6f6f6;\n",
              "}\n",
              "\n",
              ".estimator-table .parameters-table tr:hover {\n",
              "    background-color: #e0e0e0;\n",
              "}\n",
              "\n",
              ".estimator-table table td {\n",
              "    border: 1px solid rgba(106, 105, 104, 0.232);\n",
              "}\n",
              "\n",
              ".user-set td {\n",
              "    color:rgb(255, 94, 0);\n",
              "    text-align: left;\n",
              "}\n",
              "\n",
              ".user-set td.value pre {\n",
              "    color:rgb(255, 94, 0) !important;\n",
              "    background-color: transparent !important;\n",
              "}\n",
              "\n",
              ".default td {\n",
              "    color: black;\n",
              "    text-align: left;\n",
              "}\n",
              "\n",
              ".user-set td i,\n",
              ".default td i {\n",
              "    color: black;\n",
              "}\n",
              "\n",
              ".copy-paste-icon {\n",
              "    background-image: url(data:image/svg+xml;base64,PHN2ZyB4bWxucz0iaHR0cDovL3d3dy53My5vcmcvMjAwMC9zdmciIHZpZXdCb3g9IjAgMCA0NDggNTEyIj48IS0tIUZvbnQgQXdlc29tZSBGcmVlIDYuNy4yIGJ5IEBmb250YXdlc29tZSAtIGh0dHBzOi8vZm9udGF3ZXNvbWUuY29tIExpY2Vuc2UgLSBodHRwczovL2ZvbnRhd2Vzb21lLmNvbS9saWNlbnNlL2ZyZWUgQ29weXJpZ2h0IDIwMjUgRm9udGljb25zLCBJbmMuLS0+PHBhdGggZD0iTTIwOCAwTDMzMi4xIDBjMTIuNyAwIDI0LjkgNS4xIDMzLjkgMTQuMWw2Ny45IDY3LjljOSA5IDE0LjEgMjEuMiAxNC4xIDMzLjlMNDQ4IDMzNmMwIDI2LjUtMjEuNSA0OC00OCA0OGwtMTkyIDBjLTI2LjUgMC00OC0yMS41LTQ4LTQ4bDAtMjg4YzAtMjYuNSAyMS41LTQ4IDQ4LTQ4ek00OCAxMjhsODAgMCAwIDY0LTY0IDAgMCAyNTYgMTkyIDAgMC0zMiA2NCAwIDAgNDhjMCAyNi41LTIxLjUgNDgtNDggNDhMNDggNTEyYy0yNi41IDAtNDgtMjEuNS00OC00OEwwIDE3NmMwLTI2LjUgMjEuNS00OCA0OC00OHoiLz48L3N2Zz4=);\n",
              "    background-repeat: no-repeat;\n",
              "    background-size: 14px 14px;\n",
              "    background-position: 0;\n",
              "    display: inline-block;\n",
              "    width: 14px;\n",
              "    height: 14px;\n",
              "    cursor: pointer;\n",
              "}\n",
              "</style><body><div id=\"sk-container-id-2\" class=\"sk-top-container\"><div class=\"sk-text-repr-fallback\"><pre>GridSearchCV(cv=5,\n",
              "             estimator=Pipeline(steps=[(&#x27;Random Forest&#x27;,\n",
              "                                        RandomForestRegressor(max_depth=10,\n",
              "                                                              n_estimators=120))]),\n",
              "             param_grid=[{&#x27;Random Forest__max_depth&#x27;: [10, 15, 20]}],\n",
              "             return_train_score=True, scoring=&#x27;r2&#x27;)</pre><b>In a Jupyter environment, please rerun this cell to show the HTML representation or trust the notebook. <br />On GitHub, the HTML representation is unable to render, please try loading this page with nbviewer.org.</b></div><div class=\"sk-container\" hidden><div class=\"sk-item sk-dashed-wrapped\"><div class=\"sk-label-container\"><div class=\"sk-label fitted sk-toggleable\"><input class=\"sk-toggleable__control sk-hidden--visually\" id=\"sk-estimator-id-2\" type=\"checkbox\" ><label for=\"sk-estimator-id-2\" class=\"sk-toggleable__label fitted sk-toggleable__label-arrow\"><div><div>GridSearchCV</div></div><div><a class=\"sk-estimator-doc-link fitted\" rel=\"noreferrer\" target=\"_blank\" href=\"https://scikit-learn.org/1.7/modules/generated/sklearn.model_selection.GridSearchCV.html\">?<span>Documentation for GridSearchCV</span></a><span class=\"sk-estimator-doc-link fitted\">i<span>Fitted</span></span></div></label><div class=\"sk-toggleable__content fitted\" data-param-prefix=\"\">\n",
              "        <div class=\"estimator-table\">\n",
              "            <details>\n",
              "                <summary>Parameters</summary>\n",
              "                <table class=\"parameters-table\">\n",
              "                  <tbody>\n",
              "                    \n",
              "        <tr class=\"user-set\">\n",
              "            <td><i class=\"copy-paste-icon\"\n",
              "                 onclick=\"copyToClipboard('estimator',\n",
              "                          this.parentElement.nextElementSibling)\"\n",
              "            ></i></td>\n",
              "            <td class=\"param\">estimator&nbsp;</td>\n",
              "            <td class=\"value\">Pipeline(step...mators=120))])</td>\n",
              "        </tr>\n",
              "    \n",
              "\n",
              "        <tr class=\"user-set\">\n",
              "            <td><i class=\"copy-paste-icon\"\n",
              "                 onclick=\"copyToClipboard('param_grid',\n",
              "                          this.parentElement.nextElementSibling)\"\n",
              "            ></i></td>\n",
              "            <td class=\"param\">param_grid&nbsp;</td>\n",
              "            <td class=\"value\">[{&#x27;Random Forest__max_depth&#x27;: [10, 15, ...]}]</td>\n",
              "        </tr>\n",
              "    \n",
              "\n",
              "        <tr class=\"user-set\">\n",
              "            <td><i class=\"copy-paste-icon\"\n",
              "                 onclick=\"copyToClipboard('scoring',\n",
              "                          this.parentElement.nextElementSibling)\"\n",
              "            ></i></td>\n",
              "            <td class=\"param\">scoring&nbsp;</td>\n",
              "            <td class=\"value\">&#x27;r2&#x27;</td>\n",
              "        </tr>\n",
              "    \n",
              "\n",
              "        <tr class=\"default\">\n",
              "            <td><i class=\"copy-paste-icon\"\n",
              "                 onclick=\"copyToClipboard('n_jobs',\n",
              "                          this.parentElement.nextElementSibling)\"\n",
              "            ></i></td>\n",
              "            <td class=\"param\">n_jobs&nbsp;</td>\n",
              "            <td class=\"value\">None</td>\n",
              "        </tr>\n",
              "    \n",
              "\n",
              "        <tr class=\"default\">\n",
              "            <td><i class=\"copy-paste-icon\"\n",
              "                 onclick=\"copyToClipboard('refit',\n",
              "                          this.parentElement.nextElementSibling)\"\n",
              "            ></i></td>\n",
              "            <td class=\"param\">refit&nbsp;</td>\n",
              "            <td class=\"value\">True</td>\n",
              "        </tr>\n",
              "    \n",
              "\n",
              "        <tr class=\"user-set\">\n",
              "            <td><i class=\"copy-paste-icon\"\n",
              "                 onclick=\"copyToClipboard('cv',\n",
              "                          this.parentElement.nextElementSibling)\"\n",
              "            ></i></td>\n",
              "            <td class=\"param\">cv&nbsp;</td>\n",
              "            <td class=\"value\">5</td>\n",
              "        </tr>\n",
              "    \n",
              "\n",
              "        <tr class=\"default\">\n",
              "            <td><i class=\"copy-paste-icon\"\n",
              "                 onclick=\"copyToClipboard('verbose',\n",
              "                          this.parentElement.nextElementSibling)\"\n",
              "            ></i></td>\n",
              "            <td class=\"param\">verbose&nbsp;</td>\n",
              "            <td class=\"value\">0</td>\n",
              "        </tr>\n",
              "    \n",
              "\n",
              "        <tr class=\"default\">\n",
              "            <td><i class=\"copy-paste-icon\"\n",
              "                 onclick=\"copyToClipboard('pre_dispatch',\n",
              "                          this.parentElement.nextElementSibling)\"\n",
              "            ></i></td>\n",
              "            <td class=\"param\">pre_dispatch&nbsp;</td>\n",
              "            <td class=\"value\">&#x27;2*n_jobs&#x27;</td>\n",
              "        </tr>\n",
              "    \n",
              "\n",
              "        <tr class=\"default\">\n",
              "            <td><i class=\"copy-paste-icon\"\n",
              "                 onclick=\"copyToClipboard('error_score',\n",
              "                          this.parentElement.nextElementSibling)\"\n",
              "            ></i></td>\n",
              "            <td class=\"param\">error_score&nbsp;</td>\n",
              "            <td class=\"value\">nan</td>\n",
              "        </tr>\n",
              "    \n",
              "\n",
              "        <tr class=\"user-set\">\n",
              "            <td><i class=\"copy-paste-icon\"\n",
              "                 onclick=\"copyToClipboard('return_train_score',\n",
              "                          this.parentElement.nextElementSibling)\"\n",
              "            ></i></td>\n",
              "            <td class=\"param\">return_train_score&nbsp;</td>\n",
              "            <td class=\"value\">True</td>\n",
              "        </tr>\n",
              "    \n",
              "                  </tbody>\n",
              "                </table>\n",
              "            </details>\n",
              "        </div>\n",
              "    </div></div></div><div class=\"sk-parallel\"><div class=\"sk-parallel-item\"><div class=\"sk-item\"><div class=\"sk-label-container\"><div class=\"sk-label fitted sk-toggleable\"><input class=\"sk-toggleable__control sk-hidden--visually\" id=\"sk-estimator-id-3\" type=\"checkbox\" ><label for=\"sk-estimator-id-3\" class=\"sk-toggleable__label fitted sk-toggleable__label-arrow\"><div><div>best_estimator_: Pipeline</div></div></label><div class=\"sk-toggleable__content fitted\" data-param-prefix=\"best_estimator___\"></div></div><div class=\"sk-serial\"><div class=\"sk-item\"><div class=\"sk-serial\"><div class=\"sk-item\"><div class=\"sk-estimator fitted sk-toggleable\"><input class=\"sk-toggleable__control sk-hidden--visually\" id=\"sk-estimator-id-4\" type=\"checkbox\" ><label for=\"sk-estimator-id-4\" class=\"sk-toggleable__label fitted sk-toggleable__label-arrow\"><div><div>RandomForestRegressor</div></div><div><a class=\"sk-estimator-doc-link fitted\" rel=\"noreferrer\" target=\"_blank\" href=\"https://scikit-learn.org/1.7/modules/generated/sklearn.ensemble.RandomForestRegressor.html\">?<span>Documentation for RandomForestRegressor</span></a></div></label><div class=\"sk-toggleable__content fitted\" data-param-prefix=\"best_estimator___Random Forest__\">\n",
              "        <div class=\"estimator-table\">\n",
              "            <details>\n",
              "                <summary>Parameters</summary>\n",
              "                <table class=\"parameters-table\">\n",
              "                  <tbody>\n",
              "                    \n",
              "        <tr class=\"user-set\">\n",
              "            <td><i class=\"copy-paste-icon\"\n",
              "                 onclick=\"copyToClipboard('n_estimators',\n",
              "                          this.parentElement.nextElementSibling)\"\n",
              "            ></i></td>\n",
              "            <td class=\"param\">n_estimators&nbsp;</td>\n",
              "            <td class=\"value\">120</td>\n",
              "        </tr>\n",
              "    \n",
              "\n",
              "        <tr class=\"default\">\n",
              "            <td><i class=\"copy-paste-icon\"\n",
              "                 onclick=\"copyToClipboard('criterion',\n",
              "                          this.parentElement.nextElementSibling)\"\n",
              "            ></i></td>\n",
              "            <td class=\"param\">criterion&nbsp;</td>\n",
              "            <td class=\"value\">&#x27;squared_error&#x27;</td>\n",
              "        </tr>\n",
              "    \n",
              "\n",
              "        <tr class=\"user-set\">\n",
              "            <td><i class=\"copy-paste-icon\"\n",
              "                 onclick=\"copyToClipboard('max_depth',\n",
              "                          this.parentElement.nextElementSibling)\"\n",
              "            ></i></td>\n",
              "            <td class=\"param\">max_depth&nbsp;</td>\n",
              "            <td class=\"value\">20</td>\n",
              "        </tr>\n",
              "    \n",
              "\n",
              "        <tr class=\"default\">\n",
              "            <td><i class=\"copy-paste-icon\"\n",
              "                 onclick=\"copyToClipboard('min_samples_split',\n",
              "                          this.parentElement.nextElementSibling)\"\n",
              "            ></i></td>\n",
              "            <td class=\"param\">min_samples_split&nbsp;</td>\n",
              "            <td class=\"value\">2</td>\n",
              "        </tr>\n",
              "    \n",
              "\n",
              "        <tr class=\"default\">\n",
              "            <td><i class=\"copy-paste-icon\"\n",
              "                 onclick=\"copyToClipboard('min_samples_leaf',\n",
              "                          this.parentElement.nextElementSibling)\"\n",
              "            ></i></td>\n",
              "            <td class=\"param\">min_samples_leaf&nbsp;</td>\n",
              "            <td class=\"value\">1</td>\n",
              "        </tr>\n",
              "    \n",
              "\n",
              "        <tr class=\"default\">\n",
              "            <td><i class=\"copy-paste-icon\"\n",
              "                 onclick=\"copyToClipboard('min_weight_fraction_leaf',\n",
              "                          this.parentElement.nextElementSibling)\"\n",
              "            ></i></td>\n",
              "            <td class=\"param\">min_weight_fraction_leaf&nbsp;</td>\n",
              "            <td class=\"value\">0.0</td>\n",
              "        </tr>\n",
              "    \n",
              "\n",
              "        <tr class=\"default\">\n",
              "            <td><i class=\"copy-paste-icon\"\n",
              "                 onclick=\"copyToClipboard('max_features',\n",
              "                          this.parentElement.nextElementSibling)\"\n",
              "            ></i></td>\n",
              "            <td class=\"param\">max_features&nbsp;</td>\n",
              "            <td class=\"value\">1.0</td>\n",
              "        </tr>\n",
              "    \n",
              "\n",
              "        <tr class=\"default\">\n",
              "            <td><i class=\"copy-paste-icon\"\n",
              "                 onclick=\"copyToClipboard('max_leaf_nodes',\n",
              "                          this.parentElement.nextElementSibling)\"\n",
              "            ></i></td>\n",
              "            <td class=\"param\">max_leaf_nodes&nbsp;</td>\n",
              "            <td class=\"value\">None</td>\n",
              "        </tr>\n",
              "    \n",
              "\n",
              "        <tr class=\"default\">\n",
              "            <td><i class=\"copy-paste-icon\"\n",
              "                 onclick=\"copyToClipboard('min_impurity_decrease',\n",
              "                          this.parentElement.nextElementSibling)\"\n",
              "            ></i></td>\n",
              "            <td class=\"param\">min_impurity_decrease&nbsp;</td>\n",
              "            <td class=\"value\">0.0</td>\n",
              "        </tr>\n",
              "    \n",
              "\n",
              "        <tr class=\"default\">\n",
              "            <td><i class=\"copy-paste-icon\"\n",
              "                 onclick=\"copyToClipboard('bootstrap',\n",
              "                          this.parentElement.nextElementSibling)\"\n",
              "            ></i></td>\n",
              "            <td class=\"param\">bootstrap&nbsp;</td>\n",
              "            <td class=\"value\">True</td>\n",
              "        </tr>\n",
              "    \n",
              "\n",
              "        <tr class=\"default\">\n",
              "            <td><i class=\"copy-paste-icon\"\n",
              "                 onclick=\"copyToClipboard('oob_score',\n",
              "                          this.parentElement.nextElementSibling)\"\n",
              "            ></i></td>\n",
              "            <td class=\"param\">oob_score&nbsp;</td>\n",
              "            <td class=\"value\">False</td>\n",
              "        </tr>\n",
              "    \n",
              "\n",
              "        <tr class=\"default\">\n",
              "            <td><i class=\"copy-paste-icon\"\n",
              "                 onclick=\"copyToClipboard('n_jobs',\n",
              "                          this.parentElement.nextElementSibling)\"\n",
              "            ></i></td>\n",
              "            <td class=\"param\">n_jobs&nbsp;</td>\n",
              "            <td class=\"value\">None</td>\n",
              "        </tr>\n",
              "    \n",
              "\n",
              "        <tr class=\"default\">\n",
              "            <td><i class=\"copy-paste-icon\"\n",
              "                 onclick=\"copyToClipboard('random_state',\n",
              "                          this.parentElement.nextElementSibling)\"\n",
              "            ></i></td>\n",
              "            <td class=\"param\">random_state&nbsp;</td>\n",
              "            <td class=\"value\">None</td>\n",
              "        </tr>\n",
              "    \n",
              "\n",
              "        <tr class=\"default\">\n",
              "            <td><i class=\"copy-paste-icon\"\n",
              "                 onclick=\"copyToClipboard('verbose',\n",
              "                          this.parentElement.nextElementSibling)\"\n",
              "            ></i></td>\n",
              "            <td class=\"param\">verbose&nbsp;</td>\n",
              "            <td class=\"value\">0</td>\n",
              "        </tr>\n",
              "    \n",
              "\n",
              "        <tr class=\"default\">\n",
              "            <td><i class=\"copy-paste-icon\"\n",
              "                 onclick=\"copyToClipboard('warm_start',\n",
              "                          this.parentElement.nextElementSibling)\"\n",
              "            ></i></td>\n",
              "            <td class=\"param\">warm_start&nbsp;</td>\n",
              "            <td class=\"value\">False</td>\n",
              "        </tr>\n",
              "    \n",
              "\n",
              "        <tr class=\"default\">\n",
              "            <td><i class=\"copy-paste-icon\"\n",
              "                 onclick=\"copyToClipboard('ccp_alpha',\n",
              "                          this.parentElement.nextElementSibling)\"\n",
              "            ></i></td>\n",
              "            <td class=\"param\">ccp_alpha&nbsp;</td>\n",
              "            <td class=\"value\">0.0</td>\n",
              "        </tr>\n",
              "    \n",
              "\n",
              "        <tr class=\"default\">\n",
              "            <td><i class=\"copy-paste-icon\"\n",
              "                 onclick=\"copyToClipboard('max_samples',\n",
              "                          this.parentElement.nextElementSibling)\"\n",
              "            ></i></td>\n",
              "            <td class=\"param\">max_samples&nbsp;</td>\n",
              "            <td class=\"value\">None</td>\n",
              "        </tr>\n",
              "    \n",
              "\n",
              "        <tr class=\"default\">\n",
              "            <td><i class=\"copy-paste-icon\"\n",
              "                 onclick=\"copyToClipboard('monotonic_cst',\n",
              "                          this.parentElement.nextElementSibling)\"\n",
              "            ></i></td>\n",
              "            <td class=\"param\">monotonic_cst&nbsp;</td>\n",
              "            <td class=\"value\">None</td>\n",
              "        </tr>\n",
              "    \n",
              "                  </tbody>\n",
              "                </table>\n",
              "            </details>\n",
              "        </div>\n",
              "    </div></div></div></div></div></div></div></div></div></div></div></div><script>function copyToClipboard(text, element) {\n",
              "    // Get the parameter prefix from the closest toggleable content\n",
              "    const toggleableContent = element.closest('.sk-toggleable__content');\n",
              "    const paramPrefix = toggleableContent ? toggleableContent.dataset.paramPrefix : '';\n",
              "    const fullParamName = paramPrefix ? `${paramPrefix}${text}` : text;\n",
              "\n",
              "    const originalStyle = element.style;\n",
              "    const computedStyle = window.getComputedStyle(element);\n",
              "    const originalWidth = computedStyle.width;\n",
              "    const originalHTML = element.innerHTML.replace('Copied!', '');\n",
              "\n",
              "    navigator.clipboard.writeText(fullParamName)\n",
              "        .then(() => {\n",
              "            element.style.width = originalWidth;\n",
              "            element.style.color = 'green';\n",
              "            element.innerHTML = \"Copied!\";\n",
              "\n",
              "            setTimeout(() => {\n",
              "                element.innerHTML = originalHTML;\n",
              "                element.style = originalStyle;\n",
              "            }, 2000);\n",
              "        })\n",
              "        .catch(err => {\n",
              "            console.error('Failed to copy:', err);\n",
              "            element.style.color = 'red';\n",
              "            element.innerHTML = \"Failed!\";\n",
              "            setTimeout(() => {\n",
              "                element.innerHTML = originalHTML;\n",
              "                element.style = originalStyle;\n",
              "            }, 2000);\n",
              "        });\n",
              "    return false;\n",
              "}\n",
              "\n",
              "document.querySelectorAll('.fa-regular.fa-copy').forEach(function(element) {\n",
              "    const toggleableContent = element.closest('.sk-toggleable__content');\n",
              "    const paramPrefix = toggleableContent ? toggleableContent.dataset.paramPrefix : '';\n",
              "    const paramName = element.parentElement.nextElementSibling.textContent.trim();\n",
              "    const fullParamName = paramPrefix ? `${paramPrefix}${paramName}` : paramName;\n",
              "\n",
              "    element.setAttribute('title', fullParamName);\n",
              "});\n",
              "</script></body>"
            ],
            "text/plain": [
              "GridSearchCV(cv=5,\n",
              "             estimator=Pipeline(steps=[('Random Forest',\n",
              "                                        RandomForestRegressor(max_depth=10,\n",
              "                                                              n_estimators=120))]),\n",
              "             param_grid=[{'Random Forest__max_depth': [10, 15, 20]}],\n",
              "             return_train_score=True, scoring='r2')"
            ]
          },
          "execution_count": 71,
          "metadata": {},
          "output_type": "execute_result"
        }
      ],
      "source": [
        "grid.fit(X,y)"
      ]
    },
    {
      "cell_type": "code",
      "execution_count": 72,
      "metadata": {
        "colab": {
          "base_uri": "https://localhost:8080/"
        },
        "id": "3LQe3dewYYRl",
        "outputId": "631f7f42-1c6f-4bea-ca95-2fddd1ee6f5e"
      },
      "outputs": [
        {
          "data": {
            "text/plain": [
              "{'Random Forest__max_depth': 20}"
            ]
          },
          "execution_count": 72,
          "metadata": {},
          "output_type": "execute_result"
        }
      ],
      "source": [
        "grid.best_params_"
      ]
    },
    {
      "cell_type": "code",
      "execution_count": 73,
      "metadata": {
        "colab": {
          "base_uri": "https://localhost:8080/"
        },
        "id": "vQMUC-s-YYRl",
        "outputId": "7de75347-62a2-45c0-e04d-f5736cac807e"
      },
      "outputs": [
        {
          "data": {
            "text/plain": [
              "0.9902904090326032"
            ]
          },
          "execution_count": 73,
          "metadata": {},
          "output_type": "execute_result"
        }
      ],
      "source": [
        "grid.cv_results_[\"mean_train_score\"].max()"
      ]
    },
    {
      "cell_type": "code",
      "execution_count": 74,
      "metadata": {
        "colab": {
          "base_uri": "https://localhost:8080/"
        },
        "id": "YPhecXMOYYRl",
        "outputId": "f8d8ab6c-925c-431e-a8c1-a9a9b3bc7fc9"
      },
      "outputs": [
        {
          "data": {
            "text/plain": [
              "0.9255002808002526"
            ]
          },
          "execution_count": 74,
          "metadata": {},
          "output_type": "execute_result"
        }
      ],
      "source": [
        "grid.cv_results_[\"mean_test_score\"].max()"
      ]
    },
    {
      "cell_type": "markdown",
      "metadata": {
        "id": "bePfMG4jYYRl"
      },
      "source": [
        "## 8 Deployment"
      ]
    },
    {
      "cell_type": "code",
      "execution_count": 75,
      "metadata": {
        "colab": {
          "base_uri": "https://localhost:8080/"
        },
        "id": "eIlkOrecYYRm",
        "outputId": "c15f8eed-0f5e-4541-e953-4862e263aefd"
      },
      "outputs": [
        {
          "name": "stdout",
          "output_type": "stream",
          "text": [
            "Requirement already satisfied: streamlit in c:\\users\\shinkie\\anaconda3\\lib\\site-packages (1.37.1)\n",
            "Requirement already satisfied: altair<6,>=4.0 in c:\\users\\shinkie\\anaconda3\\lib\\site-packages (from streamlit) (5.0.1)\n",
            "Requirement already satisfied: blinker<2,>=1.0.0 in c:\\users\\shinkie\\anaconda3\\lib\\site-packages (from streamlit) (1.6.2)\n",
            "Requirement already satisfied: cachetools<6,>=4.0 in c:\\users\\shinkie\\anaconda3\\lib\\site-packages (from streamlit) (5.3.3)\n",
            "Requirement already satisfied: click<9,>=7.0 in c:\\users\\shinkie\\anaconda3\\lib\\site-packages (from streamlit) (8.1.7)\n",
            "Requirement already satisfied: numpy<3,>=1.20 in c:\\users\\shinkie\\anaconda3\\lib\\site-packages (from streamlit) (1.26.4)\n",
            "Requirement already satisfied: packaging<25,>=20 in c:\\users\\shinkie\\anaconda3\\lib\\site-packages (from streamlit) (24.1)\n",
            "Requirement already satisfied: pandas<3,>=1.3.0 in c:\\users\\shinkie\\anaconda3\\lib\\site-packages (from streamlit) (2.2.2)\n",
            "Requirement already satisfied: pillow<11,>=7.1.0 in c:\\users\\shinkie\\anaconda3\\lib\\site-packages (from streamlit) (10.4.0)\n",
            "Requirement already satisfied: protobuf<6,>=3.20 in c:\\users\\shinkie\\anaconda3\\lib\\site-packages (from streamlit) (4.25.3)\n",
            "Requirement already satisfied: pyarrow>=7.0 in c:\\users\\shinkie\\anaconda3\\lib\\site-packages (from streamlit) (16.1.0)\n",
            "Requirement already satisfied: requests<3,>=2.27 in c:\\users\\shinkie\\anaconda3\\lib\\site-packages (from streamlit) (2.32.3)\n",
            "Requirement already satisfied: rich<14,>=10.14.0 in c:\\users\\shinkie\\anaconda3\\lib\\site-packages (from streamlit) (13.7.1)\n",
            "Requirement already satisfied: tenacity<9,>=8.1.0 in c:\\users\\shinkie\\anaconda3\\lib\\site-packages (from streamlit) (8.2.3)\n",
            "Requirement already satisfied: toml<2,>=0.10.1 in c:\\users\\shinkie\\anaconda3\\lib\\site-packages (from streamlit) (0.10.2)\n",
            "Requirement already satisfied: typing-extensions<5,>=4.3.0 in c:\\users\\shinkie\\anaconda3\\lib\\site-packages (from streamlit) (4.11.0)\n",
            "Requirement already satisfied: gitpython!=3.1.19,<4,>=3.0.7 in c:\\users\\shinkie\\anaconda3\\lib\\site-packages (from streamlit) (3.1.43)\n",
            "Requirement already satisfied: pydeck<1,>=0.8.0b4 in c:\\users\\shinkie\\anaconda3\\lib\\site-packages (from streamlit) (0.8.0)\n",
            "Requirement already satisfied: tornado<7,>=6.0.3 in c:\\users\\shinkie\\anaconda3\\lib\\site-packages (from streamlit) (6.4.1)\n",
            "Requirement already satisfied: watchdog<5,>=2.1.5 in c:\\users\\shinkie\\anaconda3\\lib\\site-packages (from streamlit) (4.0.1)\n",
            "Requirement already satisfied: jinja2 in c:\\users\\shinkie\\anaconda3\\lib\\site-packages (from altair<6,>=4.0->streamlit) (3.1.4)\n",
            "Requirement already satisfied: jsonschema>=3.0 in c:\\users\\shinkie\\anaconda3\\lib\\site-packages (from altair<6,>=4.0->streamlit) (4.23.0)\n",
            "Requirement already satisfied: toolz in c:\\users\\shinkie\\anaconda3\\lib\\site-packages (from altair<6,>=4.0->streamlit) (0.12.0)\n",
            "Requirement already satisfied: colorama in c:\\users\\shinkie\\anaconda3\\lib\\site-packages (from click<9,>=7.0->streamlit) (0.4.6)\n",
            "Requirement already satisfied: gitdb<5,>=4.0.1 in c:\\users\\shinkie\\anaconda3\\lib\\site-packages (from gitpython!=3.1.19,<4,>=3.0.7->streamlit) (4.0.7)\n",
            "Requirement already satisfied: python-dateutil>=2.8.2 in c:\\users\\shinkie\\anaconda3\\lib\\site-packages (from pandas<3,>=1.3.0->streamlit) (2.9.0.post0)\n",
            "Requirement already satisfied: pytz>=2020.1 in c:\\users\\shinkie\\anaconda3\\lib\\site-packages (from pandas<3,>=1.3.0->streamlit) (2024.1)\n",
            "Requirement already satisfied: tzdata>=2022.7 in c:\\users\\shinkie\\anaconda3\\lib\\site-packages (from pandas<3,>=1.3.0->streamlit) (2023.3)\n",
            "Requirement already satisfied: charset-normalizer<4,>=2 in c:\\users\\shinkie\\anaconda3\\lib\\site-packages (from requests<3,>=2.27->streamlit) (3.3.2)\n",
            "Requirement already satisfied: idna<4,>=2.5 in c:\\users\\shinkie\\anaconda3\\lib\\site-packages (from requests<3,>=2.27->streamlit) (3.7)\n",
            "Requirement already satisfied: urllib3<3,>=1.21.1 in c:\\users\\shinkie\\anaconda3\\lib\\site-packages (from requests<3,>=2.27->streamlit) (2.2.3)\n",
            "Requirement already satisfied: certifi>=2017.4.17 in c:\\users\\shinkie\\anaconda3\\lib\\site-packages (from requests<3,>=2.27->streamlit) (2024.12.14)\n",
            "Requirement already satisfied: markdown-it-py>=2.2.0 in c:\\users\\shinkie\\anaconda3\\lib\\site-packages (from rich<14,>=10.14.0->streamlit) (2.2.0)\n",
            "Requirement already satisfied: pygments<3.0.0,>=2.13.0 in c:\\users\\shinkie\\anaconda3\\lib\\site-packages (from rich<14,>=10.14.0->streamlit) (2.15.1)\n",
            "Requirement already satisfied: smmap<5,>=3.0.1 in c:\\users\\shinkie\\anaconda3\\lib\\site-packages (from gitdb<5,>=4.0.1->gitpython!=3.1.19,<4,>=3.0.7->streamlit) (4.0.0)\n",
            "Requirement already satisfied: MarkupSafe>=2.0 in c:\\users\\shinkie\\anaconda3\\lib\\site-packages (from jinja2->altair<6,>=4.0->streamlit) (2.1.3)\n",
            "Requirement already satisfied: attrs>=22.2.0 in c:\\users\\shinkie\\anaconda3\\lib\\site-packages (from jsonschema>=3.0->altair<6,>=4.0->streamlit) (23.1.0)\n",
            "Requirement already satisfied: jsonschema-specifications>=2023.03.6 in c:\\users\\shinkie\\anaconda3\\lib\\site-packages (from jsonschema>=3.0->altair<6,>=4.0->streamlit) (2023.7.1)\n",
            "Requirement already satisfied: referencing>=0.28.4 in c:\\users\\shinkie\\anaconda3\\lib\\site-packages (from jsonschema>=3.0->altair<6,>=4.0->streamlit) (0.30.2)\n",
            "Requirement already satisfied: rpds-py>=0.7.1 in c:\\users\\shinkie\\anaconda3\\lib\\site-packages (from jsonschema>=3.0->altair<6,>=4.0->streamlit) (0.10.6)\n",
            "Requirement already satisfied: mdurl~=0.1 in c:\\users\\shinkie\\anaconda3\\lib\\site-packages (from markdown-it-py>=2.2.0->rich<14,>=10.14.0->streamlit) (0.1.0)\n",
            "Requirement already satisfied: six>=1.5 in c:\\users\\shinkie\\anaconda3\\lib\\site-packages (from python-dateutil>=2.8.2->pandas<3,>=1.3.0->streamlit) (1.16.0)\n"
          ]
        }
      ],
      "source": [
        "!pip install streamlit\n",
        "import joblib\n",
        "import streamlit as st"
      ]
    },
    {
      "cell_type": "code",
      "execution_count": 76,
      "metadata": {
        "colab": {
          "base_uri": "https://localhost:8080/"
        },
        "id": "UfK0z0cCYYRm",
        "outputId": "fa606484-e6a4-4415-f7d4-f154c45b1903"
      },
      "outputs": [
        {
          "data": {
            "text/plain": [
              "['input_dep.h5']"
            ]
          },
          "execution_count": 76,
          "metadata": {},
          "output_type": "execute_result"
        }
      ],
      "source": [
        "joblib.dump(reg , \"final_model.h5\")\n",
        "joblib.dump(df.columns,\"input_dep.h5\")"
      ]
    },
    {
      "cell_type": "code",
      "execution_count": 77,
      "metadata": {
        "colab": {
          "base_uri": "https://localhost:8080/"
        },
        "id": "UfD7xgH2YYRm",
        "outputId": "29feff12-2de5-48ce-8d9f-6722dfe9dc02"
      },
      "outputs": [
        {
          "data": {
            "text/plain": [
              "Index(['Name_0', 'Name_1', 'Name_2', 'Name_3', 'Name_4', 'Name_5', 'Name_6',\n",
              "       'Name_7', 'Location_0', 'Location_1', 'Location_2', 'Location_3',\n",
              "       'Year', 'Kilometers_Driven', 'Fuel_Type_0', 'Fuel_Type_1',\n",
              "       'Fuel_Type_2', 'Transmission_0', 'Transmission_1', 'Owner_Type',\n",
              "       'Mileage', 'Engine', 'Power', 'Seats', 'Price', 'Brand_0', 'Brand_1',\n",
              "       'Brand_2', 'Brand_3', 'Brand_4'],\n",
              "      dtype='object')"
            ]
          },
          "execution_count": 77,
          "metadata": {},
          "output_type": "execute_result"
        }
      ],
      "source": [
        "df.columns"
      ]
    },
    {
      "cell_type": "code",
      "execution_count": 78,
      "metadata": {
        "colab": {
          "base_uri": "https://localhost:8080/"
        },
        "id": "JNfPhR4RYYRm",
        "outputId": "e4c7e9a0-cc2a-48dc-c4ea-0729c1f5a2e3"
      },
      "outputs": [
        {
          "name": "stderr",
          "output_type": "stream",
          "text": [
            "2025-06-25 00:13:06.870 \n",
            "  \u001b[33m\u001b[1mWarning:\u001b[0m to view this Streamlit app on a browser, run it with the following\n",
            "  command:\n",
            "\n",
            "    streamlit run c:\\Users\\Shinkie\\anaconda3\\Lib\\site-packages\\ipykernel_launcher.py [ARGUMENTS]\n",
            "2025-06-25 00:13:06.894 Session state does not function when running a script without `streamlit run`\n"
          ]
        }
      ],
      "source": [
        "st.title(\"Know your car price\")\n",
        "\n",
        "inputs = joblib.load(\"input_dep.h5\")\n",
        "model = joblib.load(\"final_model.h5\")\n",
        "\n",
        "def predict(Name, Location, Year, Kilometers_Driven, Fuel_Type,Transmission, Owner_Type, Mileage, Engine, Power, Seats,Brand):\n",
        "    test_df = pd.DataFrame(columns = inputs)\n",
        "    test_df.at[0,'Name'] = Name\n",
        "    test_df.at[0,'Location'] = Location\n",
        "    test_df.at[0,'Year'] = Year\n",
        "    test_df.at[0,'Kilometers_Driven'] = Kilometers_Driven\n",
        "    test_df.at[0,'Fuel_Type'] = Fuel_Type\n",
        "    test_df.at[0,'Transmission'] = Transmission\n",
        "    test_df.at[0, 'Owner_Type'] = Owner_Type\n",
        "    test_df.at[0, 'Mileage'] = Mileage\n",
        "    test_df.at[0, 'Engine'] = Engine\n",
        "    test_df.at[0, 'Power'] = Power\n",
        "    test_df.at[0, 'Seats'] = Seats\n",
        "    test_df.at[0, 'Brand'] = Brand\n",
        "\n",
        "    print(test_df)\n",
        "    result = model.predict(test_df)[0]\n",
        "    return result\n",
        "\n",
        "def main():\n",
        "    Name = st.selectbox('Name',('Maruti Wagon','Hyundai Creta', 'Honda Jazz','Maruti Ertiga','Audi A4'\n",
        "                                ,'Hyundai EON','Nissan Micra','Toyota Innova','Volkswagen Vento','Tata Indica','Ford Fusion',\n",
        "                                'Mercedes-Benz SL-Class','BMW Z4','Toyota Prius','Force One','Maruti Versa','Honda WR-V',\n",
        "                                'Bentley Continental',   'Lamborghini Gallardo','Jaguar F'))\n",
        "    Location = st.selectbox('Location',('Mumbai', 'Hyderabad', 'Kochi', 'Coimbatore', 'Pune', 'Delhi',\n",
        "       'Kolkata', 'Chennai', 'Jaipur', 'Bangalore', 'Ahmedabad'))\n",
        "    Year = st.slider(\"Year\" , min_value=1980, max_value=2040, value=2000, step=1)\n",
        "    Kilometers_Driven = st.slider(\"Kilometers_Driven\" , min_value=1, max_value=999999, value=1, step=100)\n",
        "    Fuel_Type = st.selectbox(\"Fuel_Type\",('CNG', 'Diesel', 'Petrol', 'LPG', 'Electric'))\n",
        "    Transmission = st.selectbox(\"Transmission\",('Manual', 'Automatic'))\n",
        "    Owner_Type = st.selectbox(\"Owner_Type\",('First', 'Second', 'Fourth & Above', 'Third'))\n",
        "    Mileage =  st.slider(\"Mileage\" , min_value=1, max_value=999999, value=1, step=100)\n",
        "    Engine = st.slider(\"Engine\" , min_value=0, max_value=6000, value=100, step=100)\n",
        "    Power = st.slider(\"Power\" , min_value=10, max_value=800, value=10, step=10)\n",
        "    Seats = st.slider(\"Seats\" , min_value=1, max_value=20, value=1, step=1)\n",
        "    Brand = st.selectbox(\"Brand\",('Maruti','Hyundai','Honda','Audi',\n",
        "        'Nissan',        'Toyota',    'Volkswagen',          'Tata',\n",
        "          'Land',    'Mitsubishi',       'Renault', 'Mercedes-Benz',\n",
        "           'BMW',      'Mahindra',          'Ford',       'Porsche',\n",
        "        'Datsun',        'Jaguar',         'Volvo',     'Chevrolet',\n",
        "         'Skoda',          'Mini',          'Fiat',          'Jeep',\n",
        "    'Ambassador',         'Isuzu',         'ISUZU',         'Force',\n",
        "       'Bentley',   'Lamborghini'))\n",
        "\n",
        "\n",
        "    if st.button(\"test\"):\n",
        "        print(Name, Location, int(Year), int(Kilometers_Driven), Fuel_Type,Transmission, Owner_Type, int(Mileage), int(Engine), int(Power), int(Seats) , Brand)\n",
        "    if st.button(\"predict\"):\n",
        "        restult = predict(Name, Location, int(Year), int(Kilometers_Driven), Fuel_Type,Transmission, Owner_Type, int(Mileage), int(Engine), int(Power), int(Seats),Brand)\n",
        "\n",
        "        st.text(\"The price is {}\".format(restult))\n",
        "if __name__ == '__main__':\n",
        "    main()"
      ]
    },
    {
      "cell_type": "code",
      "execution_count": 79,
      "metadata": {
        "colab": {
          "base_uri": "https://localhost:8080/"
        },
        "id": "gTGt4x7xYYRm",
        "outputId": "d991bc58-d693-4df9-d4a3-a3fd72768005"
      },
      "outputs": [
        {
          "name": "stdout",
          "output_type": "stream",
          "text": [
            "^C\n"
          ]
        }
      ],
      "source": [
        "!streamlit run app.py"
      ]
    },
    {
      "cell_type": "code",
      "execution_count": null,
      "metadata": {
        "id": "V6s5xsQiv7_u"
      },
      "outputs": [],
      "source": []
    },
    {
      "cell_type": "code",
      "execution_count": null,
      "metadata": {
        "colab": {
          "base_uri": "https://localhost:8080/"
        },
        "id": "4fcbe92d",
        "outputId": "74ccb88d-b4ce-4b14-ccab-692a73ec7e99"
      },
      "outputs": [
        {
          "name": "stdout",
          "output_type": "stream",
          "text": [
            "Writing app.py\n"
          ]
        }
      ],
      "source": [
        "%%writefile app.py\n",
        "\n",
        "import pandas as pd\n",
        "import numpy as np\n",
        "import joblib\n",
        "import streamlit as st\n",
        "\n",
        "st.title(\"Know your car price\")\n",
        "\n",
        "inputs = joblib.load(\"input_dep.h5\")\n",
        "model = joblib.load(\"final_model.h5\")\n",
        "\n",
        "def predict(Name, Location, Year, Kilometers_Driven, Fuel_Type,Transmission, Owner_Type, Mileage, Engine, Power, Seats,Brand):\n",
        "    test_df = pd.DataFrame(columns = inputs)\n",
        "    test_df.at[0,'Name'] = Name\n",
        "    test_df.at[0,'Location'] = Location\n",
        "    test_df.at[0,'Year'] = Year\n",
        "    test_df.at[0,'Kilometers_Driven'] = Kilometers_Driven\n",
        "    test_df.at[0,'Fuel_Type'] = Fuel_Type\n",
        "    test_df.at[0,'Transmission'] = Transmission\n",
        "    test_df.at[0, 'Owner_Type'] = Owner_Type\n",
        "    test_df.at[0, 'Mileage'] = Mileage\n",
        "    test_df.at[0, 'Engine'] = Engine\n",
        "    test_df.at[0, 'Power'] = Power\n",
        "    test_df.at[0, 'Seats'] = Seats\n",
        "    test_df.at[0, 'Brand'] = Brand\n",
        "\n",
        "    print(test_df)\n",
        "    result = model.predict(test_df)[0]\n",
        "    return result\n",
        "\n",
        "def main():\n",
        "    Name = st.selectbox('Name',('Maruti Wagon','Hyundai Creta', 'Honda Jazz','Maruti Ertiga','Audi A4'\n",
        "                                ,'Hyundai EON','Nissan Micra','Toyota Innova','Volkswagen Vento','Tata Indica','Ford Fusion',\n",
        "                                'Mercedes-Benz SL-Class','BMW Z4','Toyota Prius','Force One','Maruti Versa','Honda WR-V',\n",
        "                                'Bentley Continental',   'Lamborghini Gallardo','Jaguar F'))\n",
        "    Location = st.selectbox('Location',('Mumbai', 'Hyderabad', 'Kochi', 'Coimbatore', 'Pune', 'Delhi',\n",
        "       'Kolkata', 'Chennai', 'Jaipur', 'Bangalore', 'Ahmedabad'))\n",
        "    Year = st.slider(\"Year\" , min_value=1980, max_value=2040, value=2000, step=1)\n",
        "    Kilometers_Driven = st.slider(\"Kilometers_Driven\" , min_value=1, max_value=999999, value=1, step=100)\n",
        "    Fuel_Type = st.selectbox(\"Fuel_Type\",('CNG', 'Diesel', 'Petrol', 'LPG', 'Electric'))\n",
        "    Transmission = st.selectbox(\"Transmission\",('Manual', 'Automatic'))\n",
        "    Owner_Type = st.selectbox(\"Owner_Type\",('First', 'Second', 'Fourth & Above', 'Third'))\n",
        "    Mileage =  st.slider(\"Mileage\" , min_value=1, max_value=999999, value=1, step=100)\n",
        "    Engine = st.slider(\"Engine\" , min_value=0, max_value=6000, value=100, step=100)\n",
        "    Power = st.slider(\"Power\" , min_value=10, max_value=800, value=10, step=10)\n",
        "    Seats = st.slider(\"Seats\" , min_value=1, max_value=20, value=1, step=1)\n",
        "    Brand = st.selectbox(\"Brand\",('Maruti','Hyundai','Honda','Audi',\n",
        "        'Nissan',        'Toyota',    'Volkswagen',          'Tata',\n",
        "          'Land',    'Mitsubishi',       'Renault', 'Mercedes-Benz',\n",
        "           'BMW',      Mahindra',          'Ford',       'Porsche',\n",
        "        'Datsun',        'Jaguar',         'Volvo',     'Chevrolet',\n",
        "         'Skoda',          'Mini',          'Fiat',          'Jeep',\n",
        "    'Ambassador',         'Isuzu',         'ISUZU',         'Force',\n",
        "       'Bentley',   'Lamborghini'))\n",
        "\n",
        "\n",
        "    if st.button(\"test\"):\n",
        "        print(Name, Location, int(Year), int(Kilometers_Driven), Fuel_Type,Transmission, Owner_Type, int(Mileage), int(Engine), int(Power), int(Seats) , Brand)\n",
        "    if st.button(\"predict\"):\n",
        "        restult = predict(Name, Location, int(Year), int(Kilometers_Driven), Fuel_Type,Transmission, Owner_Type, int(Mileage), int(Engine), int(Power), int(Seats),Brand)\n",
        "\n",
        "        st.text(\"The price is {}\".format(restult))\n",
        "if __name__ == '__main__':\n",
        "    main()"
      ]
    },
    {
      "cell_type": "code",
      "execution_count": null,
      "metadata": {
        "colab": {
          "base_uri": "https://localhost:8080/"
        },
        "id": "a8907a0a",
        "outputId": "d50f58d7-72fe-4654-811c-ddb3acb9a4d2"
      },
      "outputs": [
        {
          "name": "stdout",
          "output_type": "stream",
          "text": [
            "\n",
            "Collecting usage statistics. To deactivate, set browser.gatherUsageStats to false.\n",
            "\u001b[0m\n",
            "\u001b[0m\n",
            "\u001b[34m\u001b[1m  You can now view your Streamlit app in your browser.\u001b[0m\n",
            "\u001b[0m\n",
            "\u001b[34m  Local URL: \u001b[0m\u001b[1mhttp://localhost:8501\u001b[0m\n",
            "\u001b[34m  Network URL: \u001b[0m\u001b[1mhttp://172.28.0.12:8501\u001b[0m\n",
            "\u001b[34m  External URL: \u001b[0m\u001b[1mhttp://34.73.129.1:8501\u001b[0m\n",
            "\u001b[0m\n"
          ]
        }
      ],
      "source": [
        "!streamlit run app.py"
      ]
    },
    {
      "cell_type": "code",
      "execution_count": null,
      "metadata": {
        "id": "31YI1L2uwV7y"
      },
      "outputs": [],
      "source": []
    }
  ],
  "metadata": {
    "colab": {
      "provenance": []
    },
    "kernelspec": {
      "display_name": "base",
      "language": "python",
      "name": "python3"
    },
    "language_info": {
      "codemirror_mode": {
        "name": "ipython",
        "version": 3
      },
      "file_extension": ".py",
      "mimetype": "text/x-python",
      "name": "python",
      "nbconvert_exporter": "python",
      "pygments_lexer": "ipython3",
      "version": "3.12.7"
    }
  },
  "nbformat": 4,
  "nbformat_minor": 0
}
